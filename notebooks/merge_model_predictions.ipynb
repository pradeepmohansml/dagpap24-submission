{
 "cells": [
  {
   "cell_type": "code",
   "execution_count": 1,
   "id": "0cc8c4ff-6225-4cd7-9cd6-f206e2618a5e",
   "metadata": {
    "tags": []
   },
   "outputs": [],
   "source": [
    "import pandas as pd\n",
    "import fastparquet"
   ]
  },
  {
   "cell_type": "markdown",
   "id": "cbbd42dd-f830-4a08-a14d-9d86d36e4928",
   "metadata": {},
   "source": [
    "## Testing why merging test_data has indexing issues"
   ]
  },
  {
   "cell_type": "code",
   "execution_count": 2,
   "id": "0259b6b8-001c-488c-9edf-3b7de6f3b49e",
   "metadata": {
    "tags": []
   },
   "outputs": [
    {
     "name": "stdout",
     "output_type": "stream",
     "text": [
      "(20000, 3)\n",
      "20000\n",
      "[0, 1, 2, 3, 4, 5, 6, 7, 8, 9, 10, 11, 12, 13, 14, 15, 16, 17, 18, 19, 20, 21, 22, 23, 24, 25, 26, 27, 28, 29, 30, 31, 32, 33, 34, 35, 36, 37, 38, 39, 40, 41, 42, 43, 44, 45, 46, 47, 48, 49]\n"
     ]
    }
   ],
   "source": [
    "# Read the test_data and read all the indexes in it\n",
    "test = pd.read_parquet('data/test_data.parquet', engine='fastparquet')\n",
    "print(test.shape)\n",
    "test_indexes = test.index.tolist()\n",
    "print(len(test_indexes))\n",
    "print(test_indexes[0:50])"
   ]
  },
  {
   "cell_type": "code",
   "execution_count": 3,
   "id": "d0704a33-6831-4214-af65-fedd12bda869",
   "metadata": {
    "tags": []
   },
   "outputs": [
    {
     "data": {
      "text/html": [
       "<div>\n",
       "<style scoped>\n",
       "    .dataframe tbody tr th:only-of-type {\n",
       "        vertical-align: middle;\n",
       "    }\n",
       "\n",
       "    .dataframe tbody tr th {\n",
       "        vertical-align: top;\n",
       "    }\n",
       "\n",
       "    .dataframe thead th {\n",
       "        text-align: right;\n",
       "    }\n",
       "</style>\n",
       "<table border=\"1\" class=\"dataframe\">\n",
       "  <thead>\n",
       "    <tr style=\"text-align: right;\">\n",
       "      <th></th>\n",
       "      <th>index</th>\n",
       "      <th>text</th>\n",
       "      <th>tokens</th>\n",
       "    </tr>\n",
       "  </thead>\n",
       "  <tbody>\n",
       "    <tr>\n",
       "      <th>0</th>\n",
       "      <td>14149</td>\n",
       "      <td>patient on a regular basis show with somatic s...</td>\n",
       "      <td>[patient, on, a, regular, basis, show, with, s...</td>\n",
       "    </tr>\n",
       "    <tr>\n",
       "      <th>1</th>\n",
       "      <td>8946</td>\n",
       "      <td>Hydropower is a great source of energy product...</td>\n",
       "      <td>[Hydropower, is, a, great, source, of, energy,...</td>\n",
       "    </tr>\n",
       "    <tr>\n",
       "      <th>2</th>\n",
       "      <td>22378</td>\n",
       "      <td>There has been an exponential growth in the cr...</td>\n",
       "      <td>[There, has, been, an, exponential, growth, in...</td>\n",
       "    </tr>\n",
       "    <tr>\n",
       "      <th>3</th>\n",
       "      <td>12162</td>\n",
       "      <td>Automotive and aerospace industries have putti...</td>\n",
       "      <td>[Automotive, and, aerospace, industries, have,...</td>\n",
       "    </tr>\n",
       "    <tr>\n",
       "      <th>4</th>\n",
       "      <td>4879</td>\n",
       "      <td>This paper contributes to attempts of reconsid...</td>\n",
       "      <td>[This, paper, contributes, to, attempts, of, r...</td>\n",
       "    </tr>\n",
       "  </tbody>\n",
       "</table>\n",
       "</div>"
      ],
      "text/plain": [
       "   index                                               text  \\\n",
       "0  14149  patient on a regular basis show with somatic s...   \n",
       "1   8946  Hydropower is a great source of energy product...   \n",
       "2  22378  There has been an exponential growth in the cr...   \n",
       "3  12162  Automotive and aerospace industries have putti...   \n",
       "4   4879  This paper contributes to attempts of reconsid...   \n",
       "\n",
       "                                              tokens  \n",
       "0  [patient, on, a, regular, basis, show, with, s...  \n",
       "1  [Hydropower, is, a, great, source, of, energy,...  \n",
       "2  [There, has, been, an, exponential, growth, in...  \n",
       "3  [Automotive, and, aerospace, industries, have,...  \n",
       "4  [This, paper, contributes, to, attempts, of, r...  "
      ]
     },
     "execution_count": 3,
     "metadata": {},
     "output_type": "execute_result"
    }
   ],
   "source": [
    "test.head()"
   ]
  },
  {
   "cell_type": "code",
   "execution_count": 4,
   "id": "eece3537-513d-4658-b8a8-8c0a436546c5",
   "metadata": {
    "tags": []
   },
   "outputs": [
    {
     "data": {
      "text/html": [
       "<div>\n",
       "<style scoped>\n",
       "    .dataframe tbody tr th:only-of-type {\n",
       "        vertical-align: middle;\n",
       "    }\n",
       "\n",
       "    .dataframe tbody tr th {\n",
       "        vertical-align: top;\n",
       "    }\n",
       "\n",
       "    .dataframe thead th {\n",
       "        text-align: right;\n",
       "    }\n",
       "</style>\n",
       "<table border=\"1\" class=\"dataframe\">\n",
       "  <thead>\n",
       "    <tr style=\"text-align: right;\">\n",
       "      <th></th>\n",
       "      <th>text</th>\n",
       "      <th>tokens</th>\n",
       "    </tr>\n",
       "    <tr>\n",
       "      <th>index</th>\n",
       "      <th></th>\n",
       "      <th></th>\n",
       "    </tr>\n",
       "  </thead>\n",
       "  <tbody>\n",
       "    <tr>\n",
       "      <th>14149</th>\n",
       "      <td>patient on a regular basis show with somatic s...</td>\n",
       "      <td>[patient, on, a, regular, basis, show, with, s...</td>\n",
       "    </tr>\n",
       "    <tr>\n",
       "      <th>8946</th>\n",
       "      <td>Hydropower is a great source of energy product...</td>\n",
       "      <td>[Hydropower, is, a, great, source, of, energy,...</td>\n",
       "    </tr>\n",
       "    <tr>\n",
       "      <th>22378</th>\n",
       "      <td>There has been an exponential growth in the cr...</td>\n",
       "      <td>[There, has, been, an, exponential, growth, in...</td>\n",
       "    </tr>\n",
       "    <tr>\n",
       "      <th>12162</th>\n",
       "      <td>Automotive and aerospace industries have putti...</td>\n",
       "      <td>[Automotive, and, aerospace, industries, have,...</td>\n",
       "    </tr>\n",
       "    <tr>\n",
       "      <th>4879</th>\n",
       "      <td>This paper contributes to attempts of reconsid...</td>\n",
       "      <td>[This, paper, contributes, to, attempts, of, r...</td>\n",
       "    </tr>\n",
       "  </tbody>\n",
       "</table>\n",
       "</div>"
      ],
      "text/plain": [
       "                                                    text  \\\n",
       "index                                                      \n",
       "14149  patient on a regular basis show with somatic s...   \n",
       "8946   Hydropower is a great source of energy product...   \n",
       "22378  There has been an exponential growth in the cr...   \n",
       "12162  Automotive and aerospace industries have putti...   \n",
       "4879   This paper contributes to attempts of reconsid...   \n",
       "\n",
       "                                                  tokens  \n",
       "index                                                     \n",
       "14149  [patient, on, a, regular, basis, show, with, s...  \n",
       "8946   [Hydropower, is, a, great, source, of, energy,...  \n",
       "22378  [There, has, been, an, exponential, growth, in...  \n",
       "12162  [Automotive, and, aerospace, industries, have,...  \n",
       "4879   [This, paper, contributes, to, attempts, of, r...  "
      ]
     },
     "execution_count": 4,
     "metadata": {},
     "output_type": "execute_result"
    }
   ],
   "source": [
    "test.set_index(\"index\", inplace=True)\n",
    "test.head()"
   ]
  },
  {
   "cell_type": "code",
   "execution_count": 5,
   "id": "4711e782-9d29-47e0-8eff-a766bf13242e",
   "metadata": {
    "tags": []
   },
   "outputs": [
    {
     "name": "stdout",
     "output_type": "stream",
     "text": [
      "(20000, 1)\n"
     ]
    },
    {
     "data": {
      "text/html": [
       "<div>\n",
       "<style scoped>\n",
       "    .dataframe tbody tr th:only-of-type {\n",
       "        vertical-align: middle;\n",
       "    }\n",
       "\n",
       "    .dataframe tbody tr th {\n",
       "        vertical-align: top;\n",
       "    }\n",
       "\n",
       "    .dataframe thead th {\n",
       "        text-align: right;\n",
       "    }\n",
       "</style>\n",
       "<table border=\"1\" class=\"dataframe\">\n",
       "  <thead>\n",
       "    <tr style=\"text-align: right;\">\n",
       "      <th></th>\n",
       "      <th>preds</th>\n",
       "    </tr>\n",
       "    <tr>\n",
       "      <th>index</th>\n",
       "      <th></th>\n",
       "    </tr>\n",
       "  </thead>\n",
       "  <tbody>\n",
       "    <tr>\n",
       "      <th>0</th>\n",
       "      <td>[1, 1, 1, 1, 1, 1, 1, 1, 1, 1, 1, 1, 1, 1, 1, ...</td>\n",
       "    </tr>\n",
       "    <tr>\n",
       "      <th>1</th>\n",
       "      <td>[0, 0, 0, 0, 0, 0, 0, 0, 0, 0, 0, 0, 0, 0, 0, ...</td>\n",
       "    </tr>\n",
       "    <tr>\n",
       "      <th>2</th>\n",
       "      <td>[0, 0, 0, 0, 0, 0, 0, 0, 0, 0, 0, 0, 0, 0, 0, ...</td>\n",
       "    </tr>\n",
       "    <tr>\n",
       "      <th>3</th>\n",
       "      <td>[0, 0, 0, 0, 0, 0, 0, 0, 0, 0, 0, 0, 0, 0, 0, ...</td>\n",
       "    </tr>\n",
       "    <tr>\n",
       "      <th>4</th>\n",
       "      <td>[2, 2, 2, 2, 2, 2, 2, 2, 2, 2, 2, 2, 2, 2, 2, ...</td>\n",
       "    </tr>\n",
       "  </tbody>\n",
       "</table>\n",
       "</div>"
      ],
      "text/plain": [
       "                                                   preds\n",
       "index                                                   \n",
       "0      [1, 1, 1, 1, 1, 1, 1, 1, 1, 1, 1, 1, 1, 1, 1, ...\n",
       "1      [0, 0, 0, 0, 0, 0, 0, 0, 0, 0, 0, 0, 0, 0, 0, ...\n",
       "2      [0, 0, 0, 0, 0, 0, 0, 0, 0, 0, 0, 0, 0, 0, 0, ...\n",
       "3      [0, 0, 0, 0, 0, 0, 0, 0, 0, 0, 0, 0, 0, 0, 0, ...\n",
       "4      [2, 2, 2, 2, 2, 2, 2, 2, 2, 2, 2, 2, 2, 2, 2, ..."
      ]
     },
     "execution_count": 5,
     "metadata": {},
     "output_type": "execute_result"
    }
   ],
   "source": [
    "scibert_preds_df = pd.read_parquet(f'data/test_data_predictions_scibert.parquet',\n",
    "                                         engine='fastparquet')\n",
    "print(scibert_preds_df.shape)\n",
    "scibert_preds_df.head()"
   ]
  },
  {
   "cell_type": "code",
   "execution_count": null,
   "id": "dbf4557d-9d78-4a74-87b9-e42857ed0bc7",
   "metadata": {},
   "outputs": [],
   "source": []
  },
  {
   "cell_type": "code",
   "execution_count": 6,
   "id": "ac8b4ed4-183e-4fcb-a0c4-85ace82ba59b",
   "metadata": {
    "tags": []
   },
   "outputs": [
    {
     "name": "stdout",
     "output_type": "stream",
     "text": [
      "(20000, 3)\n"
     ]
    }
   ],
   "source": [
    "merged_test_preds = scibert_preds_df.merge(test, left_index=True, right_index=True, how='inner')\n",
    "print(merged_test_preds.shape)"
   ]
  },
  {
   "cell_type": "code",
   "execution_count": null,
   "id": "7cf71ee0-2665-41f0-93e9-876c67f8e166",
   "metadata": {},
   "outputs": [],
   "source": [
    "_preds"
   ]
  },
  {
   "cell_type": "code",
   "execution_count": null,
   "id": "82881ca5-3d1b-4b0b-8a9b-b7cb388d97a4",
   "metadata": {},
   "outputs": [],
   "source": []
  },
  {
   "cell_type": "code",
   "execution_count": 3,
   "id": "480b17d9-0b0c-4d71-a52d-9d36af061ba2",
   "metadata": {
    "tags": []
   },
   "outputs": [],
   "source": [
    "def merge_test_model_predictions(model_list):\n",
    "    test_df = pd.read_parquet('data/test_data.parquet', engine='fastparquet')\n",
    "    if test_df.index.name != \"index\":\n",
    "        test_df.set_index(\"index\", inplace=True)\n",
    "\n",
    "    merged_df = None\n",
    "    for model in model_list:\n",
    "        test_preds_df = pd.read_parquet(f'data/test_data_predictions_{model}.parquet',\n",
    "                                         engine='fastparquet')\n",
    "        test_preds_df.rename(columns={'preds': f'{model}_preds'}, inplace=True)\n",
    "        \n",
    "        if merged_df is None:\n",
    "            merged_df = test_preds_df.copy(deep=True)\n",
    "        else:\n",
    "            merged_df = merged_df.merge(test_preds_df, how='inner', left_index=True, right_index=True)\n",
    "        print(merged_df.shape)\n",
    "\n",
    "    merged_test_preds = merged_df.merge(test_df, left_index=True, right_index=True, how='inner')\n",
    "    print(f\"Final Merged File Shape = {merged_test_preds.shape}\")\n",
    "    merged_test_preds.to_parquet('data/merged_test_predictions.parquet')\n",
    "    \n",
    "    return merged_test_preds\n"
   ]
  },
  {
   "cell_type": "code",
   "execution_count": null,
   "id": "46cffa0a-6a97-42e3-a952-5b3e4150cff4",
   "metadata": {
    "tags": []
   },
   "outputs": [],
   "source": [
    "%%time\n",
    "merge_test_model_predictions(['scibert', 'roberta'])"
   ]
  },
  {
   "cell_type": "code",
   "execution_count": null,
   "id": "c70da700-a375-48f8-8752-7907a89e9fda",
   "metadata": {},
   "outputs": [],
   "source": []
  },
  {
   "cell_type": "code",
   "execution_count": null,
   "id": "d5b0a80b-432c-48d1-80cc-2b5619773bb2",
   "metadata": {},
   "outputs": [],
   "source": []
  },
  {
   "cell_type": "code",
   "execution_count": null,
   "id": "492c38fa-9727-4a20-861f-da079bcd7739",
   "metadata": {},
   "outputs": [],
   "source": []
  },
  {
   "cell_type": "code",
   "execution_count": 1,
   "id": "a70b3702-8f22-4971-a2d5-0c18d3549591",
   "metadata": {
    "tags": []
   },
   "outputs": [],
   "source": [
    "import pandas as pd\n",
    "import fastparquet\n",
    "\n",
    "\n",
    "def merge_test_model_predictions(model_list):\n",
    "    test_df = pd.read_parquet('data/test_data.parquet', engine='fastparquet')\n",
    "    if test_df.index.name != \"index\":\n",
    "        test_df.set_index(\"index\", inplace=True)\n",
    "\n",
    "    merged_df = None\n",
    "    for model in model_list:\n",
    "        test_preds_df = pd.read_parquet(f'data/test_data_predictions_{model}.parquet',\n",
    "                                         engine='fastparquet')\n",
    "        test_preds_df.rename(columns={'preds': f'{model}_preds'}, inplace=True)\n",
    "        \n",
    "        if merged_df is None:\n",
    "            merged_df = test_preds_df.copy(deep=True)\n",
    "        else:\n",
    "            merged_df = merged_df.merge(test_preds_df, how='inner', left_index=True, right_index=True)\n",
    "        print(merged_df.shape)\n",
    "\n",
    "    merged_test_preds = merged_df.merge(test_df, left_index=True, right_index=True, how='inner')\n",
    "    print(f\"Final Merged File Shape = {merged_test_preds.shape}\")\n",
    "    merged_test_preds.to_parquet('data/merged_test_predictions.parquet')\n",
    "    print(\"NAs in final merged file\")\n",
    "    print(merged_test_preds.isna())\n",
    "    \n",
    "    return merged_test_preds\n"
   ]
  },
  {
   "cell_type": "code",
   "execution_count": 2,
   "id": "246f7813-64f7-4a07-83b5-25e315ca66dd",
   "metadata": {
    "tags": []
   },
   "outputs": [
    {
     "name": "stdout",
     "output_type": "stream",
     "text": [
      "['roberta', 'scibert', 'deberta']\n",
      "(20000, 1)\n",
      "(20000, 2)\n",
      "(20000, 3)\n",
      "Final Merged File Shape = (20000, 5)\n",
      "NAs in final merged file\n",
      "       roberta_preds  scibert_preds  deberta_preds   text  tokens\n",
      "index                                                            \n",
      "0              False          False          False  False   False\n",
      "1              False          False          False  False   False\n",
      "2              False          False          False  False   False\n",
      "3              False          False          False  False   False\n",
      "4              False          False          False  False   False\n",
      "...              ...            ...            ...    ...     ...\n",
      "24995          False          False          False  False   False\n",
      "24996          False          False          False  False   False\n",
      "24997          False          False          False  False   False\n",
      "24998          False          False          False  False   False\n",
      "24999          False          False          False  False   False\n",
      "\n",
      "[20000 rows x 5 columns]\n"
     ]
    }
   ],
   "source": [
    "\n",
    "# To merge the test prediction files\n",
    "contesting_models = ['roberta', 'scibert', 'deberta', 'biomed_roberta', 'cs_roberta']\n",
    "model_list = contesting_models[:3]\n",
    "print(model_list)\n",
    "test_pred_df = merge_test_model_predictions(model_list)"
   ]
  },
  {
   "cell_type": "code",
   "execution_count": null,
   "id": "e02b4a4b-54b2-4f45-b162-3f4c91c9a6f6",
   "metadata": {},
   "outputs": [],
   "source": []
  }
 ],
 "metadata": {
  "kernelspec": {
   "display_name": "conda_python3",
   "language": "python",
   "name": "conda_python3"
  },
  "language_info": {
   "codemirror_mode": {
    "name": "ipython",
    "version": 3
   },
   "file_extension": ".py",
   "mimetype": "text/x-python",
   "name": "python",
   "nbconvert_exporter": "python",
   "pygments_lexer": "ipython3",
   "version": "3.10.13"
  }
 },
 "nbformat": 4,
 "nbformat_minor": 5
}
