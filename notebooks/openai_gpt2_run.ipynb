{
 "cells": [
  {
   "cell_type": "code",
   "execution_count": null,
   "id": "1550fd68-aa39-44ea-b3cd-0ef9597d6af5",
   "metadata": {
    "tags": []
   },
   "outputs": [],
   "source": [
    "from dagpap24_openaigpt2 import main as openaigpt2_model"
   ]
  },
  {
   "cell_type": "code",
   "execution_count": null,
   "id": "b428025b-21ad-4a78-9b44-7b0e68e2166f",
   "metadata": {
    "tags": []
   },
   "outputs": [],
   "source": [
    "%tb\n",
    "openaigpt2_model()"
   ]
  },
  {
   "cell_type": "code",
   "execution_count": 1,
   "id": "61fc9bfe-aeaf-4369-8fed-909674b73f46",
   "metadata": {},
   "outputs": [
    {
     "name": "stdout",
     "output_type": "stream",
     "text": [
      "/home/ec2-user/SageMaker/dagpap24-submission/notebooks/data/openai_gpt2.zip\n"
     ]
    }
   ],
   "source": [
    "import shutil \n",
    "import os.path\n",
    "archived = shutil.make_archive('data/openai_gpt2', 'zip', 'data/output_dev_openaigpt2')\n",
    "if os.path.exists('data/openai_gpt2.zip'):\n",
    "    print(archived) \n",
    "else: \n",
    "    print(\"ZIP file not created\")"
   ]
  },
  {
   "cell_type": "code",
   "execution_count": null,
   "id": "e9e69e14-0f52-4ad4-bffa-db761073cf2a",
   "metadata": {},
   "outputs": [],
   "source": []
  }
 ],
 "metadata": {
  "kernelspec": {
   "display_name": "conda_python3",
   "language": "python",
   "name": "conda_python3"
  },
  "language_info": {
   "codemirror_mode": {
    "name": "ipython",
    "version": 3
   },
   "file_extension": ".py",
   "mimetype": "text/x-python",
   "name": "python",
   "nbconvert_exporter": "python",
   "pygments_lexer": "ipython3",
   "version": "3.10.13"
  }
 },
 "nbformat": 4,
 "nbformat_minor": 5
}
