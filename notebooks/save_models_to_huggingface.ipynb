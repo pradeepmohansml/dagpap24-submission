{
 "cells": [
  {
   "cell_type": "code",
   "execution_count": 9,
   "id": "01588c76-ff5e-449e-b5f9-cc3af8427bd6",
   "metadata": {
    "tags": []
   },
   "outputs": [],
   "source": [
    "import os\n",
    "import pathlib\n",
    "\n",
    "from transformers import AutoModelForTokenClassification\n",
    "from transformers import RobertaTokenizerFast, DebertaV2TokenizerFast, AutoTokenizer"
   ]
  },
  {
   "cell_type": "code",
   "execution_count": null,
   "id": "e3972f4b-8baf-40ed-bcc9-833fe2cca8e5",
   "metadata": {},
   "outputs": [],
   "source": []
  },
  {
   "cell_type": "code",
   "execution_count": 2,
   "id": "407e96e0-e36d-4697-8513-a57adf40c784",
   "metadata": {
    "tags": []
   },
   "outputs": [
    {
     "name": "stdout",
     "output_type": "stream",
     "text": [
      "/home/ec2-user/SageMaker/dagpap24-submission/notebooks\n"
     ]
    }
   ],
   "source": [
    "parent_directory = os.getcwd()\n",
    "print(parent_directory)"
   ]
  },
  {
   "cell_type": "code",
   "execution_count": 3,
   "id": "173c07ce-3872-4446-a522-4f4a8e284590",
   "metadata": {
    "tags": []
   },
   "outputs": [],
   "source": [
    "contesting_models = ['roberta', 'scibert', 'deberta', 'biomed_roberta']"
   ]
  },
  {
   "cell_type": "code",
   "execution_count": 10,
   "id": "4dab1b15-2579-4329-84bb-43f5322c9ff1",
   "metadata": {
    "tags": []
   },
   "outputs": [
    {
     "name": "stdout",
     "output_type": "stream",
     "text": [
      "roberta\n",
      "Saving roberta tokenizer\n",
      "scibert\n"
     ]
    },
    {
     "data": {
      "application/vnd.jupyter.widget-view+json": {
       "model_id": "f8fb85ca53754a1796f8dadc9e369d7e",
       "version_major": 2,
       "version_minor": 0
      },
      "text/plain": [
       "README.md:   0%|          | 0.00/160 [00:00<?, ?B/s]"
      ]
     },
     "metadata": {},
     "output_type": "display_data"
    },
    {
     "name": "stdout",
     "output_type": "stream",
     "text": [
      "Saving scibert tokenizer\n"
     ]
    },
    {
     "data": {
      "application/vnd.jupyter.widget-view+json": {
       "model_id": "36365dc5b82d47dbb2c061fa7204d7a4",
       "version_major": 2,
       "version_minor": 0
      },
      "text/plain": [
       "config.json:   0%|          | 0.00/385 [00:00<?, ?B/s]"
      ]
     },
     "metadata": {},
     "output_type": "display_data"
    },
    {
     "data": {
      "application/vnd.jupyter.widget-view+json": {
       "model_id": "006fdb12aca24878b2cb742d9c08439c",
       "version_major": 2,
       "version_minor": 0
      },
      "text/plain": [
       "vocab.txt:   0%|          | 0.00/228k [00:00<?, ?B/s]"
      ]
     },
     "metadata": {},
     "output_type": "display_data"
    },
    {
     "name": "stdout",
     "output_type": "stream",
     "text": [
      "deberta\n"
     ]
    },
    {
     "data": {
      "application/vnd.jupyter.widget-view+json": {
       "model_id": "995e0e673bc24fd6b0dfc9a1d83f1df3",
       "version_major": 2,
       "version_minor": 0
      },
      "text/plain": [
       "README.md:   0%|          | 0.00/5.17k [00:00<?, ?B/s]"
      ]
     },
     "metadata": {},
     "output_type": "display_data"
    },
    {
     "name": "stdout",
     "output_type": "stream",
     "text": [
      "Saving deberta tokenizer\n"
     ]
    },
    {
     "data": {
      "application/vnd.jupyter.widget-view+json": {
       "model_id": "466d646b9e1446df9f258eb2223c0889",
       "version_major": 2,
       "version_minor": 0
      },
      "text/plain": [
       "tokenizer_config.json:   0%|          | 0.00/52.0 [00:00<?, ?B/s]"
      ]
     },
     "metadata": {},
     "output_type": "display_data"
    },
    {
     "data": {
      "application/vnd.jupyter.widget-view+json": {
       "model_id": "37cb57bdbbed407492cc2231cd8bb4e1",
       "version_major": 2,
       "version_minor": 0
      },
      "text/plain": [
       "spm.model:   0%|          | 0.00/2.46M [00:00<?, ?B/s]"
      ]
     },
     "metadata": {},
     "output_type": "display_data"
    },
    {
     "data": {
      "application/vnd.jupyter.widget-view+json": {
       "model_id": "7ae41181be1c480ca76630ef741a7a9d",
       "version_major": 2,
       "version_minor": 0
      },
      "text/plain": [
       "config.json:   0%|          | 0.00/579 [00:00<?, ?B/s]"
      ]
     },
     "metadata": {},
     "output_type": "display_data"
    },
    {
     "name": "stderr",
     "output_type": "stream",
     "text": [
      "/home/ec2-user/anaconda3/envs/python3/lib/python3.10/site-packages/transformers/convert_slow_tokenizer.py:550: UserWarning: The sentencepiece tokenizer that you are converting to a fast tokenizer uses the byte fallback option which is not implemented in the fast tokenizers. In practice this means that the fast version of the tokenizer can produce unknown tokens whereas the sentencepiece version would have converted these unknown tokens into a sequence of byte tokens matching the original piece of text.\n",
      "  warnings.warn(\n"
     ]
    },
    {
     "data": {
      "application/vnd.jupyter.widget-view+json": {
       "model_id": "4b346dc72bb14a76a609862a4a9d492a",
       "version_major": 2,
       "version_minor": 0
      },
      "text/plain": [
       "spm.model:   0%|          | 0.00/2.46M [00:00<?, ?B/s]"
      ]
     },
     "metadata": {},
     "output_type": "display_data"
    },
    {
     "name": "stdout",
     "output_type": "stream",
     "text": [
      "biomed_roberta\n"
     ]
    },
    {
     "data": {
      "application/vnd.jupyter.widget-view+json": {
       "model_id": "2e6d3196380041aebc1385f1a6742a85",
       "version_major": 2,
       "version_minor": 0
      },
      "text/plain": [
       "README.md:   0%|          | 0.00/5.17k [00:00<?, ?B/s]"
      ]
     },
     "metadata": {},
     "output_type": "display_data"
    },
    {
     "name": "stdout",
     "output_type": "stream",
     "text": [
      "Saving biomed_roberta tokenizer\n"
     ]
    },
    {
     "data": {
      "application/vnd.jupyter.widget-view+json": {
       "model_id": "bbce72e311cf427f9e4bb88ab47d7f14",
       "version_major": 2,
       "version_minor": 0
      },
      "text/plain": [
       "tokenizer_config.json:   0%|          | 0.00/25.0 [00:00<?, ?B/s]"
      ]
     },
     "metadata": {},
     "output_type": "display_data"
    },
    {
     "data": {
      "application/vnd.jupyter.widget-view+json": {
       "model_id": "8aa06b3e3032410980ee3a644ac959f4",
       "version_major": 2,
       "version_minor": 0
      },
      "text/plain": [
       "vocab.json:   0%|          | 0.00/899k [00:00<?, ?B/s]"
      ]
     },
     "metadata": {},
     "output_type": "display_data"
    },
    {
     "data": {
      "application/vnd.jupyter.widget-view+json": {
       "model_id": "2dbc52ea1cf349799db5a7d0ec0896a4",
       "version_major": 2,
       "version_minor": 0
      },
      "text/plain": [
       "merges.txt:   0%|          | 0.00/456k [00:00<?, ?B/s]"
      ]
     },
     "metadata": {},
     "output_type": "display_data"
    },
    {
     "data": {
      "application/vnd.jupyter.widget-view+json": {
       "model_id": "5938b9f983e24192a62228e3d00aafe5",
       "version_major": 2,
       "version_minor": 0
      },
      "text/plain": [
       "tokenizer.json:   0%|          | 0.00/1.36M [00:00<?, ?B/s]"
      ]
     },
     "metadata": {},
     "output_type": "display_data"
    },
    {
     "data": {
      "application/vnd.jupyter.widget-view+json": {
       "model_id": "c272aa3efc7643b29722893ce97f26f3",
       "version_major": 2,
       "version_minor": 0
      },
      "text/plain": [
       "config.json:   0%|          | 0.00/481 [00:00<?, ?B/s]"
      ]
     },
     "metadata": {},
     "output_type": "display_data"
    }
   ],
   "source": [
    "for model in contesting_models:\n",
    "    print(model)\n",
    "    model_path = f'{parent_directory}/data/output_dev_{model}'\n",
    "    trained_model = AutoModelForTokenClassification.from_pretrained(model_path)\n",
    "    trained_model.push_to_hub(f'TheOptimusPrimes/{model}-finetuned-dagpap24',\n",
    "                          f\"Pushing {model} fine-tuned model\", private=True)\n",
    "    \n",
    "    if model in ['roberta', 'biomed_roberta']:\n",
    "        print(f\"Saving {model} tokenizer\")\n",
    "        # Save the tokenizers for each model\n",
    "        tokenizer = RobertaTokenizerFast.from_pretrained(\n",
    "                'FacebookAI/roberta-base',\n",
    "                cache_dir=model_path,\n",
    "                use_fast=True,\n",
    "                revision=\"main\",\n",
    "                use_auth_token=None,\n",
    "                add_prefix_space=True,\n",
    "            )\n",
    "        tokenizer.pad_token = tokenizer.eos_token\n",
    "    elif model == 'deberta':\n",
    "        print(f\"Saving {model} tokenizer\")\n",
    "        tokenizer = DebertaV2TokenizerFast.from_pretrained(\n",
    "            'microsoft/deberta-v3-base', \n",
    "            cache_dir=model_path,\n",
    "            use_fast=True,\n",
    "            revision=\"main\",\n",
    "            use_auth_token=None,\n",
    "            add_prefix_space=True,\n",
    "        )\n",
    "        tokenizer.pad_token = tokenizer.eos_token\n",
    "    elif model == 'scibert':\n",
    "        print(f\"Saving {model} tokenizer\")\n",
    "        tokenizer = AutoTokenizer.from_pretrained(\n",
    "            'allenai/scibert_scivocab_uncased',\n",
    "            cache_dir=model_path,\n",
    "            use_fast=True,\n",
    "            revision=\"main\",\n",
    "            use_auth_token=None,\n",
    "            add_prefix_space=True,\n",
    "        )\n",
    "    tokenizer.push_to_hub(f'TheOptimusPrimes/{model}-finetuned-dagpap24',\n",
    "                          f\"Pushing {model} fast tokenizer\")"
   ]
  },
  {
   "cell_type": "code",
   "execution_count": null,
   "id": "87c6fbdb-9dc6-4a29-b47b-114073cb5647",
   "metadata": {},
   "outputs": [],
   "source": []
  },
  {
   "cell_type": "code",
   "execution_count": null,
   "id": "d9bdda49-4a0b-49f8-89d3-0f7778174d16",
   "metadata": {},
   "outputs": [],
   "source": []
  },
  {
   "cell_type": "code",
   "execution_count": null,
   "id": "8448656f-1cd5-4463-ba21-3d12845b64bb",
   "metadata": {},
   "outputs": [],
   "source": []
  },
  {
   "cell_type": "code",
   "execution_count": null,
   "id": "a4442627-5ec5-4c56-9180-58bd6700ec6c",
   "metadata": {},
   "outputs": [],
   "source": []
  },
  {
   "cell_type": "code",
   "execution_count": null,
   "id": "60b50464-a10a-4548-94b0-cd08b10759b1",
   "metadata": {},
   "outputs": [],
   "source": []
  }
 ],
 "metadata": {
  "kernelspec": {
   "display_name": "conda_python3",
   "language": "python",
   "name": "conda_python3"
  },
  "language_info": {
   "codemirror_mode": {
    "name": "ipython",
    "version": 3
   },
   "file_extension": ".py",
   "mimetype": "text/x-python",
   "name": "python",
   "nbconvert_exporter": "python",
   "pygments_lexer": "ipython3",
   "version": "3.10.13"
  }
 },
 "nbformat": 4,
 "nbformat_minor": 5
}
