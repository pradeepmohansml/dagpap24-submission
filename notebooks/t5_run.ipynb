{
 "cells": [
  {
   "cell_type": "code",
   "execution_count": null,
   "id": "1550fd68-aa39-44ea-b3cd-0ef9597d6af5",
   "metadata": {
    "tags": []
   },
   "outputs": [],
   "source": [
    "from dagpap24_t5 import main as t5_model"
   ]
  },
  {
   "cell_type": "code",
   "execution_count": null,
   "id": "b428025b-21ad-4a78-9b44-7b0e68e2166f",
   "metadata": {
    "tags": []
   },
   "outputs": [],
   "source": [
    "%tb\n",
    "t5_model()"
   ]
  },
  {
   "cell_type": "code",
   "execution_count": 1,
   "id": "61fc9bfe-aeaf-4369-8fed-909674b73f46",
   "metadata": {
    "tags": []
   },
   "outputs": [
    {
     "name": "stderr",
     "output_type": "stream",
     "text": [
      "No traceback available to show.\n",
      "2024-04-23 00:40:53,151 - INFO - Original Test Data Path: /home/ec2-user/SageMaker/dagpap24-submission/notebooks/data/dev_data.parquet\n",
      "2024-04-23 00:40:53,151 - INFO - Test Set Predictions path:/home/ec2-user/SageMaker/dagpap24-submission/notebooks/data/output_dev_t5/test_predictions_t5.json\n",
      "2024-04-23 00:40:53,152 - INFO - Final Output Path:/home/ec2-user/SageMaker/dagpap24-submission/notebooks/data/predictions_t5.parquet\n",
      "2024-04-23 00:40:56,902 - INFO - Original Test Data Loaded, (5000, 2)\n",
      "2024-04-23 00:40:58,987 - INFO - Original Test DF = Index(['text', 'tokens'], dtype='object'),                   Index Range = 24994, 0,                  Original Test DF Shape = (5000, 2)\n",
      "2024-04-23 00:40:58,988 - INFO - Predicted DF before apply = Index(['predictions'], dtype='object')\n",
      "2024-04-23 00:40:59,418 - INFO - Predicted DF after apply Info\n",
      "2024-04-23 00:40:59,419 - INFO - Predictions after DF = Index(['predictions', 'preds'], dtype='object'),                   Index Range = 24994, 0,                  Original Test DF Shape = (5000, 2)\n"
     ]
    },
    {
     "name": "stdout",
     "output_type": "stream",
     "text": [
      "final dataset saved to /home/ec2-user/SageMaker/dagpap24-submission/notebooks/data/predictions_t5.parquet\n"
     ]
    }
   ],
   "source": [
    "%tb\n",
    "from dagpap24_t5 import predictions_sanity_check\n",
    "predictions_sanity_check()"
   ]
  },
  {
   "cell_type": "code",
   "execution_count": null,
   "id": "e322e5f4-8d44-405a-af56-9ab12a949079",
   "metadata": {},
   "outputs": [],
   "source": []
  }
 ],
 "metadata": {
  "kernelspec": {
   "display_name": "conda_python3",
   "language": "python",
   "name": "conda_python3"
  },
  "language_info": {
   "codemirror_mode": {
    "name": "ipython",
    "version": 3
   },
   "file_extension": ".py",
   "mimetype": "text/x-python",
   "name": "python",
   "nbconvert_exporter": "python",
   "pygments_lexer": "ipython3",
   "version": "3.10.13"
  }
 },
 "nbformat": 4,
 "nbformat_minor": 5
}
