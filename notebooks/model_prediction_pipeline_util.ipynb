{
 "cells": [
  {
   "cell_type": "code",
   "execution_count": 1,
   "id": "00eb12cd-92de-4735-bb71-d7591b8f4269",
   "metadata": {
    "tags": []
   },
   "outputs": [],
   "source": [
    "import os\n",
    "import pathlib\n",
    "import pandas as pd\n",
    "import ast\n",
    "import json\n",
    "import numpy as np\n",
    "from pathlib import Path\n",
    "import fastparquet\n",
    "from tqdm.auto import tqdm"
   ]
  },
  {
   "cell_type": "code",
   "execution_count": 2,
   "id": "1f97d507-f3a3-4160-8b0b-f60b57c6ec39",
   "metadata": {
    "tags": []
   },
   "outputs": [],
   "source": [
    "import logging\n",
    "\n",
    "logger = logging.getLogger(__name__)"
   ]
  },
  {
   "cell_type": "code",
   "execution_count": 3,
   "id": "7a41dc76-0d68-4978-b9d3-3e1bb0ab2764",
   "metadata": {
    "tags": []
   },
   "outputs": [],
   "source": [
    "from datasets import ClassLabel, load_dataset\n",
    "from transformers import AutoTokenizer, AutoModelForTokenClassification\n",
    "from transformers import DataCollatorForTokenClassification\n",
    "from transformers import Trainer\n",
    "import evaluate"
   ]
  },
  {
   "cell_type": "code",
   "execution_count": 19,
   "id": "0b67c8ac-0f75-4dd2-bd62-329088f116f7",
   "metadata": {
    "tags": []
   },
   "outputs": [],
   "source": [
    "from sklearn.metrics import f1_score"
   ]
  },
  {
   "cell_type": "code",
   "execution_count": 4,
   "id": "b65eb321-7dc6-4535-9bc5-f26e743f054d",
   "metadata": {},
   "outputs": [],
   "source": [
    "## Note: The test file is expected as <parent_directory>/data/test_data.parquet\n",
    "\n",
    "# TODO: Should we do literal_eval on the test data?"
   ]
  },
  {
   "cell_type": "code",
   "execution_count": 18,
   "id": "aba5206a-4bd3-4f2b-8771-33bfab45b8f6",
   "metadata": {
    "tags": []
   },
   "outputs": [],
   "source": [
    "contesting_models = ['roberta', 'scibert', 'deberta', 'biomed_roberta', 'cs_roberta']"
   ]
  },
  {
   "cell_type": "code",
   "execution_count": null,
   "id": "4fbe1239-3cd4-434d-ab5f-185a7ab37838",
   "metadata": {
    "tags": []
   },
   "outputs": [],
   "source": []
  },
  {
   "cell_type": "markdown",
   "id": "8380e169-44d6-4fd6-9150-3890cc089d7d",
   "metadata": {},
   "source": [
    "## Functions to be called in the order of execution:\n",
    "0. Save the test file as notebooks/data/test_data.parquet\n",
    "1. pre_process_test_file(model_name)\n",
    "2. get_pretrained_models(config_params, my_datasets)\n",
    "3. make_and_save_predictions()\n",
    "4. post_process_prediction()\n"
   ]
  },
  {
   "cell_type": "code",
   "execution_count": null,
   "id": "236fbf03-be9f-4f45-9a1b-d8357374f3a9",
   "metadata": {},
   "outputs": [],
   "source": []
  },
  {
   "cell_type": "code",
   "execution_count": 6,
   "id": "f69c5883-c66a-4c98-b92f-67e9b0cab69a",
   "metadata": {
    "tags": []
   },
   "outputs": [],
   "source": [
    "def model_pipeline(model_name, filename):\n",
    "    config = get_config_params(model_name, filename)\n",
    "    test_datasets = pre_process_test_file(model_name, config)\n",
    "    trainer, test_dataset = get_pretrained_models(config, test_datasets)\n",
    "    make_and_save_predictions(trainer, test_dataset, config)\n",
    "    post_process_prediction(config)"
   ]
  },
  {
   "cell_type": "code",
   "execution_count": null,
   "id": "5771bebe-0b8a-4217-b758-46da161664c9",
   "metadata": {},
   "outputs": [],
   "source": []
  },
  {
   "cell_type": "code",
   "execution_count": 7,
   "id": "289b2d8d-8b35-4bcd-967a-e118f5a6b37d",
   "metadata": {
    "tags": []
   },
   "outputs": [],
   "source": [
    "def get_config_params(model_name, filename):\n",
    "    config = {'max_length': 512, 'parent_directory': os.getcwd(),\n",
    "             'test_filepath': f'data/{filename}.parquet', 'model_name': model_name, \n",
    "              'json_test_filepath': f'data/data_gen_content_{filename}_{model_name}.json',\n",
    "              'intermediate_extension': 'json', 'label_column_name': 'ner_tags',\n",
    "              'label_list': ['0', '1', '2', '3'], 'label_to_id': {'0': 0, '1': 1, '2': 2, '3': 3},\n",
    "              'padding': \"max_length\", 'batched': True, 'num_proc': 16,\n",
    "              'metric': evaluate.load(\"f1\"), 'return_entity_level_metrics': False,\n",
    "              'output_json_predictions_file': f\"data/{filename}_finetuned_predictions_{model_name}.json\",\n",
    "              'output_parquet_predictions_file': f\"data/{filename}_predictions_{model_name}.parquet\",\n",
    "             }\n",
    " \n",
    "    return config"
   ]
  },
  {
   "cell_type": "code",
   "execution_count": 8,
   "id": "3b745cf0-4bab-4b73-b071-da9543a04e01",
   "metadata": {
    "tags": []
   },
   "outputs": [],
   "source": [
    "def pre_process_test_file(model_name, config_params):\n",
    "    convert_parquet_data_to_json(config_params['parent_directory'], config_params['test_filepath'], \n",
    "                                 config_params['json_test_filepath'], config_params)\n",
    "    # Load the test data set\n",
    "    my_datasets = load_dataset(config_params['intermediate_extension'],\n",
    "                               data_files={'test': config_params['json_test_filepath']})\n",
    "    return my_datasets"
   ]
  },
  {
   "cell_type": "code",
   "execution_count": 9,
   "id": "d1155c8a-9cca-431d-8cb2-fbf0ed5b0c94",
   "metadata": {
    "tags": []
   },
   "outputs": [],
   "source": [
    "def get_pretrained_models(config_params, my_datasets):\n",
    "    model_name = config_params['model_name']\n",
    "    logger.info(f\"Loading the model and tokenizer from fine tuned model {model_name}\")\n",
    "    \n",
    "    finetuned_tokenizer = AutoTokenizer.from_pretrained(f\"TheOptimusPrimes/{model_name}-finetuned-dagpap24\")\n",
    "    finetuned_model = AutoModelForTokenClassification.from_pretrained(f\"TheOptimusPrimes/{model_name}-finetuned-dagpap24\")\n",
    "    \n",
    "    # Tokenize all texts and align the labels with them.\n",
    "    def tokenize_and_align_labels(examples):\n",
    "        if type(examples['tokens'][0]) is bytes:\n",
    "            logger.info(\"Converting list of bytes to list of string\")\n",
    "            examples[\"tokens\"] = [ast.literal_eval(x.decode()) for x in examples['tokens']]\n",
    "\n",
    "        tokenized_inputs = finetuned_tokenizer(\n",
    "            examples['tokens'],\n",
    "            padding=config_params['padding'],\n",
    "            truncation=True,\n",
    "            max_length=config_params['max_length'],\n",
    "            # We use this argument because the texts in our dataset are lists\n",
    "            # of words (with a label for each word).\n",
    "            is_split_into_words=True,\n",
    "        )\n",
    "        labels = []\n",
    "        for i, label in enumerate(examples['ner_tags']):\n",
    "            word_ids = tokenized_inputs.word_ids(batch_index=i)\n",
    "            previous_word_idx = None\n",
    "            label_ids = []\n",
    "            for word_idx in word_ids:\n",
    "                # Special tokens have a word id that is None. We set the label\n",
    "                # to -100 so they are automatically\n",
    "                # ignored in the loss function.\n",
    "                if word_idx is None:\n",
    "                    label_ids.append(-100)\n",
    "                # We set the label for the first token of each word.\n",
    "                elif word_idx != previous_word_idx:\n",
    "                    label_ids.append(config_params['label_to_id'][label[word_idx]])\n",
    "                # For the other tokens in a word, we set the label\n",
    "                # to either the current label or -100, depending on\n",
    "                # the label_all_tokens flag.\n",
    "                else:\n",
    "                    label_ids.append(\n",
    "                        config_params['label_to_id'][label[word_idx]]\n",
    "                        # if data_args.label_all_tokens\n",
    "                        if False\n",
    "                        else -100\n",
    "                    )\n",
    "                previous_word_idx = word_idx\n",
    "\n",
    "            labels.append(label_ids)\n",
    "        tokenized_inputs[\"labels\"] = labels\n",
    "        return tokenized_inputs\n",
    "    \n",
    "    \n",
    "    def compute_metrics(p):\n",
    "        predictions, labels = p\n",
    "        predictions = np.argmax(predictions, axis=2)\n",
    "\n",
    "        merged_predictions = [\n",
    "            config_params['label_list'][p]\n",
    "            for (p, l) in zip(predictions.flatten(), labels.flatten())\n",
    "            if l != -100\n",
    "        ]\n",
    "        merged_labels = [\n",
    "            config_params['label_list'][l]\n",
    "            for (p, l) in zip(predictions.flatten(), labels.flatten())\n",
    "            if l != -100\n",
    "        ]\n",
    "\n",
    "        results = config_params['metric'].compute(\n",
    "            predictions=merged_predictions,\n",
    "            references=merged_labels,\n",
    "            average=\"macro\",\n",
    "        )\n",
    "\n",
    "        if config_params['return_entity_level_metrics']:\n",
    "\n",
    "            # Unpack nested dictionaries\n",
    "            final_results = {}\n",
    "            for key, value in results.items():\n",
    "                if isinstance(value, dict):\n",
    "                    for n, v in value.items():\n",
    "                        final_results[f\"{key}_{n}\"] = v\n",
    "                else:\n",
    "                    final_results[key] = value\n",
    "            return final_results\n",
    "        else:\n",
    "            return {\n",
    "                \"f1\": results[\"f1\"],\n",
    "            }\n",
    "    \n",
    "    test_dataset = my_datasets[\"test\"]\n",
    "    test_dataset = test_dataset.map(\n",
    "        tokenize_and_align_labels,\n",
    "        batched=config_params['batched'],\n",
    "        num_proc=config_params['num_proc'],\n",
    "        # load_from_cache_file=not data_args.overwrite_cache,\n",
    "        load_from_cache_file=False,\n",
    "    )\n",
    "    \n",
    "    data_collator = DataCollatorForTokenClassification(\n",
    "        finetuned_tokenizer, pad_to_multiple_of=None\n",
    "    )\n",
    "\n",
    "    trainer = Trainer(\n",
    "        model=finetuned_model,\n",
    "        tokenizer=finetuned_tokenizer,\n",
    "        data_collator=data_collator,\n",
    "        compute_metrics=compute_metrics,\n",
    "    )\n",
    "    \n",
    "    return trainer, test_dataset"
   ]
  },
  {
   "cell_type": "code",
   "execution_count": 10,
   "id": "bb66662d-06c1-4fd6-9126-399e84c4116b",
   "metadata": {
    "tags": []
   },
   "outputs": [],
   "source": [
    "def make_and_save_predictions(my_trainer, test_dataset, config_params):\n",
    "    # Run the predictions on the model that was finetuned\n",
    "    predictions, labels, metrics = my_trainer.predict(test_dataset)\n",
    "    predictions = np.argmax(predictions, axis=2)\n",
    "\n",
    "    # Remove ignored index (special tokens)\n",
    "    true_predictions = [\n",
    "        [config_params['label_list'][p] for (p, l) in zip(prediction, label) if l != -100]\n",
    "        for prediction, label in zip(predictions, labels)\n",
    "    ]\n",
    "    \n",
    "    assert len(predictions) == len(test_dataset)\n",
    "    data_list = []\n",
    "    for i in range(len(predictions)):\n",
    "        data_list.append(\n",
    "            {\n",
    "                \"index\": test_dataset[i][\"index\"],\n",
    "                \"predictions\": predictions[i].tolist(),\n",
    "            }\n",
    "        )\n",
    "    with open(config_params['output_json_predictions_file'], \"w\") as f:\n",
    "        f.write(json.dumps(data_list))"
   ]
  },
  {
   "cell_type": "code",
   "execution_count": 11,
   "id": "2133a52e-a953-4d06-94e9-7164376c15b4",
   "metadata": {
    "tags": []
   },
   "outputs": [],
   "source": [
    "def post_process_prediction(config_params):\n",
    "    convert_preds_to_original_format(config_params['test_filepath'],\n",
    "                                     config_params['output_json_predictions_file'], \n",
    "                                     config_params['output_parquet_predictions_file'])\n",
    "\n",
    "    "
   ]
  },
  {
   "cell_type": "code",
   "execution_count": null,
   "id": "e9500be8-ca9a-483d-926a-ba2886937999",
   "metadata": {},
   "outputs": [],
   "source": []
  },
  {
   "cell_type": "code",
   "execution_count": 12,
   "id": "3c4eb708-48ca-45de-92d4-06d031d97b65",
   "metadata": {
    "tags": []
   },
   "outputs": [],
   "source": [
    "\n",
    "def convert_preds_to_original_format(\n",
    "    path_to_test_data: str = \"\",\n",
    "    path_to_test_preds: str = \"\",\n",
    "    path_to_final_output: str = \"\",\n",
    "):\n",
    "    \"\"\"\n",
    "    This function takes the chunked preds and groups them into the original format\n",
    "    \"\"\"\n",
    "    logger.info(f\"Original Test Data Path: {path_to_test_data}\")\n",
    "    logger.info(f\"Test Set Predictions path:{path_to_test_preds}\")\n",
    "    logger.info(f\"Final Output Path:{path_to_final_output}\")\n",
    "    orig_test_data = pd.read_parquet(path_to_test_data, engine=\"fastparquet\")\n",
    "    if orig_test_data.index.name != \"index\":\n",
    "        orig_test_data.set_index(\"index\", inplace=True)\n",
    "    logger.info(f\"Original Test Data Loaded, {orig_test_data.shape}\")\n",
    "    \n",
    "    with open(path_to_test_preds, \"r\") as f:\n",
    "        test_preds = json.load(f)\n",
    "\n",
    "    test_preds_df = pd.DataFrame(test_preds).groupby(by=\"index\").agg(list)\n",
    "\n",
    "    logger.info(f\"Original Test DF = {orig_test_data.columns}, \\\n",
    "                  Index Range = {max(orig_test_data.index.tolist())}, {min(orig_test_data.index.tolist())},\\\n",
    "                  Original Test DF Shape = {orig_test_data.shape}\")\n",
    "    logger.info(f\"Predicted DF before apply = {test_preds_df.columns}\")\n",
    "    test_preds_df[\"preds\"] = test_preds_df[\"predictions\"].apply(\n",
    "        lambda x: sum(x, [])\n",
    "    )\n",
    "    \n",
    "    logger.info(f\"Predicted DF after apply Info\")\n",
    "    logger.info(f\"Predictions after DF = {test_preds_df.columns}, \\\n",
    "                  Index Range = {max(test_preds_df.index.tolist())}, {min(test_preds_df.index.tolist())},\\\n",
    "                  Original Test DF Shape = {test_preds_df.shape}\")\n",
    "\n",
    "\n",
    "    for index, row in test_preds_df.iterrows():\n",
    "        #logger.info(f\"Checking Index = {index}\")\n",
    "        #logger.info(f\"Original Length = {len(orig_test_data.loc[index, 'tokens'])}\")\n",
    "        #logger.info(f\"Predicted Length = {len(row['preds'])}\")\n",
    "        #logger.info(f\"Original Values = {orig_test_data.loc[index, 'tokens']}\")\n",
    "        #logger.info(f\"Predicted Values = {test_preds_df.at[index, 'preds']}\")\n",
    "        if len(row[\"preds\"]) > len(orig_test_data.loc[index, \"tokens\"]):\n",
    "            test_preds_df.at[index, \"preds\"] = row[\"preds\"][\n",
    "                : len(orig_test_data.loc[index, \"tokens\"])\n",
    "            ]\n",
    "\n",
    "        elif len(row[\"preds\"]) < len(orig_test_data.loc[index, \"tokens\"]):\n",
    "            test_preds_df.at[index, \"preds\"] = row[\"preds\"] + [0 for _ in range(\n",
    "                len(orig_test_data.loc[index, \"tokens\"]) - len(row[\"preds\"]))] \n",
    "    for index, row in test_preds_df.iterrows():\n",
    "        #logger.info(f\"Checking Index = {index}\")\n",
    "        assert len(row[\"preds\"]) == len(orig_test_data.loc[index, \"tokens\"])\n",
    "\n",
    "    pd.DataFrame(test_preds_df[\"preds\"]).to_parquet(path_to_final_output)\n",
    "    print(f\"final dataset saved to {path_to_final_output}\")\n",
    "\n",
    "    return None"
   ]
  },
  {
   "cell_type": "code",
   "execution_count": null,
   "id": "c9cefe60-93a0-4242-a6c3-c10e81df8297",
   "metadata": {},
   "outputs": [],
   "source": []
  },
  {
   "cell_type": "code",
   "execution_count": 13,
   "id": "a116276a-ea0b-4368-97f7-08cddceb380f",
   "metadata": {
    "tags": []
   },
   "outputs": [],
   "source": [
    "# Expected param for test_filepath = 'data/test_data.parquet'\n",
    "# json_test_filepath: data_gen_content_test_roberta.json\n",
    "def convert_parquet_data_to_json(parent_directory, test_filepath, json_test_filepath, config_params):\n",
    "    test_df = prep_test_data(\n",
    "        path_to_file=Path(parent_directory) / Path(test_filepath),\n",
    "        max_length=config_params['max_length'],\n",
    "    )\n",
    "    logger.info(\"Writing test df to json...\")\n",
    "    write_df_to_json(\n",
    "        test_df,\n",
    "        f\"{parent_directory}/{json_test_filepath}\",\n",
    "    )"
   ]
  },
  {
   "cell_type": "code",
   "execution_count": 14,
   "id": "1177510c-9dec-4453-8f00-ec173fb33b9d",
   "metadata": {
    "tags": []
   },
   "outputs": [],
   "source": [
    "def write_df_to_json(df: pd.DataFrame, path_to_json: str):\n",
    "    \"\"\"\n",
    "    This function writes pandas dataframes into a compatible json format\n",
    "    to be used by hf_token_classification.py\n",
    "    \"\"\"\n",
    "    index_list = df[\"index\"].values.tolist()\n",
    "    tokens_list = df[\"tokens\"].values.tolist()\n",
    "    labels_list = df[\"labels\"].values.tolist()\n",
    "    data_list = []\n",
    "    for i in tqdm(range(len(tokens_list)), total=len(tokens_list)):\n",
    "        index = index_list[i]\n",
    "        tokens = tokens_list[i]\n",
    "        labels = [str(el) for el in labels_list[i]]\n",
    "        data_list.append(\n",
    "            {\"index\": index, \"tokens\": tokens, \"ner_tags\": labels}\n",
    "        )\n",
    "    with open(path_to_json, \"w\") as f:\n",
    "        f.write(json.dumps(data_list))"
   ]
  },
  {
   "cell_type": "code",
   "execution_count": 15,
   "id": "a1a3e303-179f-4b96-a1fb-2b278408d479",
   "metadata": {
    "tags": []
   },
   "outputs": [],
   "source": [
    "def prep_test_data(path_to_file, max_length):\n",
    "    logger.info(f\"Loading test dataset from file\")\n",
    "    df = pd.read_parquet(path_to_file, engine=\"fastparquet\")\n",
    "    if df.index.name != \"index\":\n",
    "        df.set_index(\"index\", inplace=True)\n",
    "\n",
    "    # the external NER Classification script needs a target column\n",
    "    # for the test set as well, which is not available.\n",
    "    # Therefore, we're subsidizing this column with a fake label column\n",
    "    # Which we're not using anyway, since we're only using the test set\n",
    "    # for predictions.\n",
    "    if \"token_label_ids\" not in df.columns:\n",
    "        df[\"token_label_ids\"] = df[\"tokens\"].apply(\n",
    "            lambda x: np.zeros(len(x), dtype=int)\n",
    "        )\n",
    "    df = df[[\"tokens\", \"token_label_ids\"]]\n",
    "\n",
    "    logger.info(f\"Initial test data length: {len(df)}\")\n",
    "    df = chunk_tokens_labels(df, max_length=max_length)\n",
    "    logger.info(\n",
    "        f\"Test data length after chunking to max {max_length} tokens: {len(df)}\"\n",
    "    )\n",
    "\n",
    "    return df"
   ]
  },
  {
   "cell_type": "code",
   "execution_count": 16,
   "id": "938abc1b-d2e8-4e18-b99b-6f5063337dee",
   "metadata": {
    "tags": []
   },
   "outputs": [],
   "source": [
    "def chunk_tokens_labels(df: pd.DataFrame, max_length: int):\n",
    "    \"\"\"\n",
    "    This function chunks tokens and their respective labels to\n",
    "    max_length token length\n",
    "    \"\"\"\n",
    "    index_list = []\n",
    "    tokens_list = []\n",
    "    labels_list = []\n",
    "    for index, row in tqdm(df.iterrows(), total=len(df)):\n",
    "        if len(row[\"token_label_ids\"]) > max_length:\n",
    "            remaining_tokens = row[\"tokens\"]\n",
    "            remaining_labels = row[\"token_label_ids\"]\n",
    "\n",
    "            # While the remaining list is larger than max_length,\n",
    "            # truncate and append\n",
    "            while len(remaining_labels) > max_length:\n",
    "                index_list.append(index)\n",
    "                tokens_list.append(remaining_tokens[:max_length])\n",
    "                labels_list.append(remaining_labels[:max_length])\n",
    "                remaining_tokens = remaining_tokens[max_length:]\n",
    "                remaining_labels = remaining_labels[max_length:]\n",
    "            # Append last chunk\n",
    "            index_list.append(index)\n",
    "            tokens_list.append(remaining_tokens)\n",
    "            labels_list.append(remaining_labels)\n",
    "        else:\n",
    "            index_list.append(index)\n",
    "            tokens_list.append(row[\"tokens\"])\n",
    "            labels_list.append(row[\"token_label_ids\"])\n",
    "\n",
    "    return pd.DataFrame(\n",
    "        {\"index\": index_list, \"tokens\": tokens_list, \"labels\": labels_list}\n",
    "    )\n"
   ]
  },
  {
   "cell_type": "code",
   "execution_count": null,
   "id": "7f4407c9-650f-4deb-8717-31b68383348e",
   "metadata": {},
   "outputs": [],
   "source": []
  },
  {
   "cell_type": "code",
   "execution_count": null,
   "id": "0c1d9301-0b71-47c2-8e2b-1f1d42d74837",
   "metadata": {},
   "outputs": [],
   "source": [
    "%%time\n",
    "# Get the predictions for the roberta model on the train_data\n",
    "model_pipeline('roberta', 'train_data')"
   ]
  },
  {
   "cell_type": "code",
   "execution_count": null,
   "id": "56e68cd7-a395-4bab-a1a7-4eebbafdeb0e",
   "metadata": {
    "tags": []
   },
   "outputs": [
    {
     "data": {
      "application/vnd.jupyter.widget-view+json": {
       "model_id": "a441807f63944af2af4b3de05bbe3a54",
       "version_major": 2,
       "version_minor": 0
      },
      "text/plain": [
       "  0%|          | 0/5000 [00:00<?, ?it/s]"
      ]
     },
     "metadata": {},
     "output_type": "display_data"
    },
    {
     "data": {
      "application/vnd.jupyter.widget-view+json": {
       "model_id": "c859d9f649df41f7b076056abca92d84",
       "version_major": 2,
       "version_minor": 0
      },
      "text/plain": [
       "  0%|          | 0/56929 [00:00<?, ?it/s]"
      ]
     },
     "metadata": {},
     "output_type": "display_data"
    },
    {
     "data": {
      "application/vnd.jupyter.widget-view+json": {
       "model_id": "b40e9bad7f73426a88a1fb2ac87dc1c4",
       "version_major": 2,
       "version_minor": 0
      },
      "text/plain": [
       "Downloading data files:   0%|          | 0/1 [00:00<?, ?it/s]"
      ]
     },
     "metadata": {},
     "output_type": "display_data"
    },
    {
     "data": {
      "application/vnd.jupyter.widget-view+json": {
       "model_id": "5d5b52e048c04411bd02220cd70182dc",
       "version_major": 2,
       "version_minor": 0
      },
      "text/plain": [
       "Extracting data files:   0%|          | 0/1 [00:00<?, ?it/s]"
      ]
     },
     "metadata": {},
     "output_type": "display_data"
    },
    {
     "data": {
      "application/vnd.jupyter.widget-view+json": {
       "model_id": "6f7cec690eb046339a10dad7cf5e310e",
       "version_major": 2,
       "version_minor": 0
      },
      "text/plain": [
       "Generating test split: 0 examples [00:00, ? examples/s]"
      ]
     },
     "metadata": {},
     "output_type": "display_data"
    },
    {
     "data": {
      "application/vnd.jupyter.widget-view+json": {
       "model_id": "6102e2facb9e4afab8613398993f4d64",
       "version_major": 2,
       "version_minor": 0
      },
      "text/plain": [
       "tokenizer_config.json:   0%|          | 0.00/1.30k [00:00<?, ?B/s]"
      ]
     },
     "metadata": {},
     "output_type": "display_data"
    },
    {
     "data": {
      "application/vnd.jupyter.widget-view+json": {
       "model_id": "8fcfacd968024fb68f47461ab79690d8",
       "version_major": 2,
       "version_minor": 0
      },
      "text/plain": [
       "vocab.txt:   0%|          | 0.00/228k [00:00<?, ?B/s]"
      ]
     },
     "metadata": {},
     "output_type": "display_data"
    },
    {
     "data": {
      "application/vnd.jupyter.widget-view+json": {
       "model_id": "ef5fea6916c9483287e421bc7d58e08c",
       "version_major": 2,
       "version_minor": 0
      },
      "text/plain": [
       "tokenizer.json:   0%|          | 0.00/717k [00:00<?, ?B/s]"
      ]
     },
     "metadata": {},
     "output_type": "display_data"
    },
    {
     "data": {
      "application/vnd.jupyter.widget-view+json": {
       "model_id": "436b0e1ac23343e89de324a43970e886",
       "version_major": 2,
       "version_minor": 0
      },
      "text/plain": [
       "special_tokens_map.json:   0%|          | 0.00/125 [00:00<?, ?B/s]"
      ]
     },
     "metadata": {},
     "output_type": "display_data"
    },
    {
     "data": {
      "application/vnd.jupyter.widget-view+json": {
       "model_id": "213cbac7b94f4d379d5e0d7b415846a1",
       "version_major": 2,
       "version_minor": 0
      },
      "text/plain": [
       "config.json:   0%|          | 0.00/921 [00:00<?, ?B/s]"
      ]
     },
     "metadata": {},
     "output_type": "display_data"
    },
    {
     "data": {
      "application/vnd.jupyter.widget-view+json": {
       "model_id": "1ebb37121aca47c682efc98351007119",
       "version_major": 2,
       "version_minor": 0
      },
      "text/plain": [
       "model.safetensors:   0%|          | 0.00/437M [00:00<?, ?B/s]"
      ]
     },
     "metadata": {},
     "output_type": "display_data"
    },
    {
     "data": {
      "application/vnd.jupyter.widget-view+json": {
       "model_id": "6358424c85f741af954906a2130c76e2",
       "version_major": 2,
       "version_minor": 0
      },
      "text/plain": [
       "Map (num_proc=16):   0%|          | 0/56929 [00:00<?, ? examples/s]"
      ]
     },
     "metadata": {},
     "output_type": "display_data"
    }
   ],
   "source": [
    "%%time\n",
    "# Get the predictions for the scibert model on the train_data\n",
    "model_pipeline('scibert', 'train_data')"
   ]
  },
  {
   "cell_type": "code",
   "execution_count": null,
   "id": "81a5c7cf-2bd5-4516-8089-ecff5b5a3556",
   "metadata": {
    "tags": []
   },
   "outputs": [],
   "source": [
    "%%time\n",
    "# Get the predictions for the deberta model on the train_data\n",
    "model_pipeline('deberta', 'train_data')"
   ]
  },
  {
   "cell_type": "code",
   "execution_count": null,
   "id": "7aeda681-4e7b-43d5-b81b-b969530363b6",
   "metadata": {},
   "outputs": [],
   "source": []
  },
  {
   "cell_type": "code",
   "execution_count": null,
   "id": "95430ebb-f50c-470e-aa0d-57187b833877",
   "metadata": {
    "tags": []
   },
   "outputs": [],
   "source": [
    "%%time\n",
    "# Get the predictions for the biomed_roberta model on the train_data\n",
    "model_pipeline('biomed_roberta', 'train_data')"
   ]
  },
  {
   "cell_type": "code",
   "execution_count": null,
   "id": "48ddbc7f-4a86-44ee-b389-764299afbcc1",
   "metadata": {},
   "outputs": [],
   "source": []
  },
  {
   "cell_type": "code",
   "execution_count": null,
   "id": "3f231c50-7cbd-496b-9cc0-f50eef05f607",
   "metadata": {},
   "outputs": [],
   "source": [
    "# Get the predictions on all the shortlisted models on test_data.parquet and save the predictions parquet file\n",
    "for model in contesting_models:\n",
    "    model_pipeline(model, 'test_data')"
   ]
  },
  {
   "cell_type": "code",
   "execution_count": null,
   "id": "79245a05-916b-4ef5-af37-d9a7ceab99e0",
   "metadata": {},
   "outputs": [],
   "source": []
  },
  {
   "cell_type": "code",
   "execution_count": null,
   "id": "f3b69972-e650-4578-a10c-0849cdbb5abf",
   "metadata": {},
   "outputs": [],
   "source": []
  },
  {
   "cell_type": "code",
   "execution_count": null,
   "id": "2aa7e7d9-e026-4c9b-9aa5-49aba38f6036",
   "metadata": {},
   "outputs": [],
   "source": []
  },
  {
   "cell_type": "code",
   "execution_count": null,
   "id": "ea7c4cad-51b6-486c-9836-96f518d607cc",
   "metadata": {},
   "outputs": [],
   "source": []
  },
  {
   "cell_type": "code",
   "execution_count": 23,
   "id": "ca43df09-f4f5-4bc7-bd2b-757ba3597fb3",
   "metadata": {
    "tags": []
   },
   "outputs": [],
   "source": [
    "def merge_train_model_predictions(model_list):\n",
    "    train_df = pd.read_parquet('data/train_data.parquet', engine='fastparquet')\n",
    "    train_df = train_df[['text', 'tokens', 'token_label_ids']]\n",
    "    train_df.rename(columns={'token_label_ids': 'true_labels'}, inplace=True)\n",
    "    \n",
    "    merged_df = None\n",
    "    for model in model_list:\n",
    "        train_preds_df = pd.read_parquet(f'data/train_data_predictions_{model}.parquet',\n",
    "                                         engine='fastparquet')\n",
    "        train_preds_df.rename(columns={'preds': f'{model}_preds'}, inplace=True)\n",
    "        \n",
    "        if merged_df is None:\n",
    "            merged_df = train_preds_df.copy(deep=True)\n",
    "        else:\n",
    "            merged_df = merged_df.merge(train_preds_df, how='inner', left_index=True, right_index=True)\n",
    "        print(merged_df.shape)\n",
    "    \n",
    "    merged_train_preds = merged_df.merge(train_df, left_index=True, right_index=True, how='inner')\n",
    "    \n",
    "    for model in model_list:\n",
    "        merged_train_preds[f\"{model}_f1_score\"] = merged_train_preds.apply(\n",
    "        lambda x: f1_score(\n",
    "            x[\"true_labels\"], x[f\"{model}_preds\"], average=\"macro\"), axis=1,)\n",
    "        print(f\"Average F1 score for {model} train data is: {merged_train_preds[f'{model}_f1_score'].mean()*100:0.4f}%\")\n",
    "    \n",
    "    merged_train_preds.to_parquet('data/merged_train_predictions.parquet')\n",
    "    \n",
    "    return merged_train_preds"
   ]
  },
  {
   "cell_type": "code",
   "execution_count": 24,
   "id": "772c6dc8-594c-409a-b29d-fb64c1692b68",
   "metadata": {
    "tags": []
   },
   "outputs": [
    {
     "name": "stdout",
     "output_type": "stream",
     "text": [
      "(5000, 1)\n",
      "(5000, 2)\n",
      "(5000, 3)\n",
      "(5000, 4)\n",
      "(5000, 5)\n",
      "Average F1 score for roberta train data is: 89.0101%\n",
      "Average F1 score for scibert train data is: 89.2137%\n",
      "Average F1 score for deberta train data is: 90.2066%\n",
      "Average F1 score for biomed_roberta train data is: 89.0659%\n",
      "Average F1 score for cs_roberta train data is: 89.0239%\n",
      "CPU times: user 3min 29s, sys: 5.69 s, total: 3min 35s\n",
      "Wall time: 3min 35s\n"
     ]
    }
   ],
   "source": [
    "%%time\n",
    "merged_predictions = merge_train_model_predictions(contesting_models)"
   ]
  },
  {
   "cell_type": "code",
   "execution_count": 26,
   "id": "d76748f6-83cf-4b83-ae05-44998eb391dc",
   "metadata": {
    "tags": []
   },
   "outputs": [
    {
     "data": {
      "text/plain": [
       "(5000, 13)"
      ]
     },
     "execution_count": 26,
     "metadata": {},
     "output_type": "execute_result"
    }
   ],
   "source": [
    "merged_predictions.shape"
   ]
  },
  {
   "cell_type": "code",
   "execution_count": 25,
   "id": "c2b5e469-82d2-49fd-9ffd-9e8ff67f8aa1",
   "metadata": {
    "tags": []
   },
   "outputs": [
    {
     "data": {
      "text/html": [
       "<div>\n",
       "<style scoped>\n",
       "    .dataframe tbody tr th:only-of-type {\n",
       "        vertical-align: middle;\n",
       "    }\n",
       "\n",
       "    .dataframe tbody tr th {\n",
       "        vertical-align: top;\n",
       "    }\n",
       "\n",
       "    .dataframe thead th {\n",
       "        text-align: right;\n",
       "    }\n",
       "</style>\n",
       "<table border=\"1\" class=\"dataframe\">\n",
       "  <thead>\n",
       "    <tr style=\"text-align: right;\">\n",
       "      <th></th>\n",
       "      <th>roberta_preds</th>\n",
       "      <th>scibert_preds</th>\n",
       "      <th>deberta_preds</th>\n",
       "      <th>biomed_roberta_preds</th>\n",
       "      <th>cs_roberta_preds</th>\n",
       "      <th>text</th>\n",
       "      <th>tokens</th>\n",
       "      <th>true_labels</th>\n",
       "      <th>roberta_f1_score</th>\n",
       "      <th>scibert_f1_score</th>\n",
       "      <th>deberta_f1_score</th>\n",
       "      <th>biomed_roberta_f1_score</th>\n",
       "      <th>cs_roberta_f1_score</th>\n",
       "    </tr>\n",
       "    <tr>\n",
       "      <th>index</th>\n",
       "      <th></th>\n",
       "      <th></th>\n",
       "      <th></th>\n",
       "      <th></th>\n",
       "      <th></th>\n",
       "      <th></th>\n",
       "      <th></th>\n",
       "      <th></th>\n",
       "      <th></th>\n",
       "      <th></th>\n",
       "      <th></th>\n",
       "      <th></th>\n",
       "      <th></th>\n",
       "    </tr>\n",
       "  </thead>\n",
       "  <tbody>\n",
       "    <tr>\n",
       "      <th>10</th>\n",
       "      <td>[3, 3, 3, 3, 3, 3, 3, 3, 3, 3, 3, 3, 3, 3, 3, ...</td>\n",
       "      <td>[3, 3, 3, 3, 3, 3, 3, 3, 3, 3, 3, 3, 3, 3, 3, ...</td>\n",
       "      <td>[3, 3, 3, 3, 3, 3, 3, 3, 3, 3, 3, 3, 3, 3, 3, ...</td>\n",
       "      <td>[3, 3, 3, 3, 3, 3, 3, 3, 3, 3, 3, 3, 3, 3, 3, ...</td>\n",
       "      <td>[3, 3, 3, 3, 3, 3, 3, 3, 3, 3, 3, 3, 3, 3, 3, ...</td>\n",
       "      <td>the world summit on sustainable development fi...</td>\n",
       "      <td>[the, world, summit, on, sustainable, developm...</td>\n",
       "      <td>[3, 3, 3, 3, 3, 3, 3, 3, 3, 3, 3, 3, 3, 3, 3, ...</td>\n",
       "      <td>0.889083</td>\n",
       "      <td>0.900512</td>\n",
       "      <td>0.906215</td>\n",
       "      <td>0.890868</td>\n",
       "      <td>0.888261</td>\n",
       "    </tr>\n",
       "    <tr>\n",
       "      <th>13</th>\n",
       "      <td>[0, 0, 0, 0, 0, 0, 0, 0, 0, 0, 0, 0, 0, 0, 0, ...</td>\n",
       "      <td>[0, 0, 0, 0, 0, 0, 0, 0, 0, 0, 0, 0, 0, 0, 0, ...</td>\n",
       "      <td>[0, 0, 0, 0, 0, 0, 0, 0, 0, 0, 0, 0, 0, 0, 0, ...</td>\n",
       "      <td>[0, 0, 0, 0, 0, 0, 0, 0, 0, 0, 0, 0, 0, 0, 0, ...</td>\n",
       "      <td>[0, 0, 0, 0, 0, 0, 0, 0, 0, 0, 0, 0, 0, 0, 0, ...</td>\n",
       "      <td>Bioresorbable implants have progressively move...</td>\n",
       "      <td>[Bioresorbable, implants, have, progressively,...</td>\n",
       "      <td>[0, 0, 0, 0, 0, 0, 0, 0, 0, 0, 0, 0, 0, 0, 0, ...</td>\n",
       "      <td>0.830665</td>\n",
       "      <td>0.869474</td>\n",
       "      <td>0.862254</td>\n",
       "      <td>0.830504</td>\n",
       "      <td>0.829883</td>\n",
       "    </tr>\n",
       "    <tr>\n",
       "      <th>19</th>\n",
       "      <td>[0, 0, 0, 0, 0, 0, 0, 0, 0, 0, 0, 0, 0, 0, 0, ...</td>\n",
       "      <td>[0, 0, 0, 0, 0, 0, 0, 0, 0, 0, 0, 0, 0, 0, 0, ...</td>\n",
       "      <td>[0, 0, 0, 0, 0, 0, 0, 0, 0, 0, 0, 0, 0, 0, 0, ...</td>\n",
       "      <td>[0, 0, 0, 0, 0, 0, 0, 0, 0, 0, 0, 0, 0, 0, 0, ...</td>\n",
       "      <td>[0, 0, 0, 0, 0, 0, 0, 0, 0, 0, 0, 0, 0, 0, 0, ...</td>\n",
       "      <td>For centuries, midwives have encouraged women ...</td>\n",
       "      <td>[For, centuries,, midwives, have, encouraged, ...</td>\n",
       "      <td>[0, 0, 0, 0, 0, 0, 0, 0, 0, 0, 0, 0, 0, 0, 0, ...</td>\n",
       "      <td>0.906498</td>\n",
       "      <td>0.912712</td>\n",
       "      <td>0.919406</td>\n",
       "      <td>0.904630</td>\n",
       "      <td>0.904718</td>\n",
       "    </tr>\n",
       "    <tr>\n",
       "      <th>28</th>\n",
       "      <td>[3, 3, 3, 3, 3, 3, 3, 3, 3, 3, 3, 3, 3, 3, 3, ...</td>\n",
       "      <td>[3, 3, 3, 3, 3, 3, 3, 3, 3, 3, 3, 3, 3, 3, 3, ...</td>\n",
       "      <td>[3, 3, 3, 3, 3, 3, 3, 3, 3, 3, 3, 3, 3, 3, 3, ...</td>\n",
       "      <td>[3, 3, 3, 3, 3, 3, 3, 3, 3, 3, 3, 3, 3, 3, 3, ...</td>\n",
       "      <td>[3, 3, 3, 3, 3, 3, 3, 3, 3, 3, 3, 3, 3, 3, 3, ...</td>\n",
       "      <td>a study of 170 contacts in the uk reported a 5...</td>\n",
       "      <td>[a, study, of, 170, contacts, in, the, uk, rep...</td>\n",
       "      <td>[3, 3, 3, 3, 3, 3, 3, 3, 3, 3, 3, 3, 3, 3, 3, ...</td>\n",
       "      <td>0.858801</td>\n",
       "      <td>0.858801</td>\n",
       "      <td>0.864228</td>\n",
       "      <td>0.858801</td>\n",
       "      <td>0.858801</td>\n",
       "    </tr>\n",
       "    <tr>\n",
       "      <th>40</th>\n",
       "      <td>[0, 0, 0, 0, 0, 0, 0, 0, 0, 0, 0, 0, 0, 0, 0, ...</td>\n",
       "      <td>[0, 0, 0, 0, 0, 0, 0, 0, 0, 0, 0, 0, 0, 0, 0, ...</td>\n",
       "      <td>[0, 0, 0, 0, 0, 0, 0, 0, 0, 0, 0, 0, 0, 0, 0, ...</td>\n",
       "      <td>[0, 0, 0, 0, 0, 0, 0, 0, 0, 0, 0, 0, 0, 0, 0, ...</td>\n",
       "      <td>[0, 0, 0, 0, 0, 0, 0, 0, 0, 0, 0, 0, 0, 0, 0, ...</td>\n",
       "      <td>There is a growing concern over potentially el...</td>\n",
       "      <td>[There, is, a, growing, concern, over, potenti...</td>\n",
       "      <td>[0, 0, 0, 0, 0, 0, 0, 0, 0, 0, 0, 0, 0, 0, 0, ...</td>\n",
       "      <td>1.000000</td>\n",
       "      <td>1.000000</td>\n",
       "      <td>1.000000</td>\n",
       "      <td>1.000000</td>\n",
       "      <td>1.000000</td>\n",
       "    </tr>\n",
       "  </tbody>\n",
       "</table>\n",
       "</div>"
      ],
      "text/plain": [
       "                                           roberta_preds  \\\n",
       "index                                                      \n",
       "10     [3, 3, 3, 3, 3, 3, 3, 3, 3, 3, 3, 3, 3, 3, 3, ...   \n",
       "13     [0, 0, 0, 0, 0, 0, 0, 0, 0, 0, 0, 0, 0, 0, 0, ...   \n",
       "19     [0, 0, 0, 0, 0, 0, 0, 0, 0, 0, 0, 0, 0, 0, 0, ...   \n",
       "28     [3, 3, 3, 3, 3, 3, 3, 3, 3, 3, 3, 3, 3, 3, 3, ...   \n",
       "40     [0, 0, 0, 0, 0, 0, 0, 0, 0, 0, 0, 0, 0, 0, 0, ...   \n",
       "\n",
       "                                           scibert_preds  \\\n",
       "index                                                      \n",
       "10     [3, 3, 3, 3, 3, 3, 3, 3, 3, 3, 3, 3, 3, 3, 3, ...   \n",
       "13     [0, 0, 0, 0, 0, 0, 0, 0, 0, 0, 0, 0, 0, 0, 0, ...   \n",
       "19     [0, 0, 0, 0, 0, 0, 0, 0, 0, 0, 0, 0, 0, 0, 0, ...   \n",
       "28     [3, 3, 3, 3, 3, 3, 3, 3, 3, 3, 3, 3, 3, 3, 3, ...   \n",
       "40     [0, 0, 0, 0, 0, 0, 0, 0, 0, 0, 0, 0, 0, 0, 0, ...   \n",
       "\n",
       "                                           deberta_preds  \\\n",
       "index                                                      \n",
       "10     [3, 3, 3, 3, 3, 3, 3, 3, 3, 3, 3, 3, 3, 3, 3, ...   \n",
       "13     [0, 0, 0, 0, 0, 0, 0, 0, 0, 0, 0, 0, 0, 0, 0, ...   \n",
       "19     [0, 0, 0, 0, 0, 0, 0, 0, 0, 0, 0, 0, 0, 0, 0, ...   \n",
       "28     [3, 3, 3, 3, 3, 3, 3, 3, 3, 3, 3, 3, 3, 3, 3, ...   \n",
       "40     [0, 0, 0, 0, 0, 0, 0, 0, 0, 0, 0, 0, 0, 0, 0, ...   \n",
       "\n",
       "                                    biomed_roberta_preds  \\\n",
       "index                                                      \n",
       "10     [3, 3, 3, 3, 3, 3, 3, 3, 3, 3, 3, 3, 3, 3, 3, ...   \n",
       "13     [0, 0, 0, 0, 0, 0, 0, 0, 0, 0, 0, 0, 0, 0, 0, ...   \n",
       "19     [0, 0, 0, 0, 0, 0, 0, 0, 0, 0, 0, 0, 0, 0, 0, ...   \n",
       "28     [3, 3, 3, 3, 3, 3, 3, 3, 3, 3, 3, 3, 3, 3, 3, ...   \n",
       "40     [0, 0, 0, 0, 0, 0, 0, 0, 0, 0, 0, 0, 0, 0, 0, ...   \n",
       "\n",
       "                                        cs_roberta_preds  \\\n",
       "index                                                      \n",
       "10     [3, 3, 3, 3, 3, 3, 3, 3, 3, 3, 3, 3, 3, 3, 3, ...   \n",
       "13     [0, 0, 0, 0, 0, 0, 0, 0, 0, 0, 0, 0, 0, 0, 0, ...   \n",
       "19     [0, 0, 0, 0, 0, 0, 0, 0, 0, 0, 0, 0, 0, 0, 0, ...   \n",
       "28     [3, 3, 3, 3, 3, 3, 3, 3, 3, 3, 3, 3, 3, 3, 3, ...   \n",
       "40     [0, 0, 0, 0, 0, 0, 0, 0, 0, 0, 0, 0, 0, 0, 0, ...   \n",
       "\n",
       "                                                    text  \\\n",
       "index                                                      \n",
       "10     the world summit on sustainable development fi...   \n",
       "13     Bioresorbable implants have progressively move...   \n",
       "19     For centuries, midwives have encouraged women ...   \n",
       "28     a study of 170 contacts in the uk reported a 5...   \n",
       "40     There is a growing concern over potentially el...   \n",
       "\n",
       "                                                  tokens  \\\n",
       "index                                                      \n",
       "10     [the, world, summit, on, sustainable, developm...   \n",
       "13     [Bioresorbable, implants, have, progressively,...   \n",
       "19     [For, centuries,, midwives, have, encouraged, ...   \n",
       "28     [a, study, of, 170, contacts, in, the, uk, rep...   \n",
       "40     [There, is, a, growing, concern, over, potenti...   \n",
       "\n",
       "                                             true_labels  roberta_f1_score  \\\n",
       "index                                                                        \n",
       "10     [3, 3, 3, 3, 3, 3, 3, 3, 3, 3, 3, 3, 3, 3, 3, ...          0.889083   \n",
       "13     [0, 0, 0, 0, 0, 0, 0, 0, 0, 0, 0, 0, 0, 0, 0, ...          0.830665   \n",
       "19     [0, 0, 0, 0, 0, 0, 0, 0, 0, 0, 0, 0, 0, 0, 0, ...          0.906498   \n",
       "28     [3, 3, 3, 3, 3, 3, 3, 3, 3, 3, 3, 3, 3, 3, 3, ...          0.858801   \n",
       "40     [0, 0, 0, 0, 0, 0, 0, 0, 0, 0, 0, 0, 0, 0, 0, ...          1.000000   \n",
       "\n",
       "       scibert_f1_score  deberta_f1_score  biomed_roberta_f1_score  \\\n",
       "index                                                                \n",
       "10             0.900512          0.906215                 0.890868   \n",
       "13             0.869474          0.862254                 0.830504   \n",
       "19             0.912712          0.919406                 0.904630   \n",
       "28             0.858801          0.864228                 0.858801   \n",
       "40             1.000000          1.000000                 1.000000   \n",
       "\n",
       "       cs_roberta_f1_score  \n",
       "index                       \n",
       "10                0.888261  \n",
       "13                0.829883  \n",
       "19                0.904718  \n",
       "28                0.858801  \n",
       "40                1.000000  "
      ]
     },
     "execution_count": 25,
     "metadata": {},
     "output_type": "execute_result"
    }
   ],
   "source": [
    "merged_predictions.head()"
   ]
  },
  {
   "cell_type": "code",
   "execution_count": 27,
   "id": "5d99d8f7-629a-4f6b-ad1b-e3e1626ebdfe",
   "metadata": {
    "tags": []
   },
   "outputs": [
    {
     "data": {
      "text/html": [
       "<div>\n",
       "<style scoped>\n",
       "    .dataframe tbody tr th:only-of-type {\n",
       "        vertical-align: middle;\n",
       "    }\n",
       "\n",
       "    .dataframe tbody tr th {\n",
       "        vertical-align: top;\n",
       "    }\n",
       "\n",
       "    .dataframe thead th {\n",
       "        text-align: right;\n",
       "    }\n",
       "</style>\n",
       "<table border=\"1\" class=\"dataframe\">\n",
       "  <thead>\n",
       "    <tr style=\"text-align: right;\">\n",
       "      <th></th>\n",
       "      <th>roberta_f1_score</th>\n",
       "      <th>scibert_f1_score</th>\n",
       "      <th>deberta_f1_score</th>\n",
       "      <th>biomed_roberta_f1_score</th>\n",
       "      <th>cs_roberta_f1_score</th>\n",
       "    </tr>\n",
       "  </thead>\n",
       "  <tbody>\n",
       "    <tr>\n",
       "      <th>count</th>\n",
       "      <td>5000.000000</td>\n",
       "      <td>5000.000000</td>\n",
       "      <td>5000.000000</td>\n",
       "      <td>5000.000000</td>\n",
       "      <td>5000.000000</td>\n",
       "    </tr>\n",
       "    <tr>\n",
       "      <th>mean</th>\n",
       "      <td>0.890101</td>\n",
       "      <td>0.892137</td>\n",
       "      <td>0.902066</td>\n",
       "      <td>0.890659</td>\n",
       "      <td>0.890239</td>\n",
       "    </tr>\n",
       "    <tr>\n",
       "      <th>std</th>\n",
       "      <td>0.072697</td>\n",
       "      <td>0.073494</td>\n",
       "      <td>0.068171</td>\n",
       "      <td>0.072569</td>\n",
       "      <td>0.071771</td>\n",
       "    </tr>\n",
       "    <tr>\n",
       "      <th>min</th>\n",
       "      <td>0.467366</td>\n",
       "      <td>0.482727</td>\n",
       "      <td>0.491797</td>\n",
       "      <td>0.467366</td>\n",
       "      <td>0.490759</td>\n",
       "    </tr>\n",
       "    <tr>\n",
       "      <th>25%</th>\n",
       "      <td>0.859531</td>\n",
       "      <td>0.861742</td>\n",
       "      <td>0.874075</td>\n",
       "      <td>0.859971</td>\n",
       "      <td>0.859250</td>\n",
       "    </tr>\n",
       "    <tr>\n",
       "      <th>50%</th>\n",
       "      <td>0.899727</td>\n",
       "      <td>0.902719</td>\n",
       "      <td>0.910865</td>\n",
       "      <td>0.900814</td>\n",
       "      <td>0.899627</td>\n",
       "    </tr>\n",
       "    <tr>\n",
       "      <th>75%</th>\n",
       "      <td>0.933445</td>\n",
       "      <td>0.936690</td>\n",
       "      <td>0.943246</td>\n",
       "      <td>0.934060</td>\n",
       "      <td>0.933423</td>\n",
       "    </tr>\n",
       "    <tr>\n",
       "      <th>max</th>\n",
       "      <td>1.000000</td>\n",
       "      <td>1.000000</td>\n",
       "      <td>1.000000</td>\n",
       "      <td>1.000000</td>\n",
       "      <td>1.000000</td>\n",
       "    </tr>\n",
       "  </tbody>\n",
       "</table>\n",
       "</div>"
      ],
      "text/plain": [
       "       roberta_f1_score  scibert_f1_score  deberta_f1_score  \\\n",
       "count       5000.000000       5000.000000       5000.000000   \n",
       "mean           0.890101          0.892137          0.902066   \n",
       "std            0.072697          0.073494          0.068171   \n",
       "min            0.467366          0.482727          0.491797   \n",
       "25%            0.859531          0.861742          0.874075   \n",
       "50%            0.899727          0.902719          0.910865   \n",
       "75%            0.933445          0.936690          0.943246   \n",
       "max            1.000000          1.000000          1.000000   \n",
       "\n",
       "       biomed_roberta_f1_score  cs_roberta_f1_score  \n",
       "count              5000.000000          5000.000000  \n",
       "mean                  0.890659             0.890239  \n",
       "std                   0.072569             0.071771  \n",
       "min                   0.467366             0.490759  \n",
       "25%                   0.859971             0.859250  \n",
       "50%                   0.900814             0.899627  \n",
       "75%                   0.934060             0.933423  \n",
       "max                   1.000000             1.000000  "
      ]
     },
     "execution_count": 27,
     "metadata": {},
     "output_type": "execute_result"
    }
   ],
   "source": [
    "merged_predictions[['roberta_f1_score', 'scibert_f1_score', 'deberta_f1_score', \n",
    "                    'biomed_roberta_f1_score', 'cs_roberta_f1_score']].describe()"
   ]
  },
  {
   "cell_type": "code",
   "execution_count": null,
   "id": "db0cefaa-b2d4-4fe0-a047-94dd238911e9",
   "metadata": {},
   "outputs": [],
   "source": []
  }
 ],
 "metadata": {
  "kernelspec": {
   "display_name": "conda_python3",
   "language": "python",
   "name": "conda_python3"
  },
  "language_info": {
   "codemirror_mode": {
    "name": "ipython",
    "version": 3
   },
   "file_extension": ".py",
   "mimetype": "text/x-python",
   "name": "python",
   "nbconvert_exporter": "python",
   "pygments_lexer": "ipython3",
   "version": "3.10.13"
  }
 },
 "nbformat": 4,
 "nbformat_minor": 5
}
