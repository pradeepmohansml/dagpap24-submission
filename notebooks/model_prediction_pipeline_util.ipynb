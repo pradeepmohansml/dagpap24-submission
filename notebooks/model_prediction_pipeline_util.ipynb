{
 "cells": [
  {
   "cell_type": "code",
   "execution_count": 1,
   "id": "00eb12cd-92de-4735-bb71-d7591b8f4269",
   "metadata": {
    "tags": []
   },
   "outputs": [],
   "source": [
    "import os\n",
    "import pathlib\n",
    "import pandas as pd\n",
    "import ast\n",
    "import json\n",
    "import numpy as np\n",
    "from pathlib import Path\n",
    "import fastparquet\n",
    "from tqdm.auto import tqdm"
   ]
  },
  {
   "cell_type": "code",
   "execution_count": 2,
   "id": "1f97d507-f3a3-4160-8b0b-f60b57c6ec39",
   "metadata": {
    "tags": []
   },
   "outputs": [],
   "source": [
    "import logging\n",
    "\n",
    "logger = logging.getLogger(__name__)"
   ]
  },
  {
   "cell_type": "code",
   "execution_count": 3,
   "id": "7a41dc76-0d68-4978-b9d3-3e1bb0ab2764",
   "metadata": {
    "tags": []
   },
   "outputs": [],
   "source": [
    "from datasets import ClassLabel, load_dataset\n",
    "from transformers import AutoTokenizer, AutoModelForTokenClassification\n",
    "from transformers import DataCollatorForTokenClassification\n",
    "from transformers import Trainer\n",
    "import evaluate"
   ]
  },
  {
   "cell_type": "code",
   "execution_count": 4,
   "id": "b65eb321-7dc6-4535-9bc5-f26e743f054d",
   "metadata": {},
   "outputs": [],
   "source": [
    "## Note: The test file is expected as <parent_directory>/data/test_data.parquet\n",
    "\n",
    "# TODO: Should we do literal_eval on the test data?"
   ]
  },
  {
   "cell_type": "code",
   "execution_count": 5,
   "id": "aba5206a-4bd3-4f2b-8771-33bfab45b8f6",
   "metadata": {
    "tags": []
   },
   "outputs": [],
   "source": [
    "contesting_models = ['roberta', 'scibert', 'deberta', 'biomed_roberta']"
   ]
  },
  {
   "cell_type": "code",
   "execution_count": null,
   "id": "4fbe1239-3cd4-434d-ab5f-185a7ab37838",
   "metadata": {
    "tags": []
   },
   "outputs": [],
   "source": []
  },
  {
   "cell_type": "markdown",
   "id": "8380e169-44d6-4fd6-9150-3890cc089d7d",
   "metadata": {},
   "source": [
    "## Functions to be called in the order of execution:\n",
    "0. Save the test file as notebooks/data/test_data.parquet\n",
    "1. pre_process_test_file(model_name)\n",
    "2. get_pretrained_models(config_params, my_datasets)\n",
    "3. make_and_save_predictions()\n",
    "4. post_process_prediction()\n"
   ]
  },
  {
   "cell_type": "code",
   "execution_count": null,
   "id": "236fbf03-be9f-4f45-9a1b-d8357374f3a9",
   "metadata": {},
   "outputs": [],
   "source": []
  },
  {
   "cell_type": "code",
   "execution_count": 6,
   "id": "f69c5883-c66a-4c98-b92f-67e9b0cab69a",
   "metadata": {
    "tags": []
   },
   "outputs": [],
   "source": [
    "def model_pipeline(model_name):\n",
    "    config = get_config_params(model_name)\n",
    "    test_datasets = pre_process_test_file(model_name, config)\n",
    "    trainer, test_dataset = get_pretrained_models(config, test_datasets)\n",
    "    make_and_save_predictions(trainer, test_dataset, config)\n",
    "    post_process_prediction(config)"
   ]
  },
  {
   "cell_type": "code",
   "execution_count": null,
   "id": "5771bebe-0b8a-4217-b758-46da161664c9",
   "metadata": {},
   "outputs": [],
   "source": []
  },
  {
   "cell_type": "code",
   "execution_count": 7,
   "id": "289b2d8d-8b35-4bcd-967a-e118f5a6b37d",
   "metadata": {
    "tags": []
   },
   "outputs": [],
   "source": [
    "def get_config_params(model_name):\n",
    "    config = {'max_length': 512, 'parent_directory': os.getcwd(),\n",
    "             'test_filepath': 'data/test_data.parquet', 'model_name': model_name, \n",
    "              'json_test_filepath': f'data/data_gen_content_test_{model_name}.json',\n",
    "              'intermediate_extension': 'json', 'label_column_name': 'ner_tags',\n",
    "              'label_list': ['0', '1', '2', '3'], 'label_to_id': {'0': 0, '1': 1, '2': 2, '3': 3},\n",
    "              'padding': \"max_length\", 'batched': True, 'num_proc': 16,\n",
    "              'metric': evaluate.load(\"f1\"), 'return_entity_level_metrics': False,\n",
    "              'output_json_predictions_file': f\"data/test_finetuned_predictions_{model_name}.json\",\n",
    "              'output_parquet_predictions_file': f\"data/test_predictions_{model_name}.parquet\",\n",
    "             \n",
    "             \n",
    "             }\n",
    " \n",
    "    return config"
   ]
  },
  {
   "cell_type": "code",
   "execution_count": 8,
   "id": "3b745cf0-4bab-4b73-b071-da9543a04e01",
   "metadata": {
    "tags": []
   },
   "outputs": [],
   "source": [
    "def pre_process_test_file(model_name, config_params):\n",
    "    convert_parquet_data_to_json(config_params['parent_directory'], config_params['test_filepath'], \n",
    "                                 config_params['json_test_filepath'], config_params)\n",
    "    # Load the test data set\n",
    "    my_datasets = load_dataset(config_params['intermediate_extension'],\n",
    "                               data_files={'test': config_params['json_test_filepath']})\n",
    "    return my_datasets"
   ]
  },
  {
   "cell_type": "code",
   "execution_count": 9,
   "id": "d1155c8a-9cca-431d-8cb2-fbf0ed5b0c94",
   "metadata": {
    "tags": []
   },
   "outputs": [],
   "source": [
    "def get_pretrained_models(config_params, my_datasets):\n",
    "    model_name = config_params['model_name']\n",
    "    logger.info(f\"Loading the model and tokenizer from fine tuned model {model_name}\")\n",
    "    \n",
    "    finetuned_tokenizer = AutoTokenizer.from_pretrained(f\"TheOptimusPrimes/{model_name}-finetuned-dagpap24\")\n",
    "    finetuned_model = AutoModelForTokenClassification.from_pretrained(f\"TheOptimusPrimes/{model_name}-finetuned-dagpap24\")\n",
    "    \n",
    "    # Tokenize all texts and align the labels with them.\n",
    "    def tokenize_and_align_labels(examples):\n",
    "        if type(examples['tokens'][0]) is bytes:\n",
    "            logger.info(\"Converting list of bytes to list of string\")\n",
    "            examples[\"tokens\"] = [ast.literal_eval(x.decode()) for x in examples['tokens']]\n",
    "\n",
    "        tokenized_inputs = finetuned_tokenizer(\n",
    "            examples['tokens'],\n",
    "            padding=config_params['padding'],\n",
    "            truncation=True,\n",
    "            max_length=config_params['max_length'],\n",
    "            # We use this argument because the texts in our dataset are lists\n",
    "            # of words (with a label for each word).\n",
    "            is_split_into_words=True,\n",
    "        )\n",
    "        labels = []\n",
    "        for i, label in enumerate(examples['ner_tags']):\n",
    "            word_ids = tokenized_inputs.word_ids(batch_index=i)\n",
    "            previous_word_idx = None\n",
    "            label_ids = []\n",
    "            for word_idx in word_ids:\n",
    "                # Special tokens have a word id that is None. We set the label\n",
    "                # to -100 so they are automatically\n",
    "                # ignored in the loss function.\n",
    "                if word_idx is None:\n",
    "                    label_ids.append(-100)\n",
    "                # We set the label for the first token of each word.\n",
    "                elif word_idx != previous_word_idx:\n",
    "                    label_ids.append(config_params['label_to_id'][label[word_idx]])\n",
    "                # For the other tokens in a word, we set the label\n",
    "                # to either the current label or -100, depending on\n",
    "                # the label_all_tokens flag.\n",
    "                else:\n",
    "                    label_ids.append(\n",
    "                        config_params['label_to_id'][label[word_idx]]\n",
    "                        # if data_args.label_all_tokens\n",
    "                        if False\n",
    "                        else -100\n",
    "                    )\n",
    "                previous_word_idx = word_idx\n",
    "\n",
    "            labels.append(label_ids)\n",
    "        tokenized_inputs[\"labels\"] = labels\n",
    "        return tokenized_inputs\n",
    "    \n",
    "    \n",
    "    def compute_metrics(p):\n",
    "        predictions, labels = p\n",
    "        predictions = np.argmax(predictions, axis=2)\n",
    "\n",
    "        merged_predictions = [\n",
    "            config_params['label_list'][p]\n",
    "            for (p, l) in zip(predictions.flatten(), labels.flatten())\n",
    "            if l != -100\n",
    "        ]\n",
    "        merged_labels = [\n",
    "            config_params['label_list'][l]\n",
    "            for (p, l) in zip(predictions.flatten(), labels.flatten())\n",
    "            if l != -100\n",
    "        ]\n",
    "\n",
    "        results = config_params['metric'].compute(\n",
    "            predictions=merged_predictions,\n",
    "            references=merged_labels,\n",
    "            average=\"macro\",\n",
    "        )\n",
    "\n",
    "        if config_params['return_entity_level_metrics']:\n",
    "\n",
    "            # Unpack nested dictionaries\n",
    "            final_results = {}\n",
    "            for key, value in results.items():\n",
    "                if isinstance(value, dict):\n",
    "                    for n, v in value.items():\n",
    "                        final_results[f\"{key}_{n}\"] = v\n",
    "                else:\n",
    "                    final_results[key] = value\n",
    "            return final_results\n",
    "        else:\n",
    "            return {\n",
    "                \"f1\": results[\"f1\"],\n",
    "            }\n",
    "    \n",
    "    test_dataset = my_datasets[\"test\"]\n",
    "    test_dataset = test_dataset.map(\n",
    "        tokenize_and_align_labels,\n",
    "        batched=config_params['batched'],\n",
    "        num_proc=config_params['num_proc'],\n",
    "        # load_from_cache_file=not data_args.overwrite_cache,\n",
    "        load_from_cache_file=False,\n",
    "    )\n",
    "    \n",
    "    data_collator = DataCollatorForTokenClassification(\n",
    "        finetuned_tokenizer, pad_to_multiple_of=None\n",
    "    )\n",
    "\n",
    "    trainer = Trainer(\n",
    "        model=finetuned_model,\n",
    "        tokenizer=finetuned_tokenizer,\n",
    "        data_collator=data_collator,\n",
    "        compute_metrics=compute_metrics,\n",
    "    )\n",
    "    \n",
    "    return trainer, test_dataset"
   ]
  },
  {
   "cell_type": "code",
   "execution_count": 10,
   "id": "bb66662d-06c1-4fd6-9126-399e84c4116b",
   "metadata": {
    "tags": []
   },
   "outputs": [],
   "source": [
    "def make_and_save_predictions(my_trainer, test_dataset, config_params):\n",
    "    # Run the predictions on the model that was finetuned\n",
    "    predictions, labels, metrics = my_trainer.predict(test_dataset)\n",
    "    predictions = np.argmax(predictions, axis=2)\n",
    "\n",
    "    # Remove ignored index (special tokens)\n",
    "    true_predictions = [\n",
    "        [config_params['label_list'][p] for (p, l) in zip(prediction, label) if l != -100]\n",
    "        for prediction, label in zip(predictions, labels)\n",
    "    ]\n",
    "    \n",
    "    assert len(predictions) == len(test_dataset)\n",
    "    data_list = []\n",
    "    for i in range(len(predictions)):\n",
    "        data_list.append(\n",
    "            {\n",
    "                \"index\": test_dataset[i][\"index\"],\n",
    "                \"predictions\": predictions[i].tolist(),\n",
    "            }\n",
    "        )\n",
    "    with open(config_params['output_json_predictions_file'], \"w\") as f:\n",
    "        f.write(json.dumps(data_list))"
   ]
  },
  {
   "cell_type": "code",
   "execution_count": 11,
   "id": "2133a52e-a953-4d06-94e9-7164376c15b4",
   "metadata": {
    "tags": []
   },
   "outputs": [],
   "source": [
    "def post_process_prediction(config_params):\n",
    "    convert_preds_to_original_format(config_params['test_filepath'],\n",
    "                                     config_params['output_json_predictions_file'], \n",
    "                                     config_params['output_parquet_predictions_file'])\n",
    "\n",
    "    "
   ]
  },
  {
   "cell_type": "code",
   "execution_count": null,
   "id": "e9500be8-ca9a-483d-926a-ba2886937999",
   "metadata": {},
   "outputs": [],
   "source": []
  },
  {
   "cell_type": "code",
   "execution_count": 12,
   "id": "3c4eb708-48ca-45de-92d4-06d031d97b65",
   "metadata": {
    "tags": []
   },
   "outputs": [],
   "source": [
    "\n",
    "def convert_preds_to_original_format(\n",
    "    path_to_test_data: str = \"\",\n",
    "    path_to_test_preds: str = \"\",\n",
    "    path_to_final_output: str = \"\",\n",
    "):\n",
    "    \"\"\"\n",
    "    This function takes the chunked preds and groups them into the original format\n",
    "    \"\"\"\n",
    "    logger.info(f\"Original Test Data Path: {path_to_test_data}\")\n",
    "    logger.info(f\"Test Set Predictions path:{path_to_test_preds}\")\n",
    "    logger.info(f\"Final Output Path:{path_to_final_output}\")\n",
    "    orig_test_data = pd.read_parquet(path_to_test_data, engine=\"fastparquet\")\n",
    "    if orig_test_data.index.name != \"index\":\n",
    "        orig_test_data.set_index(\"index\", inplace=True)\n",
    "    logger.info(f\"Original Test Data Loaded, {orig_test_data.shape}\")\n",
    "    \n",
    "    with open(path_to_test_preds, \"r\") as f:\n",
    "        test_preds = json.load(f)\n",
    "\n",
    "    test_preds_df = pd.DataFrame(test_preds).groupby(by=\"index\").agg(list)\n",
    "\n",
    "    logger.info(f\"Original Test DF = {orig_test_data.columns}, \\\n",
    "                  Index Range = {max(orig_test_data.index.tolist())}, {min(orig_test_data.index.tolist())},\\\n",
    "                  Original Test DF Shape = {orig_test_data.shape}\")\n",
    "    logger.info(f\"Predicted DF before apply = {test_preds_df.columns}\")\n",
    "    test_preds_df[\"preds\"] = test_preds_df[\"predictions\"].apply(\n",
    "        lambda x: sum(x, [])\n",
    "    )\n",
    "    \n",
    "    logger.info(f\"Predicted DF after apply Info\")\n",
    "    logger.info(f\"Predictions after DF = {test_preds_df.columns}, \\\n",
    "                  Index Range = {max(test_preds_df.index.tolist())}, {min(test_preds_df.index.tolist())},\\\n",
    "                  Original Test DF Shape = {test_preds_df.shape}\")\n",
    "\n",
    "\n",
    "    for index, row in test_preds_df.iterrows():\n",
    "        #logger.info(f\"Checking Index = {index}\")\n",
    "        #logger.info(f\"Original Length = {len(orig_test_data.loc[index, 'tokens'])}\")\n",
    "        #logger.info(f\"Predicted Length = {len(row['preds'])}\")\n",
    "        #logger.info(f\"Original Values = {orig_test_data.loc[index, 'tokens']}\")\n",
    "        #logger.info(f\"Predicted Values = {test_preds_df.at[index, 'preds']}\")\n",
    "        if len(row[\"preds\"]) > len(orig_test_data.loc[index, \"tokens\"]):\n",
    "            test_preds_df.at[index, \"preds\"] = row[\"preds\"][\n",
    "                : len(orig_test_data.loc[index, \"tokens\"])\n",
    "            ]\n",
    "\n",
    "        elif len(row[\"preds\"]) < len(orig_test_data.loc[index, \"tokens\"]):\n",
    "            test_preds_df.at[index, \"preds\"] = row[\"preds\"] + [0 for _ in range(\n",
    "                len(orig_test_data.loc[index, \"tokens\"]) - len(row[\"preds\"]))] \n",
    "    for index, row in test_preds_df.iterrows():\n",
    "        #logger.info(f\"Checking Index = {index}\")\n",
    "        assert len(row[\"preds\"]) == len(orig_test_data.loc[index, \"tokens\"])\n",
    "\n",
    "    pd.DataFrame(test_preds_df[\"preds\"]).to_parquet(path_to_final_output)\n",
    "    print(f\"final dataset saved to {path_to_final_output}\")\n",
    "\n",
    "    return None"
   ]
  },
  {
   "cell_type": "code",
   "execution_count": null,
   "id": "c9cefe60-93a0-4242-a6c3-c10e81df8297",
   "metadata": {},
   "outputs": [],
   "source": []
  },
  {
   "cell_type": "code",
   "execution_count": 13,
   "id": "a116276a-ea0b-4368-97f7-08cddceb380f",
   "metadata": {
    "tags": []
   },
   "outputs": [],
   "source": [
    "# Expected param for test_filepath = 'data/test_data.parquet'\n",
    "# json_test_filepath: data_gen_content_test_roberta.json\n",
    "def convert_parquet_data_to_json(parent_directory, test_filepath, json_test_filepath, config_params):\n",
    "    test_df = prep_test_data(\n",
    "        path_to_file=Path(parent_directory) / Path(test_filepath),\n",
    "        max_length=config_params['max_length'],\n",
    "    )\n",
    "    logger.info(\"Writing test df to json...\")\n",
    "    write_df_to_json(\n",
    "        test_df,\n",
    "        f\"{parent_directory}/{json_test_filepath}\",\n",
    "    )"
   ]
  },
  {
   "cell_type": "code",
   "execution_count": 14,
   "id": "1177510c-9dec-4453-8f00-ec173fb33b9d",
   "metadata": {
    "tags": []
   },
   "outputs": [],
   "source": [
    "def write_df_to_json(df: pd.DataFrame, path_to_json: str):\n",
    "    \"\"\"\n",
    "    This function writes pandas dataframes into a compatible json format\n",
    "    to be used by hf_token_classification.py\n",
    "    \"\"\"\n",
    "    index_list = df[\"index\"].values.tolist()\n",
    "    tokens_list = df[\"tokens\"].values.tolist()\n",
    "    labels_list = df[\"labels\"].values.tolist()\n",
    "    data_list = []\n",
    "    for i in tqdm(range(len(tokens_list)), total=len(tokens_list)):\n",
    "        index = index_list[i]\n",
    "        tokens = tokens_list[i]\n",
    "        labels = [str(el) for el in labels_list[i]]\n",
    "        data_list.append(\n",
    "            {\"index\": index, \"tokens\": tokens, \"ner_tags\": labels}\n",
    "        )\n",
    "    with open(path_to_json, \"w\") as f:\n",
    "        f.write(json.dumps(data_list))"
   ]
  },
  {
   "cell_type": "code",
   "execution_count": 15,
   "id": "a1a3e303-179f-4b96-a1fb-2b278408d479",
   "metadata": {
    "tags": []
   },
   "outputs": [],
   "source": [
    "def prep_test_data(path_to_file, max_length):\n",
    "    logger.info(f\"Loading test dataset from file\")\n",
    "    df = pd.read_parquet(path_to_file, engine=\"fastparquet\")\n",
    "    if df.index.name != \"index\":\n",
    "        df.set_index(\"index\", inplace=True)\n",
    "\n",
    "    # the external NER Classification script needs a target column\n",
    "    # for the test set as well, which is not available.\n",
    "    # Therefore, we're subsidizing this column with a fake label column\n",
    "    # Which we're not using anyway, since we're only using the test set\n",
    "    # for predictions.\n",
    "    if \"token_label_ids\" not in df.columns:\n",
    "        df[\"token_label_ids\"] = df[\"tokens\"].apply(\n",
    "            lambda x: np.zeros(len(x), dtype=int)\n",
    "        )\n",
    "    df = df[[\"tokens\", \"token_label_ids\"]]\n",
    "\n",
    "    logger.info(f\"Initial test data length: {len(df)}\")\n",
    "    df = chunk_tokens_labels(df, max_length=max_length)\n",
    "    logger.info(\n",
    "        f\"Test data length after chunking to max {max_length} tokens: {len(df)}\"\n",
    "    )\n",
    "\n",
    "    return df"
   ]
  },
  {
   "cell_type": "code",
   "execution_count": 16,
   "id": "938abc1b-d2e8-4e18-b99b-6f5063337dee",
   "metadata": {
    "tags": []
   },
   "outputs": [],
   "source": [
    "def chunk_tokens_labels(df: pd.DataFrame, max_length: int):\n",
    "    \"\"\"\n",
    "    This function chunks tokens and their respective labels to\n",
    "    max_length token length\n",
    "    \"\"\"\n",
    "    index_list = []\n",
    "    tokens_list = []\n",
    "    labels_list = []\n",
    "    for index, row in tqdm(df.iterrows(), total=len(df)):\n",
    "        if len(row[\"token_label_ids\"]) > max_length:\n",
    "            remaining_tokens = row[\"tokens\"]\n",
    "            remaining_labels = row[\"token_label_ids\"]\n",
    "\n",
    "            # While the remaining list is larger than max_length,\n",
    "            # truncate and append\n",
    "            while len(remaining_labels) > max_length:\n",
    "                index_list.append(index)\n",
    "                tokens_list.append(remaining_tokens[:max_length])\n",
    "                labels_list.append(remaining_labels[:max_length])\n",
    "                remaining_tokens = remaining_tokens[max_length:]\n",
    "                remaining_labels = remaining_labels[max_length:]\n",
    "            # Append last chunk\n",
    "            index_list.append(index)\n",
    "            tokens_list.append(remaining_tokens)\n",
    "            labels_list.append(remaining_labels)\n",
    "        else:\n",
    "            index_list.append(index)\n",
    "            tokens_list.append(row[\"tokens\"])\n",
    "            labels_list.append(row[\"token_label_ids\"])\n",
    "\n",
    "    return pd.DataFrame(\n",
    "        {\"index\": index_list, \"tokens\": tokens_list, \"labels\": labels_list}\n",
    "    )\n"
   ]
  },
  {
   "cell_type": "code",
   "execution_count": null,
   "id": "7f4407c9-650f-4deb-8717-31b68383348e",
   "metadata": {},
   "outputs": [],
   "source": []
  },
  {
   "cell_type": "code",
   "execution_count": null,
   "id": "0c1d9301-0b71-47c2-8e2b-1f1d42d74837",
   "metadata": {},
   "outputs": [],
   "source": [
    "%%time\n",
    "model_pipeline('roberta')"
   ]
  }
 ],
 "metadata": {
  "kernelspec": {
   "display_name": "conda_python3",
   "language": "python",
   "name": "conda_python3"
  },
  "language_info": {
   "codemirror_mode": {
    "name": "ipython",
    "version": 3
   },
   "file_extension": ".py",
   "mimetype": "text/x-python",
   "name": "python",
   "nbconvert_exporter": "python",
   "pygments_lexer": "ipython3",
   "version": "3.10.13"
  }
 },
 "nbformat": 4,
 "nbformat_minor": 5
}
