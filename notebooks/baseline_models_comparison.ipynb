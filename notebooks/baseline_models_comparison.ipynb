{
 "cells": [
  {
   "cell_type": "markdown",
   "id": "ed80b5b2-e96b-45c9-a319-c62c26a598f7",
   "metadata": {
    "tags": []
   },
   "source": [
    "## Model comparison script"
   ]
  },
  {
   "cell_type": "code",
   "execution_count": 1,
   "id": "3afb94af-8ad3-45ca-8258-a9463b9614a2",
   "metadata": {
    "tags": []
   },
   "outputs": [],
   "source": [
    "import pandas as pd\n",
    "import numpy as np\n",
    "import s3fs\n",
    "import pyarrow.parquet as pq\n",
    "import os\n",
    "import fastparquet\n",
    "import random\n",
    "import statistics\n",
    "import traceback\n",
    "import ast\n",
    "from collections import Counter\n",
    "import langchain\n",
    "import json\n",
    "from langchain.agents import create_openai_functions_agent\n",
    "from langchain_openai import ChatOpenAI\n",
    "from langchain_core.messages import HumanMessage, SystemMessage\n",
    "from langchain_core.prompts import ChatPromptTemplate"
   ]
  },
  {
   "cell_type": "code",
   "execution_count": 2,
   "id": "b04c2717-9adf-4aed-a2ae-2da1115dbcf2",
   "metadata": {
    "tags": []
   },
   "outputs": [],
   "source": [
    "s3 = s3fs.S3FileSystem()"
   ]
  },
  {
   "cell_type": "code",
   "execution_count": 3,
   "id": "0fb07215-c311-4e75-9c33-ee3390bec919",
   "metadata": {
    "tags": []
   },
   "outputs": [],
   "source": [
    "contesting_models = ['roberta', 'scibert', 'deberta', 'biomed_roberta', 'cs_roberta']"
   ]
  },
  {
   "cell_type": "code",
   "execution_count": 4,
   "id": "55ab3053-7ac3-4dc5-a807-56adcc0a8a3a",
   "metadata": {
    "tags": []
   },
   "outputs": [],
   "source": [
    "# TODO: Make changes in this cell after cs_roberta\n",
    "# Save the predictions_cs_roberta.parquet file to S3 dagpapsubmission\n",
    "\n",
    "total_score = (0.220629 + 0.22031 + 0.220398 + 0.2204659 + 0.220459 )\n",
    "model_scores = {'roberta': 0.22031, 'scibert': 0.220629, 'deberta': 0.220398, 'biomed_roberta': 0.2204659,'cs_roberta':  0.220459 }\n",
    "total_score = sum(list(map(lambda x:model_scores[x],list(model_scores.keys()))))\n",
    "model_weights = {\"scibert\": model_scores['scibert']/total_score,\n",
    "                 \"roberta\": model_scores['roberta']/total_score,\n",
    "                 \"deberta\": model_scores['deberta']/total_score,\n",
    "                 \"biomed_roberta\": model_scores['biomed_roberta']/total_score,\n",
    "                 \"cs_roberta\": model_scores['biomed_roberta']/total_score}"
   ]
  },
  {
   "cell_type": "code",
   "execution_count": 5,
   "id": "23bb6f78-0fd6-46cb-92be-c1161130fbc3",
   "metadata": {
    "tags": []
   },
   "outputs": [
    {
     "data": {
      "text/plain": [
       "{'scibert': 0.20016023415124842,\n",
       " 'roberta': 0.19987082924666089,\n",
       " 'deberta': 0.1999506650824092,\n",
       " 'biomed_roberta': 0.20001226568749222,\n",
       " 'cs_roberta': 0.20001226568749222}"
      ]
     },
     "execution_count": 5,
     "metadata": {},
     "output_type": "execute_result"
    }
   ],
   "source": [
    "model_weights"
   ]
  },
  {
   "cell_type": "code",
   "execution_count": 6,
   "id": "4bea9938-dcf0-4b0e-a824-05147807b1d4",
   "metadata": {
    "tags": []
   },
   "outputs": [],
   "source": [
    "# class_dict = {\"human\":0,\"NLTK_synonym_replacement\":1,\"chatgpt\":2,\"summarized\":3}\n",
    "# class_labels_list = [0, 1, 2, 3]"
   ]
  },
  {
   "cell_type": "code",
   "execution_count": null,
   "id": "1e052783-fda7-4928-a611-ed0885145141",
   "metadata": {},
   "outputs": [],
   "source": []
  },
  {
   "cell_type": "code",
   "execution_count": 7,
   "id": "7d61b236-6e09-46da-9eaf-c154416c1c25",
   "metadata": {
    "tags": []
   },
   "outputs": [],
   "source": [
    "def merge_model_predictions():\n",
    "    dev_df = pq.ParquetDataset('s3://dagpapsubmission/data/data_dev_data.parquet', filesystem=s3).read_pandas().to_pandas()\n",
    "    dev_df[\"tokens\"] = dev_df.tokens.map(lambda x:ast.literal_eval(x.decode()))\n",
    "    \n",
    "    for model in contesting_models[0:-1]:\n",
    "        model_df = pq.ParquetDataset(f's3://dagpapsubmission/predictions_{model}.parquet', filesystem=s3).read_pandas().to_pandas()\n",
    "        model_df.rename(columns={'preds': f'{model}_preds'}, inplace=True)\n",
    "        \n",
    "        dev_df = dev_df.merge(model_df, how='inner', left_index=True, right_index=True)\n",
    "        print(f\"Data shape after merging with {model} model {dev_df.shape}\")\n",
    "    \n",
    "    return dev_df"
   ]
  },
  {
   "cell_type": "code",
   "execution_count": 8,
   "id": "b1527e1f-0e9b-4cdf-abff-e50f670481f1",
   "metadata": {
    "tags": []
   },
   "outputs": [
    {
     "data": {
      "text/plain": [
       "{'FOS': [{'field_of_study': 'Art',\n",
       "   'sub_fields': ['Aesthetics, Art History, Classics, Humanities, Literature, Visual Arts']},\n",
       "  {'field_of_study': 'Biology',\n",
       "   'sub_fields': ['Anatomy, Animal Science, Bioinformatics, Botany, Genetics, Immunology, Zoology']},\n",
       "  {'field_of_study': 'Business',\n",
       "   'sub_fields': ['Accounting, Actuarial Science, Commerce, Finance, International Trade, Marketing']},\n",
       "  {'field_of_study': 'Chemistry',\n",
       "   'sub_fields': ['Biochemistry, Food Science, Mineralogy, Organic Chemistry, Radiochemistry']},\n",
       "  {'field_of_study': 'Computer Science',\n",
       "   'sub_fields': ['Algorithm, Artificial Intelligence, Database, Internet Privacy, Parallel Computing']},\n",
       "  {'field_of_study': 'Economics',\n",
       "   'sub_fields': ['Accounting, International Trade, Management, Political Economy, Socioeconomics']},\n",
       "  {'field_of_study': 'Engineering',\n",
       "   'sub_fields': ['Aeronautics, Control Theory, Nuclear Engineering, Simulation, Systems-Engineering']},\n",
       "  {'field_of_study': 'Environmental Science',\n",
       "   'sub_fields': ['Agricultural Science, Agroforestry, Environmental Planning, Environmental Protection']},\n",
       "  {'field_of_study': 'Geography',\n",
       "   'sub_fields': ['Archaeology, Cartography, Forestry, Geodesy, Meteorology, Regional Science']},\n",
       "  {'field_of_study': 'Geology',\n",
       "   'sub_fields': ['Climatology, Earth Science, Geophysics, Hydrology, Oceanography, Petrology']},\n",
       "  {'field_of_study': 'History',\n",
       "   'sub_fields': ['Ancient History, Archaeology, Classics, Economic History, Ethnology, Genealogy']},\n",
       "  {'field_of_study': 'Materials Science',\n",
       "   'sub_fields': ['Ceramic Materials, Composite Material, Metallurgy, Nanotechnology, Optoelectronics']},\n",
       "  {'field_of_study': 'Mathematics',\n",
       "   'sub_fields': ['Algebra, Combinatorics, Geometry, Mathematical Optimization, Statistics, Topology']},\n",
       "  {'field_of_study': 'Medicine',\n",
       "   'sub_fields': ['Audiology, Cancer Research, Nursing, Orthodontics, Pediatrics, Surgery, Virology']},\n",
       "  {'field_of_study': 'Philosophy',\n",
       "   'sub_fields': ['Aesthetics, Epistemology, Humanities, Linguistics, Religious Studies, Theology']},\n",
       "  {'field_of_study': 'Physics',\n",
       "   'sub_fields': ['Astronomy, Geophysics, Nuclear Physics, Quantum Mechanics, Thermodynamics']},\n",
       "  {'field_of_study': 'Political Science',\n",
       "   'sub_fields': ['Law, Public Administration, Public Relations']},\n",
       "  {'field_of_study': 'Psychology',\n",
       "   'sub_fields': ['Cognitive Science, Criminology, Neuroscience, Psychiatry, Social Psychology']},\n",
       "  {'field_of_study': 'Sociology',\n",
       "   'sub_fields': ['Anthropology, Demography, Ethnology, Gender Studies, Media Studies, Political Economy']}]}"
      ]
     },
     "execution_count": 8,
     "metadata": {},
     "output_type": "execute_result"
    }
   ],
   "source": [
    "#Load MAG-FOS Taxonomy JSON for different fields of study\"\n",
    "with open('MAG_FOS.json',\"r+\") as f:\n",
    "    mag_fox_taxonomy = json.load(f)\n",
    "mag_fox_taxonomy"
   ]
  },
  {
   "cell_type": "code",
   "execution_count": 9,
   "id": "5a49bfbb-a42d-459d-8a9d-e2a09a7f4bda",
   "metadata": {
    "tags": []
   },
   "outputs": [
    {
     "ename": "ValidationError",
     "evalue": "1 validation error for ChatOpenAI\n__root__\n  Did not find openai_api_key, please add an environment variable `OPENAI_API_KEY` which contains it, or pass `openai_api_key` as a named parameter. (type=value_error)",
     "output_type": "error",
     "traceback": [
      "\u001b[0;31m---------------------------------------------------------------------------\u001b[0m",
      "\u001b[0;31mValidationError\u001b[0m                           Traceback (most recent call last)",
      "Cell \u001b[0;32mIn[9], line 3\u001b[0m\n\u001b[1;32m      1\u001b[0m \u001b[38;5;66;03m#Setup and test the LLM Instance for all tasks with respect to this analysis\u001b[39;00m\n\u001b[1;32m      2\u001b[0m llm_models \u001b[38;5;241m=\u001b[39m [\u001b[38;5;124m'\u001b[39m\u001b[38;5;124mgpt-4-turbo-2024-04-09\u001b[39m\u001b[38;5;124m'\u001b[39m]\n\u001b[0;32m----> 3\u001b[0m llms \u001b[38;5;241m=\u001b[39m \u001b[38;5;28;43mlist\u001b[39;49m\u001b[43m(\u001b[49m\u001b[38;5;28;43mmap\u001b[39;49m\u001b[43m(\u001b[49m\u001b[38;5;28;43;01mlambda\u001b[39;49;00m\u001b[43m \u001b[49m\u001b[43mx\u001b[49m\u001b[43m:\u001b[49m\u001b[43m \u001b[49m\u001b[43mChatOpenAI\u001b[49m\u001b[43m(\u001b[49m\u001b[43mmodel\u001b[49m\u001b[38;5;241;43m=\u001b[39;49m\u001b[43mx\u001b[49m\u001b[43m,\u001b[49m\u001b[43m \u001b[49m\u001b[43mtemperature\u001b[49m\u001b[38;5;241;43m=\u001b[39;49m\u001b[38;5;241;43m0\u001b[39;49m\u001b[43m)\u001b[49m\u001b[43m,\u001b[49m\u001b[43mllm_models\u001b[49m\u001b[43m)\u001b[49m\u001b[43m)\u001b[49m\n\u001b[1;32m      4\u001b[0m llm_tests \u001b[38;5;241m=\u001b[39m \u001b[38;5;28mlist\u001b[39m(\u001b[38;5;28mmap\u001b[39m(\u001b[38;5;28;01mlambda\u001b[39;00m x:x(\u001b[38;5;124m\"\u001b[39m\u001b[38;5;124mwho are you, give me your model name and version?\u001b[39m\u001b[38;5;124m\"\u001b[39m),llms))\n",
      "Cell \u001b[0;32mIn[9], line 3\u001b[0m, in \u001b[0;36m<lambda>\u001b[0;34m(x)\u001b[0m\n\u001b[1;32m      1\u001b[0m \u001b[38;5;66;03m#Setup and test the LLM Instance for all tasks with respect to this analysis\u001b[39;00m\n\u001b[1;32m      2\u001b[0m llm_models \u001b[38;5;241m=\u001b[39m [\u001b[38;5;124m'\u001b[39m\u001b[38;5;124mgpt-4-turbo-2024-04-09\u001b[39m\u001b[38;5;124m'\u001b[39m]\n\u001b[0;32m----> 3\u001b[0m llms \u001b[38;5;241m=\u001b[39m \u001b[38;5;28mlist\u001b[39m(\u001b[38;5;28mmap\u001b[39m(\u001b[38;5;28;01mlambda\u001b[39;00m x: \u001b[43mChatOpenAI\u001b[49m\u001b[43m(\u001b[49m\u001b[43mmodel\u001b[49m\u001b[38;5;241;43m=\u001b[39;49m\u001b[43mx\u001b[49m\u001b[43m,\u001b[49m\u001b[43m \u001b[49m\u001b[43mtemperature\u001b[49m\u001b[38;5;241;43m=\u001b[39;49m\u001b[38;5;241;43m0\u001b[39;49m\u001b[43m)\u001b[49m,llm_models))\n\u001b[1;32m      4\u001b[0m llm_tests \u001b[38;5;241m=\u001b[39m \u001b[38;5;28mlist\u001b[39m(\u001b[38;5;28mmap\u001b[39m(\u001b[38;5;28;01mlambda\u001b[39;00m x:x(\u001b[38;5;124m\"\u001b[39m\u001b[38;5;124mwho are you, give me your model name and version?\u001b[39m\u001b[38;5;124m\"\u001b[39m),llms))\n",
      "File \u001b[0;32m~/anaconda3/envs/python3/lib/python3.10/site-packages/langchain_core/load/serializable.py:120\u001b[0m, in \u001b[0;36mSerializable.__init__\u001b[0;34m(self, **kwargs)\u001b[0m\n\u001b[1;32m    119\u001b[0m \u001b[38;5;28;01mdef\u001b[39;00m \u001b[38;5;21m__init__\u001b[39m(\u001b[38;5;28mself\u001b[39m, \u001b[38;5;241m*\u001b[39m\u001b[38;5;241m*\u001b[39mkwargs: Any) \u001b[38;5;241m-\u001b[39m\u001b[38;5;241m>\u001b[39m \u001b[38;5;28;01mNone\u001b[39;00m:\n\u001b[0;32m--> 120\u001b[0m     \u001b[38;5;28;43msuper\u001b[39;49m\u001b[43m(\u001b[49m\u001b[43m)\u001b[49m\u001b[38;5;241;43m.\u001b[39;49m\u001b[38;5;21;43m__init__\u001b[39;49m\u001b[43m(\u001b[49m\u001b[38;5;241;43m*\u001b[39;49m\u001b[38;5;241;43m*\u001b[39;49m\u001b[43mkwargs\u001b[49m\u001b[43m)\u001b[49m\n\u001b[1;32m    121\u001b[0m     \u001b[38;5;28mself\u001b[39m\u001b[38;5;241m.\u001b[39m_lc_kwargs \u001b[38;5;241m=\u001b[39m kwargs\n",
      "File \u001b[0;32m~/anaconda3/envs/python3/lib/python3.10/site-packages/pydantic/v1/main.py:341\u001b[0m, in \u001b[0;36mBaseModel.__init__\u001b[0;34m(__pydantic_self__, **data)\u001b[0m\n\u001b[1;32m    339\u001b[0m values, fields_set, validation_error \u001b[38;5;241m=\u001b[39m validate_model(__pydantic_self__\u001b[38;5;241m.\u001b[39m\u001b[38;5;18m__class__\u001b[39m, data)\n\u001b[1;32m    340\u001b[0m \u001b[38;5;28;01mif\u001b[39;00m validation_error:\n\u001b[0;32m--> 341\u001b[0m     \u001b[38;5;28;01mraise\u001b[39;00m validation_error\n\u001b[1;32m    342\u001b[0m \u001b[38;5;28;01mtry\u001b[39;00m:\n\u001b[1;32m    343\u001b[0m     object_setattr(__pydantic_self__, \u001b[38;5;124m'\u001b[39m\u001b[38;5;124m__dict__\u001b[39m\u001b[38;5;124m'\u001b[39m, values)\n",
      "\u001b[0;31mValidationError\u001b[0m: 1 validation error for ChatOpenAI\n__root__\n  Did not find openai_api_key, please add an environment variable `OPENAI_API_KEY` which contains it, or pass `openai_api_key` as a named parameter. (type=value_error)"
     ]
    }
   ],
   "source": [
    "#Setup and test the LLM Instance for all tasks with respect to this analysis\n",
    "llm_models = ['gpt-4-turbo-2024-04-09']\n",
    "llms = list(map(lambda x: ChatOpenAI(model=x, temperature=0),llm_models))\n",
    "llm_tests = list(map(lambda x:x(\"who are you, give me your model name and version?\"),llms))"
   ]
  },
  {
   "cell_type": "code",
   "execution_count": 10,
   "id": "115ab815-ed52-4020-be6e-d3104a0af6a0",
   "metadata": {
    "tags": []
   },
   "outputs": [
    {
     "ename": "KeyError",
     "evalue": "'OPENAI_API_KEY'",
     "output_type": "error",
     "traceback": [
      "\u001b[0;31m---------------------------------------------------------------------------\u001b[0m",
      "\u001b[0;31mKeyError\u001b[0m                                  Traceback (most recent call last)",
      "Cell \u001b[0;32mIn[10], line 2\u001b[0m\n\u001b[1;32m      1\u001b[0m \u001b[38;5;28;01mimport\u001b[39;00m \u001b[38;5;21;01mos\u001b[39;00m\n\u001b[0;32m----> 2\u001b[0m \u001b[38;5;28mprint\u001b[39m (\u001b[43mos\u001b[49m\u001b[38;5;241;43m.\u001b[39;49m\u001b[43menviron\u001b[49m\u001b[43m[\u001b[49m\u001b[38;5;124;43m'\u001b[39;49m\u001b[38;5;124;43mOPENAI_API_KEY\u001b[39;49m\u001b[38;5;124;43m'\u001b[39;49m\u001b[43m]\u001b[49m)\n",
      "File \u001b[0;32m~/anaconda3/envs/python3/lib/python3.10/os.py:680\u001b[0m, in \u001b[0;36m_Environ.__getitem__\u001b[0;34m(self, key)\u001b[0m\n\u001b[1;32m    677\u001b[0m     value \u001b[38;5;241m=\u001b[39m \u001b[38;5;28mself\u001b[39m\u001b[38;5;241m.\u001b[39m_data[\u001b[38;5;28mself\u001b[39m\u001b[38;5;241m.\u001b[39mencodekey(key)]\n\u001b[1;32m    678\u001b[0m \u001b[38;5;28;01mexcept\u001b[39;00m \u001b[38;5;167;01mKeyError\u001b[39;00m:\n\u001b[1;32m    679\u001b[0m     \u001b[38;5;66;03m# raise KeyError with the original key value\u001b[39;00m\n\u001b[0;32m--> 680\u001b[0m     \u001b[38;5;28;01mraise\u001b[39;00m \u001b[38;5;167;01mKeyError\u001b[39;00m(key) \u001b[38;5;28;01mfrom\u001b[39;00m \u001b[38;5;28;01mNone\u001b[39;00m\n\u001b[1;32m    681\u001b[0m \u001b[38;5;28;01mreturn\u001b[39;00m \u001b[38;5;28mself\u001b[39m\u001b[38;5;241m.\u001b[39mdecodevalue(value)\n",
      "\u001b[0;31mKeyError\u001b[0m: 'OPENAI_API_KEY'"
     ]
    }
   ],
   "source": [
    "import os\n",
    "print (os.environ['OPENAI_API_KEY'])"
   ]
  },
  {
   "cell_type": "code",
   "execution_count": null,
   "id": "6eebb681-483f-4e02-a237-f256f5a45d7b",
   "metadata": {
    "tags": []
   },
   "outputs": [],
   "source": [
    "def get_max_repeated_pred(input_df):\n",
    "    input_df['preds'] = None\n",
    "    input_df['majority_model'] = 'baseline'\n",
    "    input_df['majority_col'] = None\n",
    "    for index, row in input_df.iterrows():\n",
    "        combined_preds_max = [0] * len(row['tokens'])\n",
    "        majority_model_prediction = ['baseline'] * len(row['tokens'])\n",
    "        majority_col_val = [0] * len(row['tokens'])\n",
    "    \n",
    "        for i in range(len(row['tokens'])):\n",
    "            preds_data = [row['roberta_preds'][i], row['scibert_preds'][i], row['deberta_preds'][i],\n",
    "                              row['biomed_roberta_preds'][i], row['cs_roberta_preds'][i]]\n",
    "            \n",
    "            max_repeated = statistics.multimode(preds_data)\n",
    "            if len(max_repeated) != 1:\n",
    "                # Weighted avg\n",
    "                combined_preds_max[i] = random.choices(\n",
    "                    preds_data, weights=[model_weights['roberta'], model_weights['scibert'],\n",
    "                                         model_weights['deberta'], model_weights['biomed_roberta'], \n",
    "                                         model_weights['cs_roberta']],\n",
    "                    k=1)[0]\n",
    "                if combined_preds_max[i] == row['deberta_preds'][i]:\n",
    "                    majority_model_prediction[i] = 'deberta'\n",
    "                elif combined_preds_max[i] == row['biomed_roberta_preds'][i]:\n",
    "                    majority_model_prediction[i] = 'biomed_roberta'\n",
    "                elif combined_preds_max[i] == row['roberta_preds'][i]:\n",
    "                    majority_model_prediction[i] = 'roberta'\n",
    "                elif combined_preds_max[i] == row['cs_roberta_preds'][i]:\n",
    "                    majority_model_prediction[i] = 'cs_roberta'\n",
    "                else:\n",
    "                    majority_model_prediction[i] = 'scibert'\n",
    "                majority_col_val[i] = 0\n",
    "            else:\n",
    "                combined_preds_max[i] = max_repeated[0]\n",
    "                if (row['deberta_preds'][i] == row['biomed_roberta_preds'][i]) and \\\n",
    "                (row['roberta_preds'][i] == row['biomed_roberta_preds'][i]) and \\\n",
    "                (row['roberta_preds'][i] == row['scibert_preds'][i]) and \\\n",
    "                (row['deberta_preds'][i] == row['scibert_preds'][i]) and \\\n",
    "                (row['cs_roberta_preds'][i] == row['scibert_preds'][i]):\n",
    "                    majority_model_prediction[i] = 'all'\n",
    "                else:\n",
    "                    majority_model_prediction[i] = 'majority'\n",
    "                majority_col_val[i] = 1\n",
    "                    \n",
    "        input_df.at[index,'preds'] = combined_preds_max\n",
    "        input_df.at[index, 'majority_model'] = majority_model_prediction\n",
    "        input_df.at[index, 'majority_col'] = majority_col_val\n",
    "        \n",
    "    return input_df"
   ]
  },
  {
   "cell_type": "code",
   "execution_count": null,
   "id": "7b410089-48e2-4585-be04-903b53b59c93",
   "metadata": {},
   "outputs": [],
   "source": []
  },
  {
   "cell_type": "code",
   "execution_count": null,
   "id": "deaed1a4-8e18-4240-93fc-8d64f9c3f620",
   "metadata": {},
   "outputs": [],
   "source": []
  },
  {
   "cell_type": "code",
   "execution_count": null,
   "id": "94fddd27-4516-495b-82f9-d57f68ff1586",
   "metadata": {},
   "outputs": [],
   "source": []
  },
  {
   "cell_type": "markdown",
   "id": "d7727375-d587-4776-ad77-b243d9490179",
   "metadata": {},
   "source": [
    "### Function calls to make the predictions and save the parquet file"
   ]
  },
  {
   "cell_type": "code",
   "execution_count": null,
   "id": "8cb173fb-5f4b-4571-816b-846ea782749f",
   "metadata": {
    "tags": []
   },
   "outputs": [],
   "source": [
    "%%time\n",
    "merged_model_dev_predictions = merge_model_predictions()"
   ]
  },
  {
   "cell_type": "code",
   "execution_count": null,
   "id": "1d210dc0-7b12-4134-9ea7-77c3043554b4",
   "metadata": {
    "tags": []
   },
   "outputs": [],
   "source": [
    "merged_model_dev_predictions.head()"
   ]
  },
  {
   "cell_type": "code",
   "execution_count": null,
   "id": "585d8a20-2995-482c-9331-17a29eef60ea",
   "metadata": {
    "tags": []
   },
   "outputs": [],
   "source": [
    "%%time\n",
    "majority_vote_df = get_max_repeated_pred(merged_model_dev_predictions)\n",
    "majority_vote_df.head()"
   ]
  },
  {
   "cell_type": "code",
   "execution_count": null,
   "id": "37934e13-041a-44ad-810a-b94d31975a7a",
   "metadata": {},
   "outputs": [],
   "source": [
    "majority_vote_df[['preds']].to_parquet('predictions_four_models.parquet')"
   ]
  },
  {
   "cell_type": "code",
   "execution_count": null,
   "id": "bc07a6ea-29d6-420f-930b-12c5a730f7fc",
   "metadata": {
    "tags": []
   },
   "outputs": [],
   "source": [
    "majority_vote_df.head()"
   ]
  },
  {
   "cell_type": "markdown",
   "id": "5de1a1ca-a626-48ea-8b6c-85020f0acf2a",
   "metadata": {},
   "source": [
    "# End here"
   ]
  },
  {
   "cell_type": "code",
   "execution_count": null,
   "id": "774b7721-2cbd-4408-a80b-b389802b76a2",
   "metadata": {},
   "outputs": [],
   "source": []
  },
  {
   "cell_type": "code",
   "execution_count": null,
   "id": "5d946faf-f677-4bb8-b98f-b46cf6d8be69",
   "metadata": {},
   "outputs": [],
   "source": []
  },
  {
   "cell_type": "code",
   "execution_count": null,
   "id": "dae70220-fbe1-40f3-8bc4-64c2469496cf",
   "metadata": {},
   "outputs": [],
   "source": []
  },
  {
   "cell_type": "markdown",
   "id": "e24b0a7e-0ffb-40ae-8f93-d9acf7699f4d",
   "metadata": {},
   "source": [
    "### Finding the stats about the majority column"
   ]
  },
  {
   "cell_type": "code",
   "execution_count": null,
   "id": "f4a28361-a0d4-40e2-869a-79a89756db9d",
   "metadata": {},
   "outputs": [],
   "source": [
    "def get_model_stats(row):\n",
    "    stats_dict = row['stats']\n",
    "    out_dict = {}\n",
    "    out_keys =  ['roberta', 'scibert', 'deberta', 'biomed_roberta',  'all']\n",
    "    out_dict = {key:stats_dict[key] if key in list(stats_dict.keys()) else 0 for key in out_keys}\n",
    "    \n",
    "    return out_dict"
   ]
  },
  {
   "cell_type": "code",
   "execution_count": null,
   "id": "f83d853f-687e-4707-9232-a891af78d934",
   "metadata": {
    "tags": []
   },
   "outputs": [],
   "source": [
    "majority_vote_df['stats'] = majority_vote_df[['majority_model']].map(lambda x: Counter(x))\n",
    "# majority_vote_df.head()"
   ]
  },
  {
   "cell_type": "code",
   "execution_count": null,
   "id": "51091ee3-4c35-4c7c-a2a6-05a6b2dd56ae",
   "metadata": {
    "tags": []
   },
   "outputs": [],
   "source": [
    "stats_df = majority_vote_df[['tokens', 'stats', 'majority_col']]\n",
    "stats_df.head()"
   ]
  },
  {
   "cell_type": "code",
   "execution_count": null,
   "id": "211da002-bae6-43bd-aba4-cf698c1edd53",
   "metadata": {
    "tags": []
   },
   "outputs": [],
   "source": [
    "stats_df['len_tokens'] = stats_df['tokens'].map(lambda x : len(x))\n",
    "stats_df.drop(columns=['tokens'], inplace=True)"
   ]
  },
  {
   "cell_type": "code",
   "execution_count": null,
   "id": "9169117c-bf02-4455-b53c-8ecc50825aba",
   "metadata": {
    "tags": []
   },
   "outputs": [],
   "source": [
    "stats_df['sum_majority'] = stats_df['majority_col'].map(lambda x : sum(x))"
   ]
  },
  {
   "cell_type": "code",
   "execution_count": null,
   "id": "188936a8-b6ba-42c1-9faf-3ad1d0fa61da",
   "metadata": {
    "tags": []
   },
   "outputs": [],
   "source": [
    "stats_df['sum_majority_not_all'] = stats_df['sum_majority'] - stats_df['all']\n",
    "stats_df.head()"
   ]
  },
  {
   "cell_type": "code",
   "execution_count": null,
   "id": "6c54fe52-7054-466a-9001-0a7ac59a96f2",
   "metadata": {
    "tags": []
   },
   "outputs": [],
   "source": [
    "stats_df['pct_majority'] = 100 * stats_df['sum_majority']/stats_df['len_tokens']"
   ]
  },
  {
   "cell_type": "code",
   "execution_count": null,
   "id": "c8354796-f934-4110-a11e-0e5c7229fc82",
   "metadata": {
    "tags": []
   },
   "outputs": [],
   "source": []
  },
  {
   "cell_type": "code",
   "execution_count": null,
   "id": "151631eb-d4fc-442f-af7b-bd3489f50175",
   "metadata": {
    "tags": []
   },
   "outputs": [],
   "source": [
    "stats_df[['roberta', 'scibert', 'deberta', 'biomed_roberta',  'all']] = stats_df.apply(\n",
    "    lambda x : get_model_stats(x), axis=1, result_type='expand')"
   ]
  },
  {
   "cell_type": "code",
   "execution_count": null,
   "id": "1b25b1aa-c0ce-497e-8a3b-fb0934a0a5b8",
   "metadata": {
    "tags": []
   },
   "outputs": [],
   "source": [
    "stats_df.describe()"
   ]
  },
  {
   "cell_type": "code",
   "execution_count": null,
   "id": "fd2e999c-66c5-45f1-9b93-f916e35c2deb",
   "metadata": {
    "tags": []
   },
   "outputs": [],
   "source": [
    "stats_df['pct_majority'].hist()"
   ]
  },
  {
   "cell_type": "code",
   "execution_count": null,
   "id": "23a06169-37cb-4c55-9436-5b6dd2e3dbe0",
   "metadata": {
    "tags": []
   },
   "outputs": [],
   "source": [
    "stats_df['roberta'].hist()"
   ]
  },
  {
   "cell_type": "code",
   "execution_count": null,
   "id": "c2e8bc9e-fdd9-4c2c-a289-680464bb7c47",
   "metadata": {
    "tags": []
   },
   "outputs": [],
   "source": [
    "stats_df['scibert'].hist()"
   ]
  },
  {
   "cell_type": "code",
   "execution_count": null,
   "id": "e58f7dbb-6fb5-4fe0-82b0-2fa1acb1849c",
   "metadata": {
    "tags": []
   },
   "outputs": [],
   "source": [
    "stats_df['deberta'].hist()"
   ]
  },
  {
   "cell_type": "code",
   "execution_count": null,
   "id": "cf608bdc-f46c-4224-9dd9-cc69d2d5a045",
   "metadata": {
    "tags": []
   },
   "outputs": [],
   "source": [
    "stats_df['biomed_roberta'].hist()"
   ]
  },
  {
   "cell_type": "code",
   "execution_count": null,
   "id": "e335d9a5-2b3f-4c5b-86ad-64b22253115f",
   "metadata": {
    "tags": []
   },
   "outputs": [],
   "source": [
    "stats_df['all'].hist()"
   ]
  },
  {
   "cell_type": "code",
   "execution_count": null,
   "id": "ddd0fa43-53ac-4a07-967e-51e44b8b9c71",
   "metadata": {},
   "outputs": [],
   "source": []
  },
  {
   "cell_type": "code",
   "execution_count": null,
   "id": "33971d40-bdff-495e-9ab2-5b8d7e1d72db",
   "metadata": {},
   "outputs": [],
   "source": []
  },
  {
   "cell_type": "code",
   "execution_count": null,
   "id": "86752cdc-4dc5-4848-8c63-549c13286e79",
   "metadata": {},
   "outputs": [],
   "source": []
  },
  {
   "cell_type": "markdown",
   "id": "87cd608c-8f14-434f-b32e-ee11b9a142f0",
   "metadata": {},
   "source": [
    "# For local runs"
   ]
  },
  {
   "cell_type": "code",
   "execution_count": null,
   "id": "8c7d6fdb-4b9c-45cc-964b-3bfb66538e50",
   "metadata": {},
   "outputs": [],
   "source": [
    "base_folder = \"/Users/gayatri/Documents/Gayatri/US/Self projects/AI Competition/DAGPAP24/data\""
   ]
  },
  {
   "cell_type": "code",
   "execution_count": null,
   "id": "5a21ceaf-d851-4d83-8f31-e05c026eb32c",
   "metadata": {},
   "outputs": [],
   "source": [
    "dev_df = pd.read_parquet(base_folder + os.sep + 'dev_data.parquet', engine=\"fastparquet\")\n",
    "print(dev_df.shape)\n",
    "dev_df.head()"
   ]
  },
  {
   "cell_type": "code",
   "execution_count": null,
   "id": "df7f5441-2828-4747-9758-4a3cf718f0ef",
   "metadata": {},
   "outputs": [],
   "source": [
    "dev_df.columns"
   ]
  },
  {
   "cell_type": "code",
   "execution_count": null,
   "id": "b1ac76cf-982f-4d2a-9dfd-5913a2ecabfe",
   "metadata": {},
   "outputs": [],
   "source": []
  },
  {
   "cell_type": "code",
   "execution_count": null,
   "id": "7305abef-0565-48c5-8cc2-d28b189a437a",
   "metadata": {},
   "outputs": [],
   "source": [
    "merged = dev_df.copy(deep=True)\n",
    "\n",
    "for model in contesting_models:\n",
    "    model_df = pd.read_parquet(base_folder + os.sep + f'predictions_{model}.parquet', engine=\"fastparquet\")\n",
    "    model_df.rename(columns={'preds': f'{model}_preds'}, inplace=True)\n",
    "\n",
    "    merged = merged.merge(model_df, how='inner', left_index=True, right_index=True)\n",
    "    print(f\"Data shape after merging with {model} model {merged.shape}\")"
   ]
  },
  {
   "cell_type": "code",
   "execution_count": null,
   "id": "d4d75f13-2f46-4dca-9172-4459a974167c",
   "metadata": {},
   "outputs": [],
   "source": [
    "merged.head()"
   ]
  },
  {
   "cell_type": "code",
   "execution_count": null,
   "id": "e6293467-7e76-4c49-a78f-211674741910",
   "metadata": {},
   "outputs": [],
   "source": [
    "%%time\n",
    "max_pred_df = get_max_repeated_pred(merged)\n",
    "print(max_pred_df.shape)\n",
    "max_pred_df.isna().sum()"
   ]
  },
  {
   "cell_type": "code",
   "execution_count": null,
   "id": "3e71dd3e-88e6-45e5-bb95-ce2d5db1e6c5",
   "metadata": {},
   "outputs": [],
   "source": [
    "0.88/(0.87+0.88+0.89)"
   ]
  },
  {
   "cell_type": "code",
   "execution_count": null,
   "id": "7124c868-e0af-4283-8c06-af1c8c1563b5",
   "metadata": {},
   "outputs": [],
   "source": []
  },
  {
   "cell_type": "code",
   "execution_count": null,
   "id": "54a4173c-87c1-4ea8-88b9-b7f131fed1b1",
   "metadata": {},
   "outputs": [],
   "source": [
    "max_pred_df[['preds']].to_parquet(base_folder + os.sep + 'predictions_three_models_combined.parquet') # , engine=\"fastparquet\")"
   ]
  },
  {
   "cell_type": "code",
   "execution_count": null,
   "id": "d493d2de-5050-42ba-bf2e-2c8a4b7be95a",
   "metadata": {},
   "outputs": [],
   "source": [
    "merged.head()"
   ]
  },
  {
   "cell_type": "code",
   "execution_count": null,
   "id": "10137373-3487-468a-a7ee-d85430e0d0f9",
   "metadata": {},
   "outputs": [],
   "source": [
    "merged.to_csv(base_folder + os.sep + 'dev_majority_model_preds.csv')"
   ]
  },
  {
   "cell_type": "code",
   "execution_count": 98,
   "id": "dbd7ff62-6724-460d-ad2f-31de66a6889c",
   "metadata": {},
   "outputs": [],
   "source": [
    "merged.to_parquet(base_folder + os.sep + 'dev_majority_model_preds.parquet')"
   ]
  },
  {
   "cell_type": "code",
   "execution_count": null,
   "id": "8397aa1a-d080-4744-a34a-ca9807b20e26",
   "metadata": {},
   "outputs": [],
   "source": []
  },
  {
   "cell_type": "code",
   "execution_count": null,
   "id": "d325a81e-3f8f-45e8-b564-06ac3dee78d6",
   "metadata": {},
   "outputs": [],
   "source": []
  }
 ],
 "metadata": {
  "kernelspec": {
   "display_name": "conda_python3",
   "language": "python",
   "name": "conda_python3"
  },
  "language_info": {
   "codemirror_mode": {
    "name": "ipython",
    "version": 3
   },
   "file_extension": ".py",
   "mimetype": "text/x-python",
   "name": "python",
   "nbconvert_exporter": "python",
   "pygments_lexer": "ipython3",
   "version": "3.10.13"
  }
 },
 "nbformat": 4,
 "nbformat_minor": 5
}
