{
 "cells": [
  {
   "cell_type": "markdown",
   "id": "ed80b5b2-e96b-45c9-a319-c62c26a598f7",
   "metadata": {
    "tags": []
   },
   "source": [
    "## Model comparison script"
   ]
  },
  {
   "cell_type": "code",
   "execution_count": 80,
   "id": "3afb94af-8ad3-45ca-8258-a9463b9614a2",
   "metadata": {
    "tags": []
   },
   "outputs": [],
   "source": [
    "import pandas as pd\n",
    "import numpy as np\n",
    "import s3fs\n",
    "import pyarrow.parquet as pq\n",
    "import os\n",
    "import fastparquet\n",
    "import random\n",
    "import statistics\n",
    "import traceback\n",
    "import ast\n",
    "from collections import Counter\n",
    "import langchain\n",
    "import json\n",
    "from langchain.agents import create_openai_functions_agent\n",
    "from langchain_openai import ChatOpenAI\n",
    "from langchain_core.utils.function_calling import convert_to_openai_tool\n",
    "from langchain_core.messages import HumanMessage, SystemMessage\n",
    "from langchain_core.prompts import ChatPromptTemplate\n",
    "from langchain.output_parsers import ResponseSchema, StructuredOutputParser\n",
    "from langchain_core.output_parsers import JsonOutputParser\n",
    "from langchain_core.pydantic_v1 import BaseModel, Field\n",
    "from typing import Dict, List\n",
    "import re\n",
    "import string\n",
    "from openai import RateLimitError, BadRequestError\n",
    "import tiktoken\n",
    "from dotenv import load_dotenv\n",
    "import time\n",
    "import logging\n",
    "logger = logging.getLogger(__name__)\n",
    "from tqdm.auto import tqdm\n",
    "from tqdm import tqdm\n",
    "from tqdm.gui import tqdm as tqdm_gui\n",
    "from unittest.mock import patch\n",
    "load_dotenv(\"../_envvars.txt\")\n",
    "import os\n",
    "import httpx"
   ]
  },
  {
   "cell_type": "code",
   "execution_count": 86,
   "id": "99713d65-2819-41fc-a605-7f6fe057075e",
   "metadata": {
    "tags": []
   },
   "outputs": [],
   "source": [
    "request = httpx.Request(\"GET\", \"/\")\n",
    "response = httpx.Response(200, request=request)\n",
    "error_context_length = BadRequestError(\"context length exceeded\", response=response, body=\"\")\n",
    "error_rate_limit = RateLimitError(\"rate limit\",response=response,body=\"\")"
   ]
  },
  {
   "cell_type": "code",
   "execution_count": 79,
   "id": "f7563598-c037-490c-805b-1a0d1cf83cb8",
   "metadata": {
    "tags": []
   },
   "outputs": [
    {
     "data": {
      "text/plain": [
       "\u001b[0;31mInit signature:\u001b[0m\n",
       "\u001b[0mRateLimitError\u001b[0m\u001b[0;34m(\u001b[0m\u001b[0;34m\u001b[0m\n",
       "\u001b[0;34m\u001b[0m    \u001b[0mmessage\u001b[0m\u001b[0;34m:\u001b[0m \u001b[0;34m'str'\u001b[0m\u001b[0;34m,\u001b[0m\u001b[0;34m\u001b[0m\n",
       "\u001b[0;34m\u001b[0m    \u001b[0;34m*\u001b[0m\u001b[0;34m,\u001b[0m\u001b[0;34m\u001b[0m\n",
       "\u001b[0;34m\u001b[0m    \u001b[0mresponse\u001b[0m\u001b[0;34m:\u001b[0m \u001b[0;34m'httpx.Response'\u001b[0m\u001b[0;34m,\u001b[0m\u001b[0;34m\u001b[0m\n",
       "\u001b[0;34m\u001b[0m    \u001b[0mbody\u001b[0m\u001b[0;34m:\u001b[0m \u001b[0;34m'object | None'\u001b[0m\u001b[0;34m,\u001b[0m\u001b[0;34m\u001b[0m\n",
       "\u001b[0;34m\u001b[0m\u001b[0;34m)\u001b[0m \u001b[0;34m->\u001b[0m \u001b[0;34m'None'\u001b[0m\u001b[0;34m\u001b[0m\u001b[0;34m\u001b[0m\u001b[0m\n",
       "\u001b[0;31mDocstring:\u001b[0m      Raised when an API response has a status code of 4xx or 5xx.\n",
       "\u001b[0;31mFile:\u001b[0m           ~/anaconda3/envs/python3/lib/python3.10/site-packages/openai/__init__.py\n",
       "\u001b[0;31mType:\u001b[0m           type\n",
       "\u001b[0;31mSubclasses:\u001b[0m     "
      ]
     },
     "metadata": {},
     "output_type": "display_data"
    }
   ],
   "source": [
    "?RateLimitError"
   ]
  },
  {
   "cell_type": "code",
   "execution_count": 60,
   "id": "b04c2717-9adf-4aed-a2ae-2da1115dbcf2",
   "metadata": {
    "tags": []
   },
   "outputs": [],
   "source": [
    "s3 = s3fs.S3FileSystem()"
   ]
  },
  {
   "cell_type": "code",
   "execution_count": 61,
   "id": "0fb07215-c311-4e75-9c33-ee3390bec919",
   "metadata": {
    "tags": []
   },
   "outputs": [],
   "source": [
    "contesting_models = ['roberta', 'scibert', 'deberta', 'biomed_roberta', 'cs_roberta']"
   ]
  },
  {
   "cell_type": "code",
   "execution_count": 62,
   "id": "55ab3053-7ac3-4dc5-a807-56adcc0a8a3a",
   "metadata": {
    "tags": []
   },
   "outputs": [],
   "source": [
    "# TODO: Make changes in this cell after cs_roberta\n",
    "# Save the predictions_cs_roberta.parquet file to S3 dagpapsubmission\n",
    "\n",
    "total_score = (0.220629 + 0.22031 + 0.220398 + 0.2204659 + 0.2204 )\n",
    "model_scores = {'roberta': 0.22031, 'scibert': 0.220629, 'deberta': 0.220398, 'biomed_roberta': 0.2204659,'cs_roberta':  0.220459 }\n",
    "total_score = sum(list(map(lambda x:model_scores[x],list(model_scores.keys()))))\n",
    "model_weights = {\"scibert\": model_scores['scibert']/total_score,\n",
    "                 \"roberta\": model_scores['roberta']/total_score,\n",
    "                 \"deberta\": model_scores['deberta']/total_score,\n",
    "                 \"biomed_roberta\": model_scores['biomed_roberta']/total_score,\n",
    "                 \"cs_roberta\": model_scores['biomed_roberta']/total_score}"
   ]
  },
  {
   "cell_type": "code",
   "execution_count": 63,
   "id": "23bb6f78-0fd6-46cb-92be-c1161130fbc3",
   "metadata": {
    "tags": []
   },
   "outputs": [
    {
     "data": {
      "text/plain": [
       "{'scibert': 0.20016023415124842,\n",
       " 'roberta': 0.19987082924666089,\n",
       " 'deberta': 0.1999506650824092,\n",
       " 'biomed_roberta': 0.20001226568749222,\n",
       " 'cs_roberta': 0.20001226568749222}"
      ]
     },
     "execution_count": 63,
     "metadata": {},
     "output_type": "execute_result"
    }
   ],
   "source": [
    "model_weights"
   ]
  },
  {
   "cell_type": "code",
   "execution_count": 64,
   "id": "4bea9938-dcf0-4b0e-a824-05147807b1d4",
   "metadata": {
    "tags": []
   },
   "outputs": [],
   "source": [
    "# class_dict = {\"human\":0,\"NLTK_synonym_replacement\":1,\"chatgpt\":2,\"summarized\":3}\n",
    "# class_labels_list = [0, 1, 2, 3]"
   ]
  },
  {
   "cell_type": "code",
   "execution_count": null,
   "id": "1e052783-fda7-4928-a611-ed0885145141",
   "metadata": {},
   "outputs": [],
   "source": []
  },
  {
   "cell_type": "code",
   "execution_count": 65,
   "id": "7d61b236-6e09-46da-9eaf-c154416c1c25",
   "metadata": {
    "tags": []
   },
   "outputs": [],
   "source": [
    "def merge_model_predictions():\n",
    "    dev_df = pq.ParquetDataset('s3://dagpapsubmission/data/data_dev_data.parquet', filesystem=s3).read_pandas().to_pandas()\n",
    "    dev_df[\"tokens\"] = dev_df.tokens.map(lambda x:ast.literal_eval(x.decode()))\n",
    "    \n",
    "    for model in contesting_models:\n",
    "        model_df = pq.ParquetDataset(f's3://dagpapsubmission/predictions_{model}.parquet', filesystem=s3).read_pandas().to_pandas()\n",
    "        model_df.rename(columns={'preds': f'{model}_preds'}, inplace=True)\n",
    "        \n",
    "        dev_df = dev_df.merge(model_df, how='inner', left_index=True, right_index=True)\n",
    "        print(f\"Data shape after merging with {model} model {dev_df.shape}\")\n",
    "    \n",
    "    return dev_df"
   ]
  },
  {
   "cell_type": "code",
   "execution_count": 66,
   "id": "b1527e1f-0e9b-4cdf-abff-e50f670481f1",
   "metadata": {
    "tags": []
   },
   "outputs": [],
   "source": [
    "#Load MAG-FOS Taxonomy JSON for different fields of study\"\n",
    "with open('MAG_FOS.json',\"r+\") as f:\n",
    "    mag_fos_taxonomy = json.load(f)\n",
    "mag_fos_taxonomy\n",
    "major_fields_of_study = list(map(lambda x:x['field_of_study'],mag_fos_taxonomy[\"FOS\"]))\n",
    "major_fields_of_study_str = \",\".join(major_fields_of_study)\n",
    "sub_areas_within_major_field_of_study_list = list(map(lambda x:{x['field_of_study']:x['sub_fields']},mag_fos_taxonomy[\"FOS\"]))\n",
    "sub_areas_within_major_field_of_study = {list(fos.keys())[0]:fos[list(fos.keys())[0]] for fos in sub_areas_within_major_field_of_study_list}\n",
    "sub_areas_within_major_field_of_study_str = \"\\n\".join(f\"{k}:{v}\" for k,v in sub_areas_within_major_field_of_study.items())"
   ]
  },
  {
   "cell_type": "code",
   "execution_count": 67,
   "id": "94ecf6d5-fc8f-4d1f-b0b4-de79bdc9ac6f",
   "metadata": {
    "tags": []
   },
   "outputs": [],
   "source": [
    "#define Pydantic class for Structured output for article field of study\n",
    "class ArticleFieldOfStudy(BaseModel):\n",
    "    major_field_of_study: str = Field(description=\"The major field of study associated with the text of the article\")\n",
    "    sub_areas_within_major_field_of_study: List[str] = Field(description=\"A list sub areas within the major field of study associated with the text of the article\")\n",
    "    allied_field_of_study: List[str] = Field(description=\"List of other major fields of study associated with the text of the article\")    "
   ]
  },
  {
   "cell_type": "code",
   "execution_count": 68,
   "id": "3e5b3851-139b-4337-9348-fd14ee478716",
   "metadata": {
    "tags": []
   },
   "outputs": [],
   "source": [
    "article_fos_dict_schema = convert_to_openai_tool(ArticleFieldOfStudy)"
   ]
  },
  {
   "cell_type": "code",
   "execution_count": 69,
   "id": "5a49bfbb-a42d-459d-8a9d-e2a09a7f4bda",
   "metadata": {
    "tags": []
   },
   "outputs": [
    {
     "data": {
      "text/plain": [
       "[AIMessage(content='I am an AI language model created by OpenAI, known as ChatGPT. My model is based on the GPT (Generative Pre-trained Transformer) architecture. As of my last update, I am based on the GPT-4 version. If you have any questions or need assistance, feel free to ask!', response_metadata={'token_usage': {'completion_tokens': 65, 'prompt_tokens': 19, 'total_tokens': 84}, 'model_name': 'gpt-4-turbo-2024-04-09', 'system_fingerprint': 'fp_ea6eb70039', 'finish_reason': 'stop', 'logprobs': None}, id='run-c670d330-2f67-4b66-91dd-e4d5cfb1c4f9-0'),\n",
       " AIMessage(content='I am an AI digital assistant created by OpenAI. I do not have a specific model name or version as I am constantly being updated and improved by my developers.', response_metadata={'token_usage': {'completion_tokens': 33, 'prompt_tokens': 19, 'total_tokens': 52}, 'model_name': 'gpt-3.5-turbo-0125', 'system_fingerprint': 'fp_3b956da36b', 'finish_reason': 'stop', 'logprobs': None}, id='run-ad9d2a46-4b76-42e8-918a-7f3517ddf1c6-0')]"
      ]
     },
     "execution_count": 69,
     "metadata": {},
     "output_type": "execute_result"
    }
   ],
   "source": [
    "#Setup and test the LLM Instance for all tasks with respect to this analysis\n",
    "llm_models = ['gpt-4-turbo-2024-04-09', 'gpt-3.5-turbo-0125']\n",
    "llms = list(map(lambda x: ChatOpenAI(model=x, temperature=0, max_retries=0),llm_models))\n",
    "llm_tests = list(map(lambda x:x.invoke(\"who are you, give me your model name and version?\"),llms))\n",
    "llm_tests"
   ]
  },
  {
   "cell_type": "code",
   "execution_count": 12,
   "id": "c24c4a9c-0962-4a90-a800-3ae588900631",
   "metadata": {
    "tags": []
   },
   "outputs": [
    {
     "name": "stdout",
     "output_type": "stream",
     "text": [
      "Object ` llm.with_structured_output` not found.\n"
     ]
    }
   ],
   "source": [
    "? llm.with_structured_output"
   ]
  },
  {
   "cell_type": "code",
   "execution_count": 70,
   "id": "e3872acb-0b6a-48c9-8251-8090391cb4f5",
   "metadata": {
    "tags": []
   },
   "outputs": [],
   "source": [
    "#Create a ChatPromptTempate for executing \n",
    "system = f'''Given an input text from a scientific article identify relevant information about the text.\n",
    "            You can make use of the following major fields of study: {major_fields_of_study_str}\n",
    "            You can also make use of the following sub areas within each major field of study listed above: {sub_areas_within_major_field_of_study_str}\n",
    "         '''\n",
    "prompt = ChatPromptTemplate.from_messages(\n",
    "    [(\"system\", system), (\"human\", \"{input}\"),]\n",
    ")"
   ]
  },
  {
   "cell_type": "code",
   "execution_count": 71,
   "id": "52dc10be-dbd5-4132-9d02-31a5a7ac3d1e",
   "metadata": {
    "tags": []
   },
   "outputs": [
    {
     "data": {
      "text/plain": [
       "ChatPromptTemplate(input_variables=['input'], messages=[SystemMessagePromptTemplate(prompt=PromptTemplate(input_variables=[], template=\"Given an input text from a scientific article identify relevant information about the text.\\n            You can make use of the following major fields of study: Art,Biology,Business,Chemistry,Computer Science,Economics,Engineering,Environmental Science,Geography,Geology,History,Materials Science,Mathematics,Medicine,Philosophy,Physics,Political Science,Psychology,Sociology\\n            You can also make use of the following sub areas within each major field of study listed above: Art:['Aesthetics, Art History, Classics, Humanities, Literature, Visual Arts']\\nBiology:['Anatomy, Animal Science, Bioinformatics, Botany, Genetics, Immunology, Zoology']\\nBusiness:['Accounting, Actuarial Science, Commerce, Finance, International Trade, Marketing']\\nChemistry:['Biochemistry, Food Science, Mineralogy, Organic Chemistry, Radiochemistry']\\nComputer Science:['Algorithm, Artificial Intelligence, Database, Internet Privacy, Parallel Computing']\\nEconomics:['Accounting, International Trade, Management, Political Economy, Socioeconomics']\\nEngineering:['Aeronautics, Control Theory, Nuclear Engineering, Simulation, Systems-Engineering']\\nEnvironmental Science:['Agricultural Science, Agroforestry, Environmental Planning, Environmental Protection']\\nGeography:['Archaeology, Cartography, Forestry, Geodesy, Meteorology, Regional Science']\\nGeology:['Climatology, Earth Science, Geophysics, Hydrology, Oceanography, Petrology']\\nHistory:['Ancient History, Archaeology, Classics, Economic History, Ethnology, Genealogy']\\nMaterials Science:['Ceramic Materials, Composite Material, Metallurgy, Nanotechnology, Optoelectronics']\\nMathematics:['Algebra, Combinatorics, Geometry, Mathematical Optimization, Statistics, Topology']\\nMedicine:['Audiology, Cancer Research, Nursing, Orthodontics, Pediatrics, Surgery, Virology']\\nPhilosophy:['Aesthetics, Epistemology, Humanities, Linguistics, Religious Studies, Theology']\\nPhysics:['Astronomy, Geophysics, Nuclear Physics, Quantum Mechanics, Thermodynamics']\\nPolitical Science:['Law, Public Administration, Public Relations']\\nPsychology:['Cognitive Science, Criminology, Neuroscience, Psychiatry, Social Psychology']\\nSociology:['Anthropology, Demography, Ethnology, Gender Studies, Media Studies, Political Economy']\\n         \")), HumanMessagePromptTemplate(prompt=PromptTemplate(input_variables=['input'], template='{input}'))])\n",
       "| RunnableWithFallbacks(runnable=RunnableBinding(bound=ChatOpenAI(client=<openai.resources.chat.completions.Completions object at 0x7f370289dae0>, async_client=<openai.resources.chat.completions.AsyncCompletions object at 0x7f370289cbb0>, model_name='gpt-3.5-turbo-0125', temperature=0.0, openai_api_key=SecretStr('**********'), openai_proxy='', max_retries=0), kwargs={'tools': [{'type': 'function', 'function': {'name': 'ArticleFieldOfStudy', 'description': '', 'parameters': {'type': 'object', 'properties': {'major_field_of_study': {'description': 'The major field of study associated with the text of the article', 'type': 'string'}, 'sub_areas_within_major_field_of_study': {'description': 'A list sub areas within the major field of study associated with the text of the article', 'type': 'array', 'items': {'type': 'string'}}, 'allied_field_of_study': {'description': 'List of other major fields of study associated with the text of the article', 'type': 'array', 'items': {'type': 'string'}}}, 'required': ['major_field_of_study', 'sub_areas_within_major_field_of_study', 'allied_field_of_study']}}}], 'tool_choice': {'type': 'function', 'function': {'name': 'ArticleFieldOfStudy'}}})\n",
       "  | JsonOutputKeyToolsParser(first_tool_only=True, key_name='ArticleFieldOfStudy'), fallbacks=[RunnableBinding(bound=ChatOpenAI(client=<openai.resources.chat.completions.Completions object at 0x7f3702839990>, async_client=<openai.resources.chat.completions.AsyncCompletions object at 0x7f3702838b20>, model_name='gpt-4-turbo-2024-04-09', temperature=0.0, openai_api_key=SecretStr('**********'), openai_proxy='', max_retries=0), kwargs={'tools': [{'type': 'function', 'function': {'name': 'ArticleFieldOfStudy', 'description': '', 'parameters': {'type': 'object', 'properties': {'major_field_of_study': {'description': 'The major field of study associated with the text of the article', 'type': 'string'}, 'sub_areas_within_major_field_of_study': {'description': 'A list sub areas within the major field of study associated with the text of the article', 'type': 'array', 'items': {'type': 'string'}}, 'allied_field_of_study': {'description': 'List of other major fields of study associated with the text of the article', 'type': 'array', 'items': {'type': 'string'}}}, 'required': ['major_field_of_study', 'sub_areas_within_major_field_of_study', 'allied_field_of_study']}}}], 'tool_choice': {'type': 'function', 'function': {'name': 'ArticleFieldOfStudy'}}})\n",
       "  | JsonOutputKeyToolsParser(first_tool_only=True, key_name='ArticleFieldOfStudy')])"
      ]
     },
     "execution_count": 71,
     "metadata": {},
     "output_type": "execute_result"
    }
   ],
   "source": [
    "#construct structured LLMs from input LLMs\n",
    "structured_llms = list(map(lambda x:x.with_structured_output(article_fos_dict_schema),llms))\n",
    "structured_llm_with_fallback = structured_llms[1].with_fallbacks([structured_llms[0]])\n",
    "structured_article_fos_chains = prompt | structured_llm_with_fallback\n",
    "structured_article_fos_chains"
   ]
  },
  {
   "cell_type": "code",
   "execution_count": 15,
   "id": "6eebb681-483f-4e02-a237-f256f5a45d7b",
   "metadata": {
    "tags": []
   },
   "outputs": [],
   "source": [
    "def get_max_repeated_pred(input_df):\n",
    "    input_df['preds'] = None\n",
    "    input_df['majority_model'] = 'baseline'\n",
    "    input_df['majority_col'] = None\n",
    "    for index, row in input_df.iterrows():\n",
    "        combined_preds_max = [0] * len(row['tokens'])\n",
    "        majority_model_prediction = ['baseline'] * len(row['tokens'])\n",
    "        majority_col_val = [0] * len(row['tokens'])\n",
    "    \n",
    "        for i in range(len(row['tokens'])):\n",
    "            preds_data = [row['roberta_preds'][i], row['scibert_preds'][i], row['deberta_preds'][i],\n",
    "                              row['biomed_roberta_preds'][i], row['cs_roberta_preds'][i]]\n",
    "            \n",
    "            max_repeated = statistics.multimode(preds_data)\n",
    "            if len(max_repeated) != 1:\n",
    "                # Weighted avg\n",
    "                combined_preds_max[i] = random.choices(\n",
    "                    preds_data, weights=[model_weights['roberta'], model_weights['scibert'],\n",
    "                                         model_weights['deberta'], model_weights['biomed_roberta'], \n",
    "                                         model_weights['cs_roberta']],\n",
    "                    k=1)[0]\n",
    "                if combined_preds_max[i] == row['deberta_preds'][i]:\n",
    "                    majority_model_prediction[i] = 'deberta'\n",
    "                elif combined_preds_max[i] == row['biomed_roberta_preds'][i]:\n",
    "                    majority_model_prediction[i] = 'biomed_roberta'\n",
    "                elif combined_preds_max[i] == row['roberta_preds'][i]:\n",
    "                    majority_model_prediction[i] = 'roberta'\n",
    "                elif combined_preds_max[i] == row['cs_roberta_preds'][i]:\n",
    "                    majority_model_prediction[i] = 'cs_roberta'\n",
    "                else:\n",
    "                    majority_model_prediction[i] = 'scibert'\n",
    "                majority_col_val[i] = 0\n",
    "            else:\n",
    "                combined_preds_max[i] = max_repeated[0]\n",
    "                if (row['deberta_preds'][i] == row['biomed_roberta_preds'][i]) and \\\n",
    "                (row['roberta_preds'][i] == row['biomed_roberta_preds'][i]) and \\\n",
    "                (row['roberta_preds'][i] == row['scibert_preds'][i]) and \\\n",
    "                (row['deberta_preds'][i] == row['scibert_preds'][i]) and \\\n",
    "                (row['cs_roberta_preds'][i] == row['scibert_preds'][i]):\n",
    "                    majority_model_prediction[i] = 'all'\n",
    "                else:\n",
    "                    majority_model_prediction[i] = 'majority'\n",
    "                majority_col_val[i] = 1\n",
    "        input_df.at[index,'preds'] = combined_preds_max\n",
    "        input_df.at[index, 'majority_model'] = majority_model_prediction\n",
    "        input_df.at[index, 'majority_col'] = majority_col_val\n",
    "    return input_df"
   ]
  },
  {
   "cell_type": "code",
   "execution_count": null,
   "id": "7b410089-48e2-4585-be04-903b53b59c93",
   "metadata": {},
   "outputs": [],
   "source": []
  },
  {
   "cell_type": "code",
   "execution_count": null,
   "id": "deaed1a4-8e18-4240-93fc-8d64f9c3f620",
   "metadata": {},
   "outputs": [],
   "source": []
  },
  {
   "cell_type": "code",
   "execution_count": null,
   "id": "94fddd27-4516-495b-82f9-d57f68ff1586",
   "metadata": {},
   "outputs": [],
   "source": []
  },
  {
   "cell_type": "markdown",
   "id": "d7727375-d587-4776-ad77-b243d9490179",
   "metadata": {},
   "source": [
    "### Function calls to make the predictions and save the parquet file"
   ]
  },
  {
   "cell_type": "code",
   "execution_count": 16,
   "id": "8cb173fb-5f4b-4571-816b-846ea782749f",
   "metadata": {
    "tags": []
   },
   "outputs": [
    {
     "name": "stdout",
     "output_type": "stream",
     "text": [
      "Data shape after merging with roberta model (5000, 3)\n",
      "Data shape after merging with scibert model (5000, 4)\n",
      "Data shape after merging with deberta model (5000, 5)\n",
      "Data shape after merging with biomed_roberta model (5000, 6)\n",
      "Data shape after merging with cs_roberta model (5000, 7)\n",
      "CPU times: user 1min 48s, sys: 2.58 s, total: 1min 51s\n",
      "Wall time: 1min 56s\n"
     ]
    }
   ],
   "source": [
    "%%time\n",
    "merged_model_dev_predictions = merge_model_predictions()"
   ]
  },
  {
   "cell_type": "code",
   "execution_count": 17,
   "id": "1d210dc0-7b12-4134-9ea7-77c3043554b4",
   "metadata": {
    "tags": []
   },
   "outputs": [
    {
     "data": {
      "text/html": [
       "<div>\n",
       "<style scoped>\n",
       "    .dataframe tbody tr th:only-of-type {\n",
       "        vertical-align: middle;\n",
       "    }\n",
       "\n",
       "    .dataframe tbody tr th {\n",
       "        vertical-align: top;\n",
       "    }\n",
       "\n",
       "    .dataframe thead th {\n",
       "        text-align: right;\n",
       "    }\n",
       "</style>\n",
       "<table border=\"1\" class=\"dataframe\">\n",
       "  <thead>\n",
       "    <tr style=\"text-align: right;\">\n",
       "      <th></th>\n",
       "      <th>text</th>\n",
       "      <th>tokens</th>\n",
       "      <th>roberta_preds</th>\n",
       "      <th>scibert_preds</th>\n",
       "      <th>deberta_preds</th>\n",
       "      <th>biomed_roberta_preds</th>\n",
       "      <th>cs_roberta_preds</th>\n",
       "    </tr>\n",
       "    <tr>\n",
       "      <th>index</th>\n",
       "      <th></th>\n",
       "      <th></th>\n",
       "      <th></th>\n",
       "      <th></th>\n",
       "      <th></th>\n",
       "      <th></th>\n",
       "      <th></th>\n",
       "    </tr>\n",
       "  </thead>\n",
       "  <tbody>\n",
       "    <tr>\n",
       "      <th>12313</th>\n",
       "      <td>Phylogenetic networks are a generalization of ...</td>\n",
       "      <td>[Phylogenetic, networks, are, a, generalizatio...</td>\n",
       "      <td>[0, 0, 0, 0, 0, 0, 0, 0, 0, 0, 0, 0, 0, 0, 0, ...</td>\n",
       "      <td>[0, 0, 0, 0, 0, 0, 0, 0, 0, 0, 0, 0, 0, 0, 0, ...</td>\n",
       "      <td>[0, 0, 0, 0, 0, 0, 0, 0, 0, 0, 0, 0, 0, 0, 0, ...</td>\n",
       "      <td>[0, 0, 0, 0, 0, 0, 0, 0, 0, 0, 0, 0, 0, 0, 0, ...</td>\n",
       "      <td>[0, 0, 0, 0, 0, 0, 0, 0, 0, 0, 0, 0, 0, 0, 0, ...</td>\n",
       "    </tr>\n",
       "    <tr>\n",
       "      <th>3172</th>\n",
       "      <td>Prediction modelling is more closely aligned w...</td>\n",
       "      <td>[Prediction, modelling, is, more, closely, ali...</td>\n",
       "      <td>[0, 0, 0, 0, 0, 0, 0, 0, 0, 0, 0, 0, 0, 0, 0, ...</td>\n",
       "      <td>[0, 0, 0, 0, 0, 0, 0, 0, 0, 0, 0, 0, 0, 0, 0, ...</td>\n",
       "      <td>[0, 0, 0, 0, 0, 0, 0, 0, 0, 0, 0, 0, 0, 0, 0, ...</td>\n",
       "      <td>[0, 0, 0, 0, 0, 0, 0, 0, 0, 0, 0, 0, 0, 0, 0, ...</td>\n",
       "      <td>[0, 0, 0, 0, 0, 0, 0, 0, 0, 0, 0, 0, 0, 0, 0, ...</td>\n",
       "    </tr>\n",
       "    <tr>\n",
       "      <th>6451</th>\n",
       "      <td>The heat transfer exhibits the flow of heat (t...</td>\n",
       "      <td>[The, heat, transfer, exhibits, the, flow, of,...</td>\n",
       "      <td>[0, 0, 0, 0, 0, 0, 0, 0, 0, 0, 0, 0, 0, 0, 0, ...</td>\n",
       "      <td>[0, 0, 0, 0, 0, 0, 0, 0, 0, 0, 0, 0, 0, 0, 0, ...</td>\n",
       "      <td>[0, 0, 0, 0, 0, 0, 0, 0, 0, 0, 0, 0, 0, 0, 0, ...</td>\n",
       "      <td>[0, 0, 0, 0, 0, 0, 0, 0, 0, 0, 0, 0, 0, 0, 0, ...</td>\n",
       "      <td>[0, 0, 0, 0, 0, 0, 0, 0, 0, 0, 0, 0, 0, 0, 0, ...</td>\n",
       "    </tr>\n",
       "    <tr>\n",
       "      <th>4351</th>\n",
       "      <td>a common experience during superficial ultraso...</td>\n",
       "      <td>[a, common, experience, during, superficial, u...</td>\n",
       "      <td>[3, 3, 3, 3, 3, 3, 3, 3, 3, 3, 3, 3, 3, 3, 3, ...</td>\n",
       "      <td>[3, 0, 0, 0, 0, 0, 0, 0, 0, 0, 0, 3, 3, 3, 3, ...</td>\n",
       "      <td>[3, 3, 3, 3, 3, 3, 3, 3, 3, 3, 3, 3, 3, 3, 3, ...</td>\n",
       "      <td>[3, 3, 3, 3, 3, 3, 3, 3, 3, 3, 3, 3, 3, 3, 3, ...</td>\n",
       "      <td>[3, 3, 3, 3, 3, 3, 3, 3, 3, 3, 3, 3, 3, 3, 3, ...</td>\n",
       "    </tr>\n",
       "    <tr>\n",
       "      <th>22694</th>\n",
       "      <td>Code metadata Current code version v1.5.9 Perm...</td>\n",
       "      <td>[Code, metadata, Current, code, version, v1.5....</td>\n",
       "      <td>[0, 0, 0, 0, 0, 0, 0, 0, 0, 0, 0, 0, 0, 0, 0, ...</td>\n",
       "      <td>[0, 0, 0, 0, 0, 0, 0, 0, 0, 0, 0, 0, 0, 0, 0, ...</td>\n",
       "      <td>[0, 0, 0, 0, 0, 0, 0, 0, 0, 0, 0, 0, 0, 0, 0, ...</td>\n",
       "      <td>[0, 0, 0, 0, 0, 0, 0, 0, 0, 0, 0, 0, 0, 0, 0, ...</td>\n",
       "      <td>[0, 0, 0, 0, 0, 0, 0, 0, 0, 0, 0, 0, 0, 0, 0, ...</td>\n",
       "    </tr>\n",
       "  </tbody>\n",
       "</table>\n",
       "</div>"
      ],
      "text/plain": [
       "                                                    text  \\\n",
       "index                                                      \n",
       "12313  Phylogenetic networks are a generalization of ...   \n",
       "3172   Prediction modelling is more closely aligned w...   \n",
       "6451   The heat transfer exhibits the flow of heat (t...   \n",
       "4351   a common experience during superficial ultraso...   \n",
       "22694  Code metadata Current code version v1.5.9 Perm...   \n",
       "\n",
       "                                                  tokens  \\\n",
       "index                                                      \n",
       "12313  [Phylogenetic, networks, are, a, generalizatio...   \n",
       "3172   [Prediction, modelling, is, more, closely, ali...   \n",
       "6451   [The, heat, transfer, exhibits, the, flow, of,...   \n",
       "4351   [a, common, experience, during, superficial, u...   \n",
       "22694  [Code, metadata, Current, code, version, v1.5....   \n",
       "\n",
       "                                           roberta_preds  \\\n",
       "index                                                      \n",
       "12313  [0, 0, 0, 0, 0, 0, 0, 0, 0, 0, 0, 0, 0, 0, 0, ...   \n",
       "3172   [0, 0, 0, 0, 0, 0, 0, 0, 0, 0, 0, 0, 0, 0, 0, ...   \n",
       "6451   [0, 0, 0, 0, 0, 0, 0, 0, 0, 0, 0, 0, 0, 0, 0, ...   \n",
       "4351   [3, 3, 3, 3, 3, 3, 3, 3, 3, 3, 3, 3, 3, 3, 3, ...   \n",
       "22694  [0, 0, 0, 0, 0, 0, 0, 0, 0, 0, 0, 0, 0, 0, 0, ...   \n",
       "\n",
       "                                           scibert_preds  \\\n",
       "index                                                      \n",
       "12313  [0, 0, 0, 0, 0, 0, 0, 0, 0, 0, 0, 0, 0, 0, 0, ...   \n",
       "3172   [0, 0, 0, 0, 0, 0, 0, 0, 0, 0, 0, 0, 0, 0, 0, ...   \n",
       "6451   [0, 0, 0, 0, 0, 0, 0, 0, 0, 0, 0, 0, 0, 0, 0, ...   \n",
       "4351   [3, 0, 0, 0, 0, 0, 0, 0, 0, 0, 0, 3, 3, 3, 3, ...   \n",
       "22694  [0, 0, 0, 0, 0, 0, 0, 0, 0, 0, 0, 0, 0, 0, 0, ...   \n",
       "\n",
       "                                           deberta_preds  \\\n",
       "index                                                      \n",
       "12313  [0, 0, 0, 0, 0, 0, 0, 0, 0, 0, 0, 0, 0, 0, 0, ...   \n",
       "3172   [0, 0, 0, 0, 0, 0, 0, 0, 0, 0, 0, 0, 0, 0, 0, ...   \n",
       "6451   [0, 0, 0, 0, 0, 0, 0, 0, 0, 0, 0, 0, 0, 0, 0, ...   \n",
       "4351   [3, 3, 3, 3, 3, 3, 3, 3, 3, 3, 3, 3, 3, 3, 3, ...   \n",
       "22694  [0, 0, 0, 0, 0, 0, 0, 0, 0, 0, 0, 0, 0, 0, 0, ...   \n",
       "\n",
       "                                    biomed_roberta_preds  \\\n",
       "index                                                      \n",
       "12313  [0, 0, 0, 0, 0, 0, 0, 0, 0, 0, 0, 0, 0, 0, 0, ...   \n",
       "3172   [0, 0, 0, 0, 0, 0, 0, 0, 0, 0, 0, 0, 0, 0, 0, ...   \n",
       "6451   [0, 0, 0, 0, 0, 0, 0, 0, 0, 0, 0, 0, 0, 0, 0, ...   \n",
       "4351   [3, 3, 3, 3, 3, 3, 3, 3, 3, 3, 3, 3, 3, 3, 3, ...   \n",
       "22694  [0, 0, 0, 0, 0, 0, 0, 0, 0, 0, 0, 0, 0, 0, 0, ...   \n",
       "\n",
       "                                        cs_roberta_preds  \n",
       "index                                                     \n",
       "12313  [0, 0, 0, 0, 0, 0, 0, 0, 0, 0, 0, 0, 0, 0, 0, ...  \n",
       "3172   [0, 0, 0, 0, 0, 0, 0, 0, 0, 0, 0, 0, 0, 0, 0, ...  \n",
       "6451   [0, 0, 0, 0, 0, 0, 0, 0, 0, 0, 0, 0, 0, 0, 0, ...  \n",
       "4351   [3, 3, 3, 3, 3, 3, 3, 3, 3, 3, 3, 3, 3, 3, 3, ...  \n",
       "22694  [0, 0, 0, 0, 0, 0, 0, 0, 0, 0, 0, 0, 0, 0, 0, ...  "
      ]
     },
     "execution_count": 17,
     "metadata": {},
     "output_type": "execute_result"
    }
   ],
   "source": [
    "merged_model_dev_predictions.head()"
   ]
  },
  {
   "cell_type": "code",
   "execution_count": 73,
   "id": "24f51927-9e42-4f67-839a-f85d46c0d233",
   "metadata": {
    "tags": []
   },
   "outputs": [
    {
     "name": "stdout",
     "output_type": "stream",
     "text": [
      "CPU times: user 17.9 ms, sys: 0 ns, total: 17.9 ms\n",
      "Wall time: 1.03 s\n"
     ]
    },
    {
     "data": {
      "text/plain": [
       "{'major_field_of_study': 'Biology',\n",
       " 'sub_areas_within_major_field_of_study': ['Genetics', 'Bioinformatics'],\n",
       " 'allied_field_of_study': ['Computer Science', 'Mathematics']}"
      ]
     },
     "execution_count": 73,
     "metadata": {},
     "output_type": "execute_result"
    }
   ],
   "source": [
    "%%time\n",
    "input_text = merged_model_dev_predictions['text'].tolist()\n",
    "#outputs = list(map(lambda x:x.invoke({\"input\":input_text}),structured_article_fos_chains))\n",
    "chain = structured_article_fos_chains\n",
    "chain.invoke(input_text[0])"
   ]
  },
  {
   "cell_type": "code",
   "execution_count": 89,
   "id": "cead54cf-6ecb-42cc-b1ed-db9610871ea9",
   "metadata": {
    "tags": []
   },
   "outputs": [],
   "source": [
    "def populate_field_of_study(row):\n",
    "    print(f\"Processing Row {row.name}\")\n",
    "    LLM_MAX_LENGTH = os.getenv('LLM_MAX_LENGTH',16000)\n",
    "    LLM_MAX_LENGTH=int(LLM_MAX_LENGTH)\n",
    "    input_text = row['text']\n",
    "    try:\n",
    "        result = chain.invoke(input_text)\n",
    "    except RateLimitError:\n",
    "        delay = 30\n",
    "        print(f\"Rate Limit Error Encountered, sleeping for {delay} seconds\")\n",
    "        result = chain.invoke(input_text)\n",
    "        time.sleep(delay)\n",
    "    except BadRequestError:\n",
    "        print(f\"Bad Request Error Hit, adjusting input text length to accomodate model context\")\n",
    "        encoding = tiktoken.encoding_for_model(\"gpt-3.5-turbo\")\n",
    "        encoded_input_text = encoding.encode(input_text)\n",
    "        num_tokens = len(encoded_input_text)\n",
    "        if num_tokens > LLM_MAX_LENGTH:\n",
    "            clipped_input_text = encoding.decode(encoded_input_text[:LLM_MAX_LENGTH])    \n",
    "        result = chain.invoke(clipped_input_text)\n",
    "    return result"
   ]
  },
  {
   "cell_type": "code",
   "execution_count": null,
   "id": "5af8514e-0c37-47ac-a3ce-4143cec62a71",
   "metadata": {
    "tags": []
   },
   "outputs": [
    {
     "name": "stdout",
     "output_type": "stream",
     "text": [
      "Processing Row 12313\n",
      "Processing Row 3172\n",
      "Processing Row 6451\n",
      "Processing Row 4351\n",
      "Processing Row 22694\n",
      "Processing Row 23982\n",
      "Processing Row 3317\n",
      "Processing Row 13970\n",
      "Processing Row 2712\n",
      "Processing Row 1543\n",
      "Processing Row 6122\n",
      "Processing Row 9199\n",
      "Processing Row 9840\n",
      "Processing Row 20575\n",
      "Processing Row 24002\n",
      "Processing Row 5426\n",
      "Processing Row 11844\n",
      "Processing Row 977\n",
      "Processing Row 19530\n",
      "Processing Row 9490\n",
      "Processing Row 18434\n",
      "Processing Row 13922\n",
      "Processing Row 23317\n",
      "Processing Row 19650\n",
      "Processing Row 18977\n",
      "Processing Row 113\n",
      "Processing Row 18326\n",
      "Processing Row 21699\n",
      "Processing Row 3393\n",
      "Processing Row 23489\n",
      "Processing Row 16196\n",
      "Processing Row 12039\n",
      "Processing Row 16325\n",
      "Processing Row 21009\n",
      "Processing Row 14308\n",
      "Processing Row 19965\n",
      "Processing Row 12515\n",
      "Processing Row 7893\n",
      "Processing Row 4017\n",
      "Processing Row 4636\n",
      "Processing Row 6928\n",
      "Processing Row 4183\n",
      "Processing Row 22894\n",
      "Processing Row 3382\n",
      "Processing Row 24133\n",
      "Processing Row 22724\n",
      "Processing Row 23144\n",
      "Processing Row 11597\n",
      "Processing Row 5218\n",
      "Processing Row 17383\n",
      "Processing Row 16870\n",
      "Processing Row 16024\n",
      "Processing Row 22943\n",
      "Processing Row 23389\n",
      "Processing Row 21318\n",
      "Processing Row 13431\n",
      "Processing Row 9100\n",
      "Processing Row 6626\n",
      "Processing Row 4831\n",
      "Processing Row 15018\n",
      "Processing Row 23271\n",
      "Processing Row 3075\n",
      "Processing Row 10822\n",
      "Processing Row 12635\n",
      "Processing Row 5485\n",
      "Processing Row 1601\n",
      "Processing Row 11031\n",
      "Processing Row 2101\n",
      "Processing Row 11664\n",
      "Processing Row 15668\n",
      "Processing Row 14061\n",
      "Processing Row 8992\n",
      "Processing Row 7986\n",
      "Processing Row 5318\n",
      "Processing Row 6739\n",
      "Processing Row 8215\n",
      "Processing Row 9479\n",
      "Processing Row 19753\n",
      "Processing Row 2100\n",
      "Processing Row 7482\n",
      "Processing Row 6646\n",
      "Processing Row 20684\n",
      "Processing Row 17947\n",
      "Processing Row 8723\n",
      "Processing Row 13975\n",
      "Processing Row 6818\n",
      "Processing Row 20740\n",
      "Processing Row 3562\n",
      "Processing Row 15837\n",
      "Processing Row 3539\n",
      "Processing Row 3625\n",
      "Processing Row 19710\n",
      "Processing Row 23240\n",
      "Processing Row 5966\n",
      "Processing Row 5745\n",
      "Processing Row 15356\n",
      "Processing Row 2228\n",
      "Processing Row 7240\n",
      "Processing Row 16289\n",
      "Processing Row 16336\n",
      "Processing Row 11926\n",
      "Processing Row 23169\n",
      "Processing Row 21116\n",
      "Processing Row 4597\n",
      "Processing Row 23681\n",
      "Processing Row 2264\n",
      "Processing Row 2639\n",
      "Processing Row 5938\n",
      "Processing Row 20663\n",
      "Processing Row 7089\n",
      "Processing Row 7520\n",
      "Processing Row 22451\n",
      "Processing Row 7171\n",
      "Processing Row 12832\n",
      "Processing Row 24592\n",
      "Processing Row 12878\n",
      "Processing Row 12691\n",
      "Processing Row 10153\n",
      "Processing Row 7067\n",
      "Processing Row 12217\n",
      "Processing Row 6109\n",
      "Processing Row 8114\n",
      "Processing Row 16202\n",
      "Processing Row 975\n",
      "Processing Row 9320\n",
      "Processing Row 19037\n",
      "Processing Row 8379\n",
      "Processing Row 23123\n",
      "Processing Row 381\n",
      "Processing Row 11199\n",
      "Processing Row 21441\n",
      "Processing Row 536\n",
      "Processing Row 19252\n",
      "Processing Row 20596\n",
      "Processing Row 15299\n",
      "Processing Row 3048\n",
      "Processing Row 21503\n",
      "Processing Row 12700\n",
      "Processing Row 10441\n",
      "Processing Row 3834\n",
      "Processing Row 21351\n",
      "Processing Row 11321\n",
      "Processing Row 19628\n",
      "Processing Row 1325\n",
      "Processing Row 16824\n",
      "Processing Row 23472\n",
      "Processing Row 223\n",
      "Processing Row 22178\n",
      "Processing Row 17298\n",
      "Processing Row 6680\n",
      "Processing Row 6387\n",
      "Processing Row 23087\n",
      "Processing Row 5455\n",
      "Processing Row 12807\n",
      "Processing Row 7875\n",
      "Processing Row 226\n",
      "Processing Row 2338\n",
      "Processing Row 15592\n",
      "Processing Row 11365\n",
      "Processing Row 4726\n",
      "Processing Row 18071\n",
      "Processing Row 10741\n",
      "Processing Row 18943\n",
      "Processing Row 6820\n",
      "Processing Row 17199\n",
      "Processing Row 12146\n",
      "Processing Row 14166\n",
      "Processing Row 21696\n",
      "Processing Row 22985\n",
      "Processing Row 17224\n",
      "Processing Row 21501\n",
      "Processing Row 2130\n",
      "Processing Row 9599\n",
      "Processing Row 23383\n",
      "Processing Row 14304\n",
      "Processing Row 9271\n",
      "Processing Row 9732\n",
      "Processing Row 24673\n",
      "Processing Row 13230\n",
      "Processing Row 4133\n",
      "Processing Row 6279\n",
      "Processing Row 22008\n",
      "Processing Row 12791\n",
      "Processing Row 5610\n",
      "Processing Row 5913\n",
      "Processing Row 14788\n",
      "Processing Row 21954\n",
      "Processing Row 1057\n",
      "Processing Row 15302\n",
      "Processing Row 4833\n",
      "Processing Row 1113\n",
      "Processing Row 5207\n",
      "Processing Row 12678\n",
      "Processing Row 14844\n",
      "Processing Row 5721\n",
      "Processing Row 1302\n",
      "Processing Row 6477\n",
      "Processing Row 23707\n",
      "Processing Row 8545\n",
      "Processing Row 18441\n",
      "Processing Row 17255\n",
      "Processing Row 3685\n",
      "Processing Row 22100\n",
      "Processing Row 19879\n",
      "Processing Row 14009\n",
      "Processing Row 24569\n",
      "Processing Row 7904\n",
      "Processing Row 17144\n",
      "Processing Row 10646\n",
      "Processing Row 24001\n",
      "Processing Row 22842\n",
      "Processing Row 2207\n",
      "Processing Row 7989\n",
      "Processing Row 16316\n",
      "Processing Row 19271\n",
      "Processing Row 20252\n",
      "Processing Row 15122\n",
      "Processing Row 21448\n",
      "Processing Row 24395\n",
      "Processing Row 15700\n",
      "Processing Row 14793\n",
      "Processing Row 6121\n",
      "Processing Row 17055\n",
      "Processing Row 2134\n",
      "Processing Row 8047\n",
      "Processing Row 20287\n",
      "Processing Row 12590\n",
      "Processing Row 18955\n",
      "Processing Row 24935\n",
      "Processing Row 4395\n",
      "Processing Row 21506\n",
      "Processing Row 22895\n",
      "Processing Row 11372\n",
      "Processing Row 4836\n",
      "Processing Row 14757\n",
      "Processing Row 23286\n",
      "Processing Row 16625\n",
      "Processing Row 10924\n",
      "Processing Row 10349\n",
      "Processing Row 10832\n",
      "Processing Row 8079\n",
      "Processing Row 17536\n",
      "Processing Row 12607\n",
      "Processing Row 4380\n",
      "Processing Row 3853\n",
      "Processing Row 3311\n",
      "Processing Row 11247\n",
      "Processing Row 11730\n",
      "Processing Row 20801\n",
      "Processing Row 21457\n",
      "Processing Row 12885\n",
      "Processing Row 4737\n",
      "Processing Row 10807\n",
      "Processing Row 9749\n",
      "Processing Row 9174\n",
      "Processing Row 16465\n",
      "Processing Row 1700\n",
      "Processing Row 4458\n",
      "Processing Row 11966\n",
      "Processing Row 12296\n",
      "Processing Row 15901\n",
      "Processing Row 8164\n",
      "Processing Row 14990\n",
      "Processing Row 8609\n",
      "Processing Row 7619\n",
      "Processing Row 13840\n",
      "Processing Row 21830\n",
      "Processing Row 342\n",
      "Processing Row 18698\n",
      "Processing Row 3007\n",
      "Processing Row 18555\n",
      "Processing Row 4185\n",
      "Processing Row 18404\n",
      "Processing Row 4969\n",
      "Processing Row 9284\n",
      "Processing Row 20325\n",
      "Processing Row 11226\n",
      "Processing Row 23580\n",
      "Processing Row 17316\n",
      "Processing Row 15971\n",
      "Processing Row 3295\n",
      "Processing Row 14031\n",
      "Processing Row 3597\n",
      "Processing Row 12065\n",
      "Processing Row 9903\n",
      "Processing Row 18998\n",
      "Processing Row 22396\n",
      "Processing Row 11562\n",
      "Processing Row 24307\n",
      "Processing Row 13030\n",
      "Processing Row 8822\n",
      "Processing Row 20665\n",
      "Processing Row 1750\n",
      "Processing Row 5679\n",
      "Processing Row 24049\n",
      "Processing Row 18803\n",
      "Processing Row 17617\n",
      "Processing Row 21040\n",
      "Processing Row 22607\n",
      "Processing Row 10185\n",
      "Processing Row 15692\n",
      "Processing Row 13753\n",
      "Processing Row 1540\n",
      "Processing Row 20243\n",
      "Processing Row 1632\n",
      "Processing Row 19531\n",
      "Processing Row 13331\n",
      "Processing Row 1981\n",
      "Processing Row 2058\n",
      "Processing Row 9363\n",
      "Processing Row 11113\n",
      "Processing Row 12815\n",
      "Processing Row 24406\n",
      "Processing Row 14654\n",
      "Processing Row 20909\n",
      "Processing Row 8886\n",
      "Processing Row 1789\n",
      "Processing Row 366\n",
      "Processing Row 17376\n",
      "Processing Row 3188\n",
      "Processing Row 20669\n",
      "Processing Row 3443\n",
      "Processing Row 335\n",
      "Processing Row 19526\n",
      "Processing Row 22146\n",
      "Processing Row 2550\n",
      "Processing Row 11144\n",
      "Processing Row 19218\n",
      "Processing Row 5547\n",
      "Processing Row 18957\n",
      "Processing Row 11665\n",
      "Processing Row 11971\n",
      "Processing Row 16841\n",
      "Processing Row 3899\n",
      "Processing Row 3487\n",
      "Processing Row 2964\n",
      "Processing Row 9272\n",
      "Processing Row 16526\n",
      "Processing Row 11744\n",
      "Processing Row 4396\n",
      "Processing Row 15869\n",
      "Processing Row 5800\n",
      "Processing Row 5355\n",
      "Processing Row 35\n",
      "Processing Row 4676\n",
      "Processing Row 16856\n",
      "Processing Row 14480\n",
      "Processing Row 16287\n",
      "Processing Row 19958\n",
      "Processing Row 9122\n",
      "Processing Row 20964\n",
      "Processing Row 18283\n",
      "Processing Row 16585\n",
      "Processing Row 9703\n",
      "Processing Row 4616\n",
      "Processing Row 6016\n",
      "Processing Row 24363\n",
      "Processing Row 5505\n",
      "Processing Row 22026\n",
      "Processing Row 19986\n",
      "Processing Row 11810\n",
      "Processing Row 5126\n",
      "Processing Row 7683\n",
      "Processing Row 23066\n",
      "Processing Row 8621\n",
      "Processing Row 11222\n",
      "Processing Row 6274\n",
      "Processing Row 3892\n",
      "Processing Row 14130\n",
      "Processing Row 10270\n",
      "Processing Row 17711\n",
      "Processing Row 12227\n",
      "Processing Row 11457\n",
      "Processing Row 14407\n",
      "Processing Row 9228\n",
      "Processing Row 9640\n",
      "Processing Row 8521\n",
      "Processing Row 20641\n",
      "Processing Row 23338\n",
      "Processing Row 5640\n",
      "Processing Row 253\n",
      "Processing Row 3657\n",
      "Processing Row 7373\n",
      "Processing Row 12063\n",
      "Processing Row 633\n",
      "Processing Row 19772\n",
      "Processing Row 435\n",
      "Processing Row 16586\n",
      "Processing Row 19087\n",
      "Processing Row 821\n",
      "Processing Row 6416\n",
      "Processing Row 24769\n",
      "Processing Row 11224\n",
      "Processing Row 20487\n",
      "Processing Row 20039\n",
      "Processing Row 22401\n",
      "Processing Row 7384\n",
      "Processing Row 20032\n",
      "Processing Row 13601\n",
      "Processing Row 23461\n",
      "Processing Row 13358\n",
      "Processing Row 11963\n",
      "Processing Row 679\n",
      "Processing Row 5594\n",
      "Processing Row 22648\n",
      "Processing Row 18518\n",
      "Processing Row 21539\n",
      "Processing Row 4567\n",
      "Processing Row 14538\n",
      "Processing Row 17030\n",
      "Processing Row 10539\n",
      "Processing Row 11255\n",
      "Processing Row 19370\n",
      "Processing Row 21253\n",
      "Processing Row 10139\n",
      "Processing Row 9057\n",
      "Processing Row 20479\n",
      "Processing Row 13161\n",
      "Processing Row 22577\n",
      "Processing Row 15354\n",
      "Processing Row 16609\n",
      "Processing Row 10490\n",
      "Processing Row 10325\n",
      "Processing Row 21810\n",
      "Processing Row 11742\n",
      "Processing Row 24261\n",
      "Processing Row 11189\n",
      "Processing Row 11259\n",
      "Processing Row 2680\n",
      "Processing Row 2052\n",
      "Processing Row 14682\n",
      "Processing Row 7070\n",
      "Processing Row 21800\n",
      "Processing Row 13828\n",
      "Processing Row 15224\n",
      "Processing Row 19393\n",
      "Processing Row 17847\n",
      "Processing Row 12325\n",
      "Processing Row 21616\n",
      "Processing Row 24181\n",
      "Processing Row 20633\n",
      "Processing Row 20214\n",
      "Processing Row 24084\n",
      "Processing Row 17504\n",
      "Processing Row 18935\n",
      "Processing Row 19977\n",
      "Processing Row 15247\n",
      "Processing Row 20756\n",
      "Processing Row 8069\n",
      "Processing Row 18426\n",
      "Processing Row 22444\n",
      "Processing Row 5335\n",
      "Processing Row 17533\n",
      "Processing Row 23441\n",
      "Processing Row 3202\n",
      "Processing Row 8016\n",
      "Processing Row 4568\n",
      "Processing Row 8598\n",
      "Processing Row 23375\n",
      "Processing Row 23974\n",
      "Processing Row 2445\n",
      "Processing Row 7391\n",
      "Processing Row 4565\n",
      "Processing Row 18142\n",
      "Processing Row 2565\n",
      "Processing Row 10857\n",
      "Processing Row 21946\n",
      "Processing Row 22193\n",
      "Processing Row 1738\n",
      "Processing Row 7746\n",
      "Processing Row 19472\n",
      "Processing Row 1739\n",
      "Processing Row 460\n",
      "Processing Row 1922\n",
      "Processing Row 9762\n",
      "Processing Row 9352\n",
      "Processing Row 15405\n",
      "Processing Row 2397\n",
      "Processing Row 24238\n",
      "Processing Row 23792\n",
      "Processing Row 22136\n",
      "Processing Row 11578\n",
      "Processing Row 14225\n",
      "Processing Row 23492\n",
      "Processing Row 13888\n",
      "Processing Row 17217\n",
      "Processing Row 14919\n",
      "Processing Row 23608\n",
      "Processing Row 8274\n",
      "Processing Row 4443\n",
      "Processing Row 20349\n",
      "Processing Row 11001\n",
      "Processing Row 1978\n",
      "Processing Row 7506\n",
      "Processing Row 14350\n",
      "Processing Row 6861\n",
      "Processing Row 23351\n",
      "Processing Row 16361\n",
      "Processing Row 19321\n",
      "Processing Row 1505\n",
      "Processing Row 24083\n",
      "Processing Row 22279\n",
      "Processing Row 3030\n",
      "Processing Row 17843\n",
      "Processing Row 3241\n",
      "Processing Row 19116\n",
      "Processing Row 5328\n",
      "Processing Row 12083\n",
      "Processing Row 20393\n",
      "Processing Row 18809\n",
      "Processing Row 20041\n",
      "Processing Row 7350\n",
      "Processing Row 16131\n",
      "Processing Row 2105\n",
      "Processing Row 19519\n",
      "Processing Row 12088\n",
      "Processing Row 14079\n",
      "Processing Row 9226\n",
      "Processing Row 7582\n",
      "Processing Row 7143\n",
      "Processing Row 13078\n",
      "Processing Row 1577\n",
      "Processing Row 13240\n",
      "Processing Row 15682\n",
      "Processing Row 3647\n",
      "Processing Row 3613\n",
      "Processing Row 9547\n",
      "Processing Row 1668\n",
      "Processing Row 10685\n",
      "Processing Row 11327\n",
      "Processing Row 1470\n",
      "Processing Row 24194\n",
      "Processing Row 20987\n",
      "Processing Row 14700\n",
      "Processing Row 24119\n",
      "Processing Row 21087\n",
      "Processing Row 235\n",
      "Processing Row 16519\n",
      "Processing Row 2647\n",
      "Processing Row 21267\n",
      "Processing Row 5872\n",
      "Processing Row 12714\n",
      "Processing Row 2818\n",
      "Processing Row 396\n",
      "Processing Row 2584\n",
      "Processing Row 19893\n",
      "Processing Row 1566\n",
      "Processing Row 13045\n",
      "Processing Row 15699\n",
      "Processing Row 2989\n",
      "Processing Row 15851\n",
      "Processing Row 14237\n",
      "Processing Row 14338\n",
      "Processing Row 4226\n",
      "Processing Row 221\n",
      "Processing Row 7960\n",
      "Processing Row 8775\n",
      "Processing Row 5784\n",
      "Processing Row 16393\n",
      "Processing Row 1509\n",
      "Processing Row 23542\n",
      "Processing Row 13590\n",
      "Processing Row 14753\n",
      "Processing Row 6284\n",
      "Processing Row 11824\n",
      "Processing Row 24823\n",
      "Processing Row 2003\n",
      "Processing Row 13895\n",
      "Processing Row 11640\n",
      "Processing Row 17035\n",
      "Processing Row 13418\n",
      "Processing Row 64\n",
      "Processing Row 3634\n",
      "Processing Row 10269\n",
      "Processing Row 16910\n",
      "Processing Row 16789\n",
      "Processing Row 5739\n",
      "Processing Row 14073\n",
      "Processing Row 18506\n",
      "Processing Row 2705\n",
      "Processing Row 810\n",
      "Processing Row 17266\n",
      "Processing Row 11523\n",
      "Processing Row 14592\n",
      "Processing Row 17264\n",
      "Processing Row 11397\n",
      "Processing Row 20772\n",
      "Processing Row 10450\n",
      "Processing Row 4393\n",
      "Processing Row 20027\n",
      "Processing Row 4688\n",
      "Processing Row 522\n",
      "Processing Row 13005\n",
      "Processing Row 8777\n",
      "Processing Row 24284\n",
      "Processing Row 1042\n",
      "Processing Row 20631\n",
      "Processing Row 16530\n",
      "Processing Row 24645\n",
      "Processing Row 8175\n",
      "Processing Row 9696\n",
      "Processing Row 24108\n",
      "Processing Row 988\n",
      "Processing Row 19230\n",
      "Processing Row 17785\n",
      "Processing Row 4287\n",
      "Processing Row 2832\n",
      "Processing Row 15925\n",
      "Processing Row 20430\n",
      "Processing Row 4628\n",
      "Processing Row 13373\n",
      "Processing Row 7460\n",
      "Processing Row 23879\n",
      "Processing Row 24834\n",
      "Processing Row 185\n"
     ]
    }
   ],
   "source": [
    "%%time\n",
    "merged_model_dev_predictions[['major_field_of_study','sub_areas_within_major_field_of_study','allied_fields_of_study']] = merged_model_dev_predictions.apply(lambda x:populate_field_of_study(x),axis=1,result_type='expand')"
   ]
  },
  {
   "cell_type": "code",
   "execution_count": null,
   "id": "557b325f-8f00-4a5d-89ed-2cc016c28fa6",
   "metadata": {
    "tags": []
   },
   "outputs": [],
   "source": [
    "merged_model_dev_predictions.columns"
   ]
  },
  {
   "cell_type": "code",
   "execution_count": null,
   "id": "585d8a20-2995-482c-9331-17a29eef60ea",
   "metadata": {
    "tags": []
   },
   "outputs": [],
   "source": [
    "%%time\n",
    "majority_vote_df = get_max_repeated_pred(merged_model_dev_predictions)\n",
    "majority_vote_df.head()"
   ]
  },
  {
   "cell_type": "code",
   "execution_count": null,
   "id": "37934e13-041a-44ad-810a-b94d31975a7a",
   "metadata": {},
   "outputs": [],
   "source": [
    "majority_vote_df[['preds']].to_parquet('predictions_four_models.parquet')"
   ]
  },
  {
   "cell_type": "code",
   "execution_count": null,
   "id": "bc07a6ea-29d6-420f-930b-12c5a730f7fc",
   "metadata": {
    "tags": []
   },
   "outputs": [],
   "source": [
    "majority_vote_df.head()"
   ]
  },
  {
   "cell_type": "markdown",
   "id": "5de1a1ca-a626-48ea-8b6c-85020f0acf2a",
   "metadata": {},
   "source": [
    "# End here"
   ]
  },
  {
   "cell_type": "code",
   "execution_count": null,
   "id": "774b7721-2cbd-4408-a80b-b389802b76a2",
   "metadata": {},
   "outputs": [],
   "source": []
  },
  {
   "cell_type": "code",
   "execution_count": null,
   "id": "5d946faf-f677-4bb8-b98f-b46cf6d8be69",
   "metadata": {},
   "outputs": [],
   "source": []
  },
  {
   "cell_type": "code",
   "execution_count": null,
   "id": "dae70220-fbe1-40f3-8bc4-64c2469496cf",
   "metadata": {},
   "outputs": [],
   "source": []
  },
  {
   "cell_type": "markdown",
   "id": "e24b0a7e-0ffb-40ae-8f93-d9acf7699f4d",
   "metadata": {},
   "source": [
    "### Finding the stats about the majority column"
   ]
  },
  {
   "cell_type": "code",
   "execution_count": null,
   "id": "f4a28361-a0d4-40e2-869a-79a89756db9d",
   "metadata": {},
   "outputs": [],
   "source": [
    "def get_model_stats(row):\n",
    "    stats_dict = row['stats']\n",
    "    out_dict = {}\n",
    "    out_keys =  ['roberta', 'scibert', 'deberta', 'biomed_roberta',  'all']\n",
    "    out_dict = {key:stats_dict[key] if key in list(stats_dict.keys()) else 0 for key in out_keys}\n",
    "    \n",
    "    return out_dict"
   ]
  },
  {
   "cell_type": "code",
   "execution_count": null,
   "id": "f83d853f-687e-4707-9232-a891af78d934",
   "metadata": {
    "tags": []
   },
   "outputs": [],
   "source": [
    "majority_vote_df['stats'] = majority_vote_df[['majority_model']].map(lambda x: Counter(x))\n",
    "# majority_vote_df.head()"
   ]
  },
  {
   "cell_type": "code",
   "execution_count": null,
   "id": "51091ee3-4c35-4c7c-a2a6-05a6b2dd56ae",
   "metadata": {
    "tags": []
   },
   "outputs": [],
   "source": [
    "stats_df = majority_vote_df[['tokens', 'stats', 'majority_col']]\n",
    "stats_df.head()"
   ]
  },
  {
   "cell_type": "code",
   "execution_count": null,
   "id": "211da002-bae6-43bd-aba4-cf698c1edd53",
   "metadata": {
    "tags": []
   },
   "outputs": [],
   "source": [
    "stats_df['len_tokens'] = stats_df['tokens'].map(lambda x : len(x))\n",
    "stats_df.drop(columns=['tokens'], inplace=True)"
   ]
  },
  {
   "cell_type": "code",
   "execution_count": null,
   "id": "9169117c-bf02-4455-b53c-8ecc50825aba",
   "metadata": {
    "tags": []
   },
   "outputs": [],
   "source": [
    "stats_df['sum_majority'] = stats_df['majority_col'].map(lambda x : sum(x))"
   ]
  },
  {
   "cell_type": "code",
   "execution_count": null,
   "id": "188936a8-b6ba-42c1-9faf-3ad1d0fa61da",
   "metadata": {
    "tags": []
   },
   "outputs": [],
   "source": [
    "stats_df['sum_majority_not_all'] = stats_df['sum_majority'] - stats_df['all']\n",
    "stats_df.head()"
   ]
  },
  {
   "cell_type": "code",
   "execution_count": null,
   "id": "6c54fe52-7054-466a-9001-0a7ac59a96f2",
   "metadata": {
    "tags": []
   },
   "outputs": [],
   "source": [
    "stats_df['pct_majority'] = 100 * stats_df['sum_majority']/stats_df['len_tokens']"
   ]
  },
  {
   "cell_type": "code",
   "execution_count": null,
   "id": "c8354796-f934-4110-a11e-0e5c7229fc82",
   "metadata": {
    "tags": []
   },
   "outputs": [],
   "source": []
  },
  {
   "cell_type": "code",
   "execution_count": null,
   "id": "151631eb-d4fc-442f-af7b-bd3489f50175",
   "metadata": {
    "tags": []
   },
   "outputs": [],
   "source": [
    "stats_df[['roberta', 'scibert', 'deberta', 'biomed_roberta',  'all']] = stats_df.apply(\n",
    "    lambda x : get_model_stats(x), axis=1, result_type='expand')"
   ]
  },
  {
   "cell_type": "code",
   "execution_count": null,
   "id": "1b25b1aa-c0ce-497e-8a3b-fb0934a0a5b8",
   "metadata": {
    "tags": []
   },
   "outputs": [],
   "source": [
    "stats_df.describe()"
   ]
  },
  {
   "cell_type": "code",
   "execution_count": null,
   "id": "fd2e999c-66c5-45f1-9b93-f916e35c2deb",
   "metadata": {
    "tags": []
   },
   "outputs": [],
   "source": [
    "stats_df['pct_majority'].hist()"
   ]
  },
  {
   "cell_type": "code",
   "execution_count": null,
   "id": "23a06169-37cb-4c55-9436-5b6dd2e3dbe0",
   "metadata": {
    "tags": []
   },
   "outputs": [],
   "source": [
    "stats_df['roberta'].hist()"
   ]
  },
  {
   "cell_type": "code",
   "execution_count": null,
   "id": "c2e8bc9e-fdd9-4c2c-a289-680464bb7c47",
   "metadata": {
    "tags": []
   },
   "outputs": [],
   "source": [
    "stats_df['scibert'].hist()"
   ]
  },
  {
   "cell_type": "code",
   "execution_count": null,
   "id": "e58f7dbb-6fb5-4fe0-82b0-2fa1acb1849c",
   "metadata": {
    "tags": []
   },
   "outputs": [],
   "source": [
    "stats_df['deberta'].hist()"
   ]
  },
  {
   "cell_type": "code",
   "execution_count": null,
   "id": "cf608bdc-f46c-4224-9dd9-cc69d2d5a045",
   "metadata": {
    "tags": []
   },
   "outputs": [],
   "source": [
    "stats_df['biomed_roberta'].hist()"
   ]
  },
  {
   "cell_type": "code",
   "execution_count": null,
   "id": "e335d9a5-2b3f-4c5b-86ad-64b22253115f",
   "metadata": {
    "tags": []
   },
   "outputs": [],
   "source": [
    "stats_df['all'].hist()"
   ]
  },
  {
   "cell_type": "code",
   "execution_count": null,
   "id": "ddd0fa43-53ac-4a07-967e-51e44b8b9c71",
   "metadata": {},
   "outputs": [],
   "source": []
  },
  {
   "cell_type": "code",
   "execution_count": null,
   "id": "33971d40-bdff-495e-9ab2-5b8d7e1d72db",
   "metadata": {},
   "outputs": [],
   "source": []
  },
  {
   "cell_type": "code",
   "execution_count": null,
   "id": "86752cdc-4dc5-4848-8c63-549c13286e79",
   "metadata": {},
   "outputs": [],
   "source": []
  },
  {
   "cell_type": "markdown",
   "id": "87cd608c-8f14-434f-b32e-ee11b9a142f0",
   "metadata": {},
   "source": [
    "# For local runs"
   ]
  },
  {
   "cell_type": "code",
   "execution_count": null,
   "id": "8c7d6fdb-4b9c-45cc-964b-3bfb66538e50",
   "metadata": {},
   "outputs": [],
   "source": [
    "base_folder = \"/Users/gayatri/Documents/Gayatri/US/Self projects/AI Competition/DAGPAP24/data\""
   ]
  },
  {
   "cell_type": "code",
   "execution_count": null,
   "id": "5a21ceaf-d851-4d83-8f31-e05c026eb32c",
   "metadata": {},
   "outputs": [],
   "source": [
    "dev_df = pd.read_parquet(base_folder + os.sep + 'dev_data.parquet', engine=\"fastparquet\")\n",
    "print(dev_df.shape)\n",
    "dev_df.head()"
   ]
  },
  {
   "cell_type": "code",
   "execution_count": null,
   "id": "df7f5441-2828-4747-9758-4a3cf718f0ef",
   "metadata": {},
   "outputs": [],
   "source": [
    "dev_df.columns"
   ]
  },
  {
   "cell_type": "code",
   "execution_count": null,
   "id": "b1ac76cf-982f-4d2a-9dfd-5913a2ecabfe",
   "metadata": {},
   "outputs": [],
   "source": []
  },
  {
   "cell_type": "code",
   "execution_count": null,
   "id": "7305abef-0565-48c5-8cc2-d28b189a437a",
   "metadata": {},
   "outputs": [],
   "source": [
    "merged = dev_df.copy(deep=True)\n",
    "\n",
    "for model in contesting_models:\n",
    "    model_df = pd.read_parquet(base_folder + os.sep + f'predictions_{model}.parquet', engine=\"fastparquet\")\n",
    "    model_df.rename(columns={'preds': f'{model}_preds'}, inplace=True)\n",
    "\n",
    "    merged = merged.merge(model_df, how='inner', left_index=True, right_index=True)\n",
    "    print(f\"Data shape after merging with {model} model {merged.shape}\")"
   ]
  },
  {
   "cell_type": "code",
   "execution_count": null,
   "id": "d4d75f13-2f46-4dca-9172-4459a974167c",
   "metadata": {},
   "outputs": [],
   "source": [
    "merged.head()"
   ]
  },
  {
   "cell_type": "code",
   "execution_count": null,
   "id": "e6293467-7e76-4c49-a78f-211674741910",
   "metadata": {},
   "outputs": [],
   "source": [
    "%%time\n",
    "max_pred_df = get_max_repeated_pred(merged)\n",
    "print(max_pred_df.shape)\n",
    "max_pred_df.isna().sum()"
   ]
  },
  {
   "cell_type": "code",
   "execution_count": null,
   "id": "3e71dd3e-88e6-45e5-bb95-ce2d5db1e6c5",
   "metadata": {},
   "outputs": [],
   "source": [
    "0.88/(0.87+0.88+0.89)"
   ]
  },
  {
   "cell_type": "code",
   "execution_count": null,
   "id": "7124c868-e0af-4283-8c06-af1c8c1563b5",
   "metadata": {},
   "outputs": [],
   "source": []
  },
  {
   "cell_type": "code",
   "execution_count": null,
   "id": "54a4173c-87c1-4ea8-88b9-b7f131fed1b1",
   "metadata": {},
   "outputs": [],
   "source": [
    "max_pred_df[['preds']].to_parquet(base_folder + os.sep + 'predictions_three_models_combined.parquet') # , engine=\"fastparquet\")"
   ]
  },
  {
   "cell_type": "code",
   "execution_count": null,
   "id": "d493d2de-5050-42ba-bf2e-2c8a4b7be95a",
   "metadata": {},
   "outputs": [],
   "source": [
    "merged.head()"
   ]
  },
  {
   "cell_type": "code",
   "execution_count": null,
   "id": "10137373-3487-468a-a7ee-d85430e0d0f9",
   "metadata": {},
   "outputs": [],
   "source": [
    "merged.to_csv(base_folder + os.sep + 'dev_majority_model_preds.csv')"
   ]
  },
  {
   "cell_type": "code",
   "execution_count": null,
   "id": "dbd7ff62-6724-460d-ad2f-31de66a6889c",
   "metadata": {},
   "outputs": [],
   "source": [
    "merged.to_parquet(base_folder + os.sep + 'dev_majority_model_preds.parquet')"
   ]
  },
  {
   "cell_type": "code",
   "execution_count": null,
   "id": "8397aa1a-d080-4744-a34a-ca9807b20e26",
   "metadata": {},
   "outputs": [],
   "source": []
  },
  {
   "cell_type": "code",
   "execution_count": null,
   "id": "d325a81e-3f8f-45e8-b564-06ac3dee78d6",
   "metadata": {},
   "outputs": [],
   "source": []
  }
 ],
 "metadata": {
  "kernelspec": {
   "display_name": "conda_python3",
   "language": "python",
   "name": "conda_python3"
  },
  "language_info": {
   "codemirror_mode": {
    "name": "ipython",
    "version": 3
   },
   "file_extension": ".py",
   "mimetype": "text/x-python",
   "name": "python",
   "nbconvert_exporter": "python",
   "pygments_lexer": "ipython3",
   "version": "3.10.13"
  }
 },
 "nbformat": 4,
 "nbformat_minor": 5
}
